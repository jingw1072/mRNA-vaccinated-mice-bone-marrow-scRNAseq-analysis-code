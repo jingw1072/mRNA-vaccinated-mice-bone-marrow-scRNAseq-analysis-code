{
 "cells": [
  {
   "cell_type": "markdown",
   "id": "a7852fde",
   "metadata": {},
   "source": [
    "# Settings"
   ]
  },
  {
   "cell_type": "code",
   "execution_count": 1,
   "id": "1b0d2a24",
   "metadata": {
    "scrolled": true
   },
   "outputs": [
    {
     "data": {
      "text/html": [
       "TRUE"
      ],
      "text/latex": [
       "TRUE"
      ],
      "text/markdown": [
       "TRUE"
      ],
      "text/plain": [
       "[1] TRUE"
      ]
     },
     "metadata": {},
     "output_type": "display_data"
    },
    {
     "data": {
      "text/plain": [
       "Module(anndata)"
      ]
     },
     "metadata": {},
     "output_type": "display_data"
    },
    {
     "data": {
      "text/html": [
       "TRUE"
      ],
      "text/latex": [
       "TRUE"
      ],
      "text/markdown": [
       "TRUE"
      ],
      "text/plain": [
       "[1] TRUE"
      ]
     },
     "metadata": {},
     "output_type": "display_data"
    },
    {
     "data": {
      "text/plain": [
       "Module(leidenalg)"
      ]
     },
     "metadata": {},
     "output_type": "display_data"
    }
   ],
   "source": [
    "# Load Reticulate function\n",
    "Sys.setenv(RETICULATE_PYTHON=\"/home/luca/anaconda3/envs/reticulate/bin/python\")\n",
    "library(reticulate)\n",
    "reticulate::use_python(\"/home/luca/anaconda3/envs/reticulate/bin/python\")\n",
    "reticulate::use_condaenv(\"/home/luca/anaconda3/envs/reticulate\")\n",
    "reticulate::py_module_available(module='anndata') #needs to be TRUE\n",
    "reticulate::import('anndata') #good to make sure this doesn't error\n",
    "reticulate::py_module_available(module='leidenalg') #needs to be TRUE\n",
    "reticulate::import('leidenalg') #good to make sure this doesn't error"
   ]
  },
  {
   "cell_type": "code",
   "execution_count": 2,
   "id": "9d9502cb",
   "metadata": {},
   "outputs": [],
   "source": [
    "## Patch for annotations in R4.1\n",
    "# BiocManager::install(\"Bioconductor/GenomeInfoDb\",lib = \"/home/luca/R/x86_64-pc-linux-gnu-library/4.1\",force = TRUE)\n",
    "# library(GenomeInfoDb,lib.loc=\"/home/luca/R/x86_64-pc-linux-gnu-library/4.1\")"
   ]
  },
  {
   "cell_type": "code",
   "execution_count": 3,
   "id": "dadb788f",
   "metadata": {},
   "outputs": [],
   "source": [
    "# Load packages\n",
    "pacman::p_load(dplyr, stringr, data.table, tidyr, data.table, Matrix, tidyverse,\n",
    "               hdf5r, Seurat, Signac,harmony, knitr, SoupX, fgsea,\n",
    "               logr, parallel, DESeq2,\n",
    "               ggplot2, ggpubr, ggrepel, ggbreak, gridExtra, patchwork, grid, ggh4x)"
   ]
  },
  {
   "cell_type": "code",
   "execution_count": 5,
   "id": "844120b7",
   "metadata": {},
   "outputs": [],
   "source": [
    "# Set options\n",
    "options(stringsAsFactors = FALSE)\n",
    "warnLevel <- getOption('warn')\n",
    "options(warn = -1)\n",
    "opts_chunk$set(tidy=TRUE)"
   ]
  },
  {
   "cell_type": "code",
   "execution_count": 6,
   "id": "7db78da6",
   "metadata": {},
   "outputs": [],
   "source": [
    "# Set directories\n",
    "assets.dir = \"/nfs/lab/projects/COVID_mouse/assets/\"\n",
    "reference.dir = \"/nfs/lab/projects/COVID_mouse/assets/BoneMarrowReference.rds\"\n",
    "snRNAseq.dir = \"/nfs/lab/projects/COVID_mouse/seurat/5_clean.map/snRNAseq_mrg.clean.scTyped.rds\"\n",
    "\n",
    "reference.map.dir = \"/nfs/lab/projects/COVID_mouse/5_clean.map/\"\n",
    "counts.dir = paste0(reference.map.dir, \"Downstream_Files/RNA/perdonor/COUNTS/\")\n",
    "DESEQ.dir = paste0(reference.map.dir, \"DESEQ2/\")\n",
    "GSEA.res.dir = paste0(reference.map.dir, \"DESEQ2/GSEA/\")\n"
   ]
  },
  {
   "cell_type": "markdown",
   "id": "56d1b559",
   "metadata": {},
   "source": [
    "# DESeq2"
   ]
  },
  {
   "cell_type": "code",
   "execution_count": 7,
   "id": "9eb0be11",
   "metadata": {},
   "outputs": [
    {
     "data": {
      "text/html": [
       "<table class=\"dataframe\">\n",
       "<caption>A data.frame: 9 × 2</caption>\n",
       "<thead>\n",
       "\t<tr><th scope=col>donor</th><th scope=col>condition</th></tr>\n",
       "\t<tr><th scope=col>&lt;chr&gt;</th><th scope=col>&lt;chr&gt;</th></tr>\n",
       "</thead>\n",
       "<tbody>\n",
       "\t<tr><td>X1_GFP1 </td><td>GFP</td></tr>\n",
       "\t<tr><td>X2_GFP2 </td><td>GFP</td></tr>\n",
       "\t<tr><td>X3_GFP3 </td><td>GFP</td></tr>\n",
       "\t<tr><td>X4_RBD1 </td><td>RBD</td></tr>\n",
       "\t<tr><td>X5_RBD2 </td><td>RBD</td></tr>\n",
       "\t<tr><td>X6_RBD3 </td><td>RBD</td></tr>\n",
       "\t<tr><td>X10_G1C1</td><td>G1C</td></tr>\n",
       "\t<tr><td>X11_G1C2</td><td>G1C</td></tr>\n",
       "\t<tr><td>X12_G1C3</td><td>G1C</td></tr>\n",
       "</tbody>\n",
       "</table>\n"
      ],
      "text/latex": [
       "A data.frame: 9 × 2\n",
       "\\begin{tabular}{ll}\n",
       " donor & condition\\\\\n",
       " <chr> & <chr>\\\\\n",
       "\\hline\n",
       "\t X1\\_GFP1  & GFP\\\\\n",
       "\t X2\\_GFP2  & GFP\\\\\n",
       "\t X3\\_GFP3  & GFP\\\\\n",
       "\t X4\\_RBD1  & RBD\\\\\n",
       "\t X5\\_RBD2  & RBD\\\\\n",
       "\t X6\\_RBD3  & RBD\\\\\n",
       "\t X10\\_G1C1 & G1C\\\\\n",
       "\t X11\\_G1C2 & G1C\\\\\n",
       "\t X12\\_G1C3 & G1C\\\\\n",
       "\\end{tabular}\n"
      ],
      "text/markdown": [
       "\n",
       "A data.frame: 9 × 2\n",
       "\n",
       "| donor &lt;chr&gt; | condition &lt;chr&gt; |\n",
       "|---|---|\n",
       "| X1_GFP1  | GFP |\n",
       "| X2_GFP2  | GFP |\n",
       "| X3_GFP3  | GFP |\n",
       "| X4_RBD1  | RBD |\n",
       "| X5_RBD2  | RBD |\n",
       "| X6_RBD3  | RBD |\n",
       "| X10_G1C1 | G1C |\n",
       "| X11_G1C2 | G1C |\n",
       "| X12_G1C3 | G1C |\n",
       "\n"
      ],
      "text/plain": [
       "  donor    condition\n",
       "1 X1_GFP1  GFP      \n",
       "2 X2_GFP2  GFP      \n",
       "3 X3_GFP3  GFP      \n",
       "4 X4_RBD1  RBD      \n",
       "5 X5_RBD2  RBD      \n",
       "6 X6_RBD3  RBD      \n",
       "7 X10_G1C1 G1C      \n",
       "8 X11_G1C2 G1C      \n",
       "9 X12_G1C3 G1C      "
      ]
     },
     "metadata": {},
     "output_type": "display_data"
    }
   ],
   "source": [
    "# create metadata\n",
    "samples = c(\"1_GFP1\", \"2_GFP2\", \"3_GFP3\",\n",
    "           \"4_RBD1\", \"5_RBD2\", \"6_RBD3\",\n",
    "           \"10_G1C1\", \"11_G1C2\", \"12_G1C3\")\n",
    "\n",
    "# R doesn't like columns that have a number, and will add an \"X\", will do the same here\n",
    "samples = paste0(\"X\", samples)\n",
    "conditions = c(\"GFP\", \"GFP\", \"GFP\",\n",
    "             \"RBD\", \"RBD\", \"RBD\",\n",
    "             \"G1C\", \"G1C\", \"G1C\")\n",
    "meta = data.frame(donor = samples, condition = conditions)\n",
    "meta"
   ]
  },
  {
   "cell_type": "code",
   "execution_count": 8,
   "id": "82d70e0c",
   "metadata": {},
   "outputs": [],
   "source": [
    "#Pseudobulk matrices directory\n",
    "dir <- counts.dir\n",
    "#Create outdir for results\n",
    "outdir <- DESEQ.dir\n",
    "# dir.create(outdir)\n",
    "#Get list of pseudobulk files\n",
    "files <- list.files(dir, pattern='_perdonor.gex_SoupX.RNA.counts')\n",
    "#Cut off file suffices to get celltype names\n",
    "cells <- gsub('_perdonor.gex_SoupX.RNA.counts','', files) "
   ]
  },
  {
   "cell_type": "code",
   "execution_count": 9,
   "id": "deac6546",
   "metadata": {},
   "outputs": [
    {
     "data": {
      "text/html": [
       "<style>\n",
       ".list-inline {list-style: none; margin:0; padding: 0}\n",
       ".list-inline>li {display: inline-block}\n",
       ".list-inline>li:not(:last-child)::after {content: \"\\00b7\"; padding: 0 .5ex}\n",
       "</style>\n",
       "<ol class=list-inline><li>'B_cell_perdonor.gex_SoupX.RNA.counts'</li><li>'Dendritic_cells_perdonor.gex_SoupX.RNA.counts'</li><li>'Eo_Baso_prog._perdonor.gex_SoupX.RNA.counts'</li><li>'Ery_Mk_prog._perdonor.gex_SoupX.RNA.counts'</li><li>'Erythroblasts_perdonor.gex_SoupX.RNA.counts'</li><li>'Gran_Mono_prog._perdonor.gex_SoupX.RNA.counts'</li><li>'large_pre-B._perdonor.gex_SoupX.RNA.counts'</li><li>'LMPPs_perdonor.gex_SoupX.RNA.counts'</li><li>'Mk_prog._perdonor.gex_SoupX.RNA.counts'</li><li>'Mono_prog._perdonor.gex_SoupX.RNA.counts'</li><li>'Monocytes_perdonor.gex_SoupX.RNA.counts'</li><li>'Neutro_prog._perdonor.gex_SoupX.RNA.counts'</li><li>'Neutrophils_perdonor.gex_SoupX.RNA.counts'</li><li>'NK_cells_perdonor.gex_SoupX.RNA.counts'</li><li>'pro-B_perdonor.gex_SoupX.RNA.counts'</li><li>'small_pre-B._perdonor.gex_SoupX.RNA.counts'</li><li>'T_cells_perdonor.gex_SoupX.RNA.counts'</li></ol>\n"
      ],
      "text/latex": [
       "\\begin{enumerate*}\n",
       "\\item 'B\\_cell\\_perdonor.gex\\_SoupX.RNA.counts'\n",
       "\\item 'Dendritic\\_cells\\_perdonor.gex\\_SoupX.RNA.counts'\n",
       "\\item 'Eo\\_Baso\\_prog.\\_perdonor.gex\\_SoupX.RNA.counts'\n",
       "\\item 'Ery\\_Mk\\_prog.\\_perdonor.gex\\_SoupX.RNA.counts'\n",
       "\\item 'Erythroblasts\\_perdonor.gex\\_SoupX.RNA.counts'\n",
       "\\item 'Gran\\_Mono\\_prog.\\_perdonor.gex\\_SoupX.RNA.counts'\n",
       "\\item 'large\\_pre-B.\\_perdonor.gex\\_SoupX.RNA.counts'\n",
       "\\item 'LMPPs\\_perdonor.gex\\_SoupX.RNA.counts'\n",
       "\\item 'Mk\\_prog.\\_perdonor.gex\\_SoupX.RNA.counts'\n",
       "\\item 'Mono\\_prog.\\_perdonor.gex\\_SoupX.RNA.counts'\n",
       "\\item 'Monocytes\\_perdonor.gex\\_SoupX.RNA.counts'\n",
       "\\item 'Neutro\\_prog.\\_perdonor.gex\\_SoupX.RNA.counts'\n",
       "\\item 'Neutrophils\\_perdonor.gex\\_SoupX.RNA.counts'\n",
       "\\item 'NK\\_cells\\_perdonor.gex\\_SoupX.RNA.counts'\n",
       "\\item 'pro-B\\_perdonor.gex\\_SoupX.RNA.counts'\n",
       "\\item 'small\\_pre-B.\\_perdonor.gex\\_SoupX.RNA.counts'\n",
       "\\item 'T\\_cells\\_perdonor.gex\\_SoupX.RNA.counts'\n",
       "\\end{enumerate*}\n"
      ],
      "text/markdown": [
       "1. 'B_cell_perdonor.gex_SoupX.RNA.counts'\n",
       "2. 'Dendritic_cells_perdonor.gex_SoupX.RNA.counts'\n",
       "3. 'Eo_Baso_prog._perdonor.gex_SoupX.RNA.counts'\n",
       "4. 'Ery_Mk_prog._perdonor.gex_SoupX.RNA.counts'\n",
       "5. 'Erythroblasts_perdonor.gex_SoupX.RNA.counts'\n",
       "6. 'Gran_Mono_prog._perdonor.gex_SoupX.RNA.counts'\n",
       "7. 'large_pre-B._perdonor.gex_SoupX.RNA.counts'\n",
       "8. 'LMPPs_perdonor.gex_SoupX.RNA.counts'\n",
       "9. 'Mk_prog._perdonor.gex_SoupX.RNA.counts'\n",
       "10. 'Mono_prog._perdonor.gex_SoupX.RNA.counts'\n",
       "11. 'Monocytes_perdonor.gex_SoupX.RNA.counts'\n",
       "12. 'Neutro_prog._perdonor.gex_SoupX.RNA.counts'\n",
       "13. 'Neutrophils_perdonor.gex_SoupX.RNA.counts'\n",
       "14. 'NK_cells_perdonor.gex_SoupX.RNA.counts'\n",
       "15. 'pro-B_perdonor.gex_SoupX.RNA.counts'\n",
       "16. 'small_pre-B._perdonor.gex_SoupX.RNA.counts'\n",
       "17. 'T_cells_perdonor.gex_SoupX.RNA.counts'\n",
       "\n",
       "\n"
      ],
      "text/plain": [
       " [1] \"B_cell_perdonor.gex_SoupX.RNA.counts\"         \n",
       " [2] \"Dendritic_cells_perdonor.gex_SoupX.RNA.counts\"\n",
       " [3] \"Eo_Baso_prog._perdonor.gex_SoupX.RNA.counts\"  \n",
       " [4] \"Ery_Mk_prog._perdonor.gex_SoupX.RNA.counts\"   \n",
       " [5] \"Erythroblasts_perdonor.gex_SoupX.RNA.counts\"  \n",
       " [6] \"Gran_Mono_prog._perdonor.gex_SoupX.RNA.counts\"\n",
       " [7] \"large_pre-B._perdonor.gex_SoupX.RNA.counts\"   \n",
       " [8] \"LMPPs_perdonor.gex_SoupX.RNA.counts\"          \n",
       " [9] \"Mk_prog._perdonor.gex_SoupX.RNA.counts\"       \n",
       "[10] \"Mono_prog._perdonor.gex_SoupX.RNA.counts\"     \n",
       "[11] \"Monocytes_perdonor.gex_SoupX.RNA.counts\"      \n",
       "[12] \"Neutro_prog._perdonor.gex_SoupX.RNA.counts\"   \n",
       "[13] \"Neutrophils_perdonor.gex_SoupX.RNA.counts\"    \n",
       "[14] \"NK_cells_perdonor.gex_SoupX.RNA.counts\"       \n",
       "[15] \"pro-B_perdonor.gex_SoupX.RNA.counts\"          \n",
       "[16] \"small_pre-B._perdonor.gex_SoupX.RNA.counts\"   \n",
       "[17] \"T_cells_perdonor.gex_SoupX.RNA.counts\"        "
      ]
     },
     "metadata": {},
     "output_type": "display_data"
    },
    {
     "data": {
      "text/html": [
       "<style>\n",
       ".list-inline {list-style: none; margin:0; padding: 0}\n",
       ".list-inline>li {display: inline-block}\n",
       ".list-inline>li:not(:last-child)::after {content: \"\\00b7\"; padding: 0 .5ex}\n",
       "</style>\n",
       "<ol class=list-inline><li>'B_cell'</li><li>'Dendritic_cells'</li><li>'Eo_Baso_prog.'</li><li>'Ery_Mk_prog.'</li><li>'Erythroblasts'</li><li>'Gran_Mono_prog.'</li><li>'large_pre-B.'</li><li>'LMPPs'</li><li>'Mk_prog.'</li><li>'Mono_prog.'</li><li>'Monocytes'</li><li>'Neutro_prog.'</li><li>'Neutrophils'</li><li>'NK_cells'</li><li>'pro-B'</li><li>'small_pre-B.'</li><li>'T_cells'</li></ol>\n"
      ],
      "text/latex": [
       "\\begin{enumerate*}\n",
       "\\item 'B\\_cell'\n",
       "\\item 'Dendritic\\_cells'\n",
       "\\item 'Eo\\_Baso\\_prog.'\n",
       "\\item 'Ery\\_Mk\\_prog.'\n",
       "\\item 'Erythroblasts'\n",
       "\\item 'Gran\\_Mono\\_prog.'\n",
       "\\item 'large\\_pre-B.'\n",
       "\\item 'LMPPs'\n",
       "\\item 'Mk\\_prog.'\n",
       "\\item 'Mono\\_prog.'\n",
       "\\item 'Monocytes'\n",
       "\\item 'Neutro\\_prog.'\n",
       "\\item 'Neutrophils'\n",
       "\\item 'NK\\_cells'\n",
       "\\item 'pro-B'\n",
       "\\item 'small\\_pre-B.'\n",
       "\\item 'T\\_cells'\n",
       "\\end{enumerate*}\n"
      ],
      "text/markdown": [
       "1. 'B_cell'\n",
       "2. 'Dendritic_cells'\n",
       "3. 'Eo_Baso_prog.'\n",
       "4. 'Ery_Mk_prog.'\n",
       "5. 'Erythroblasts'\n",
       "6. 'Gran_Mono_prog.'\n",
       "7. 'large_pre-B.'\n",
       "8. 'LMPPs'\n",
       "9. 'Mk_prog.'\n",
       "10. 'Mono_prog.'\n",
       "11. 'Monocytes'\n",
       "12. 'Neutro_prog.'\n",
       "13. 'Neutrophils'\n",
       "14. 'NK_cells'\n",
       "15. 'pro-B'\n",
       "16. 'small_pre-B.'\n",
       "17. 'T_cells'\n",
       "\n",
       "\n"
      ],
      "text/plain": [
       " [1] \"B_cell\"          \"Dendritic_cells\" \"Eo_Baso_prog.\"   \"Ery_Mk_prog.\"   \n",
       " [5] \"Erythroblasts\"   \"Gran_Mono_prog.\" \"large_pre-B.\"    \"LMPPs\"          \n",
       " [9] \"Mk_prog.\"        \"Mono_prog.\"      \"Monocytes\"       \"Neutro_prog.\"   \n",
       "[13] \"Neutrophils\"     \"NK_cells\"        \"pro-B\"           \"small_pre-B.\"   \n",
       "[17] \"T_cells\"        "
      ]
     },
     "metadata": {},
     "output_type": "display_data"
    }
   ],
   "source": [
    "files\n",
    "cells"
   ]
  },
  {
   "cell_type": "code",
   "execution_count": 10,
   "id": "a85c99a2",
   "metadata": {},
   "outputs": [],
   "source": [
    "# List your contrasts  \n",
    "conditions.1 = c(\"G1C\", \"RBD\", \"G1C\") # disease\n",
    "conditions.2 = c(\"GFP\", \"GFP\", \"RBD\") # control\n",
    "contrasts = c(paste0(conditions.1, \"_vs_\", conditions.2))\n",
    "\n",
    "# Write your formual\n",
    "deseq.formula <- as.formula('~  condition') # last variable is the testing variable"
   ]
  },
  {
   "cell_type": "code",
   "execution_count": 37,
   "id": "d7687b85",
   "metadata": {
    "scrolled": true
   },
   "outputs": [
    {
     "name": "stdout",
     "output_type": "stream",
     "text": [
      "[1] \"Analyzing: B_cell\"\n"
     ]
    },
    {
     "name": "stderr",
     "output_type": "stream",
     "text": [
      "Donors detectected with celltype: 9\n",
      "\n",
      "subsetting metadata accordingly - Check that value is equal to above: 9\n",
      "\n",
      "  - G1C_vs_GFP\n",
      "\n",
      "converting counts to integer mode\n",
      "\n",
      "estimating size factors\n",
      "\n",
      "estimating dispersions\n",
      "\n",
      "gene-wise dispersion estimates\n",
      "\n",
      "mean-dispersion relationship\n",
      "\n",
      "final dispersion estimates\n",
      "\n",
      "fitting model and testing\n",
      "\n",
      "\u001b[1m\u001b[22mJoining with `by = join_by(SYMBOL)`\n",
      "  - RBD_vs_GFP\n",
      "\n",
      "converting counts to integer mode\n",
      "\n",
      "estimating size factors\n",
      "\n",
      "estimating dispersions\n",
      "\n",
      "gene-wise dispersion estimates\n",
      "\n",
      "mean-dispersion relationship\n",
      "\n",
      "final dispersion estimates\n",
      "\n",
      "fitting model and testing\n",
      "\n",
      "\u001b[1m\u001b[22mJoining with `by = join_by(SYMBOL)`\n",
      "  - G1C_vs_RBD\n",
      "\n",
      "converting counts to integer mode\n",
      "\n",
      "estimating size factors\n",
      "\n",
      "estimating dispersions\n",
      "\n",
      "gene-wise dispersion estimates\n",
      "\n",
      "mean-dispersion relationship\n",
      "\n",
      "final dispersion estimates\n",
      "\n",
      "fitting model and testing\n",
      "\n",
      "\u001b[1m\u001b[22mJoining with `by = join_by(SYMBOL)`\n"
     ]
    },
    {
     "name": "stdout",
     "output_type": "stream",
     "text": [
      "[1] \"Analyzing: Dendritic_cells\"\n"
     ]
    },
    {
     "name": "stderr",
     "output_type": "stream",
     "text": [
      "Donors detectected with celltype: 9\n",
      "\n",
      "subsetting metadata accordingly - Check that value is equal to above: 9\n",
      "\n",
      "  - G1C_vs_GFP\n",
      "\n",
      "converting counts to integer mode\n",
      "\n",
      "estimating size factors\n",
      "\n",
      "estimating dispersions\n",
      "\n",
      "gene-wise dispersion estimates\n",
      "\n",
      "mean-dispersion relationship\n",
      "\n",
      "final dispersion estimates\n",
      "\n",
      "fitting model and testing\n",
      "\n",
      "\u001b[1m\u001b[22mJoining with `by = join_by(SYMBOL)`\n",
      "  - RBD_vs_GFP\n",
      "\n",
      "converting counts to integer mode\n",
      "\n",
      "estimating size factors\n",
      "\n",
      "estimating dispersions\n",
      "\n",
      "gene-wise dispersion estimates\n",
      "\n",
      "mean-dispersion relationship\n",
      "\n",
      "final dispersion estimates\n",
      "\n",
      "fitting model and testing\n",
      "\n",
      "\u001b[1m\u001b[22mJoining with `by = join_by(SYMBOL)`\n",
      "  - G1C_vs_RBD\n",
      "\n",
      "converting counts to integer mode\n",
      "\n",
      "estimating size factors\n",
      "\n",
      "estimating dispersions\n",
      "\n",
      "gene-wise dispersion estimates\n",
      "\n",
      "mean-dispersion relationship\n",
      "\n",
      "final dispersion estimates\n",
      "\n",
      "fitting model and testing\n",
      "\n",
      "\u001b[1m\u001b[22mJoining with `by = join_by(SYMBOL)`\n"
     ]
    },
    {
     "name": "stdout",
     "output_type": "stream",
     "text": [
      "[1] \"Analyzing: Eo_Baso_prog.\"\n"
     ]
    },
    {
     "name": "stderr",
     "output_type": "stream",
     "text": [
      "Donors detectected with celltype: 9\n",
      "\n",
      "subsetting metadata accordingly - Check that value is equal to above: 9\n",
      "\n",
      "  - G1C_vs_GFP\n",
      "\n",
      "converting counts to integer mode\n",
      "\n",
      "estimating size factors\n",
      "\n",
      "estimating dispersions\n",
      "\n",
      "gene-wise dispersion estimates\n",
      "\n",
      "mean-dispersion relationship\n",
      "\n",
      "final dispersion estimates\n",
      "\n",
      "fitting model and testing\n",
      "\n",
      "\u001b[1m\u001b[22mJoining with `by = join_by(SYMBOL)`\n",
      "  - RBD_vs_GFP\n",
      "\n",
      "converting counts to integer mode\n",
      "\n",
      "estimating size factors\n",
      "\n",
      "estimating dispersions\n",
      "\n",
      "gene-wise dispersion estimates\n",
      "\n",
      "mean-dispersion relationship\n",
      "\n",
      "final dispersion estimates\n",
      "\n",
      "fitting model and testing\n",
      "\n",
      "\u001b[1m\u001b[22mJoining with `by = join_by(SYMBOL)`\n",
      "  - G1C_vs_RBD\n",
      "\n",
      "converting counts to integer mode\n",
      "\n",
      "estimating size factors\n",
      "\n",
      "estimating dispersions\n",
      "\n",
      "gene-wise dispersion estimates\n",
      "\n",
      "mean-dispersion relationship\n",
      "\n",
      "final dispersion estimates\n",
      "\n",
      "fitting model and testing\n",
      "\n",
      "\u001b[1m\u001b[22mJoining with `by = join_by(SYMBOL)`\n"
     ]
    },
    {
     "name": "stdout",
     "output_type": "stream",
     "text": [
      "[1] \"Analyzing: Ery_Mk_prog.\"\n"
     ]
    },
    {
     "name": "stderr",
     "output_type": "stream",
     "text": [
      "Donors detectected with celltype: 8\n",
      "\n",
      "subsetting metadata accordingly - Check that value is equal to above: 8\n",
      "\n",
      "  - G1C_vs_GFP\n",
      "\n",
      "converting counts to integer mode\n",
      "\n",
      "estimating size factors\n",
      "\n",
      "estimating dispersions\n",
      "\n",
      "gene-wise dispersion estimates\n",
      "\n",
      "mean-dispersion relationship\n",
      "\n",
      "final dispersion estimates\n",
      "\n",
      "fitting model and testing\n",
      "\n",
      "\u001b[1m\u001b[22mJoining with `by = join_by(SYMBOL)`\n",
      "  - RBD_vs_GFP\n",
      "\n",
      "converting counts to integer mode\n",
      "\n",
      "estimating size factors\n",
      "\n",
      "estimating dispersions\n",
      "\n",
      "gene-wise dispersion estimates\n",
      "\n",
      "mean-dispersion relationship\n",
      "\n",
      "final dispersion estimates\n",
      "\n",
      "fitting model and testing\n",
      "\n",
      "\u001b[1m\u001b[22mJoining with `by = join_by(SYMBOL)`\n",
      "  - G1C_vs_RBD\n",
      "\n",
      "converting counts to integer mode\n",
      "\n",
      "estimating size factors\n",
      "\n",
      "estimating dispersions\n",
      "\n",
      "gene-wise dispersion estimates\n",
      "\n",
      "mean-dispersion relationship\n",
      "\n",
      "final dispersion estimates\n",
      "\n",
      "fitting model and testing\n",
      "\n",
      "\u001b[1m\u001b[22mJoining with `by = join_by(SYMBOL)`\n"
     ]
    },
    {
     "name": "stdout",
     "output_type": "stream",
     "text": [
      "[1] \"Analyzing: Erythroblasts\"\n"
     ]
    },
    {
     "name": "stderr",
     "output_type": "stream",
     "text": [
      "Donors detectected with celltype: 7\n",
      "\n",
      "subsetting metadata accordingly - Check that value is equal to above: 7\n",
      "\n",
      "  - G1C_vs_GFP\n",
      "\n",
      "converting counts to integer mode\n",
      "\n",
      "estimating size factors\n",
      "\n",
      "estimating dispersions\n",
      "\n",
      "gene-wise dispersion estimates\n",
      "\n",
      "mean-dispersion relationship\n",
      "\n",
      "final dispersion estimates\n",
      "\n",
      "fitting model and testing\n",
      "\n",
      "\u001b[1m\u001b[22mJoining with `by = join_by(SYMBOL)`\n",
      "  - RBD_vs_GFP\n",
      "\n",
      "converting counts to integer mode\n",
      "\n",
      "estimating size factors\n",
      "\n",
      "estimating dispersions\n",
      "\n",
      "gene-wise dispersion estimates\n",
      "\n",
      "mean-dispersion relationship\n",
      "\n",
      "-- note: fitType='parametric', but the dispersion trend was not well captured by the\n",
      "   function: y = a/x + b, and a local regression fit was automatically substituted.\n",
      "   specify fitType='local' or 'mean' to avoid this message next time.\n",
      "\n",
      "final dispersion estimates\n",
      "\n",
      "fitting model and testing\n",
      "\n",
      "\u001b[1m\u001b[22mJoining with `by = join_by(SYMBOL)`\n",
      "  - G1C_vs_RBD\n",
      "\n",
      "converting counts to integer mode\n",
      "\n",
      "estimating size factors\n",
      "\n",
      "estimating dispersions\n",
      "\n",
      "gene-wise dispersion estimates\n",
      "\n",
      "mean-dispersion relationship\n",
      "\n",
      "final dispersion estimates\n",
      "\n",
      "fitting model and testing\n",
      "\n",
      "\u001b[1m\u001b[22mJoining with `by = join_by(SYMBOL)`\n"
     ]
    },
    {
     "name": "stdout",
     "output_type": "stream",
     "text": [
      "[1] \"Analyzing: Gran_Mono_prog.\"\n"
     ]
    },
    {
     "name": "stderr",
     "output_type": "stream",
     "text": [
      "Donors detectected with celltype: 9\n",
      "\n",
      "subsetting metadata accordingly - Check that value is equal to above: 9\n",
      "\n",
      "  - G1C_vs_GFP\n",
      "\n",
      "converting counts to integer mode\n",
      "\n",
      "estimating size factors\n",
      "\n",
      "estimating dispersions\n",
      "\n",
      "gene-wise dispersion estimates\n",
      "\n",
      "mean-dispersion relationship\n",
      "\n",
      "final dispersion estimates\n",
      "\n",
      "fitting model and testing\n",
      "\n",
      "\u001b[1m\u001b[22mJoining with `by = join_by(SYMBOL)`\n",
      "  - RBD_vs_GFP\n",
      "\n",
      "converting counts to integer mode\n",
      "\n",
      "estimating size factors\n",
      "\n",
      "estimating dispersions\n",
      "\n",
      "gene-wise dispersion estimates\n",
      "\n",
      "mean-dispersion relationship\n",
      "\n",
      "final dispersion estimates\n",
      "\n",
      "fitting model and testing\n",
      "\n",
      "\u001b[1m\u001b[22mJoining with `by = join_by(SYMBOL)`\n",
      "  - G1C_vs_RBD\n",
      "\n",
      "converting counts to integer mode\n",
      "\n",
      "estimating size factors\n",
      "\n",
      "estimating dispersions\n",
      "\n",
      "gene-wise dispersion estimates\n",
      "\n",
      "mean-dispersion relationship\n",
      "\n",
      "final dispersion estimates\n",
      "\n",
      "fitting model and testing\n",
      "\n",
      "\u001b[1m\u001b[22mJoining with `by = join_by(SYMBOL)`\n"
     ]
    },
    {
     "name": "stdout",
     "output_type": "stream",
     "text": [
      "[1] \"Analyzing: large_pre-B.\"\n"
     ]
    },
    {
     "name": "stderr",
     "output_type": "stream",
     "text": [
      "Donors detectected with celltype: 9\n",
      "\n",
      "subsetting metadata accordingly - Check that value is equal to above: 9\n",
      "\n",
      "  - G1C_vs_GFP\n",
      "\n",
      "converting counts to integer mode\n",
      "\n",
      "estimating size factors\n",
      "\n",
      "estimating dispersions\n",
      "\n",
      "gene-wise dispersion estimates\n",
      "\n",
      "mean-dispersion relationship\n",
      "\n",
      "final dispersion estimates\n",
      "\n",
      "fitting model and testing\n",
      "\n",
      "\u001b[1m\u001b[22mJoining with `by = join_by(SYMBOL)`\n",
      "  - RBD_vs_GFP\n",
      "\n",
      "converting counts to integer mode\n",
      "\n",
      "estimating size factors\n",
      "\n",
      "estimating dispersions\n",
      "\n",
      "gene-wise dispersion estimates\n",
      "\n",
      "mean-dispersion relationship\n",
      "\n",
      "final dispersion estimates\n",
      "\n",
      "fitting model and testing\n",
      "\n",
      "\u001b[1m\u001b[22mJoining with `by = join_by(SYMBOL)`\n",
      "  - G1C_vs_RBD\n",
      "\n",
      "converting counts to integer mode\n",
      "\n",
      "estimating size factors\n",
      "\n",
      "estimating dispersions\n",
      "\n",
      "gene-wise dispersion estimates\n",
      "\n",
      "mean-dispersion relationship\n",
      "\n",
      "final dispersion estimates\n",
      "\n",
      "fitting model and testing\n",
      "\n",
      "\u001b[1m\u001b[22mJoining with `by = join_by(SYMBOL)`\n"
     ]
    },
    {
     "name": "stdout",
     "output_type": "stream",
     "text": [
      "[1] \"Analyzing: LMPPs\"\n"
     ]
    },
    {
     "name": "stderr",
     "output_type": "stream",
     "text": [
      "Donors detectected with celltype: 9\n",
      "\n",
      "subsetting metadata accordingly - Check that value is equal to above: 9\n",
      "\n",
      "  - G1C_vs_GFP\n",
      "\n",
      "converting counts to integer mode\n",
      "\n",
      "estimating size factors\n",
      "\n",
      "estimating dispersions\n",
      "\n",
      "gene-wise dispersion estimates\n",
      "\n",
      "mean-dispersion relationship\n",
      "\n",
      "final dispersion estimates\n",
      "\n",
      "fitting model and testing\n",
      "\n",
      "\u001b[1m\u001b[22mJoining with `by = join_by(SYMBOL)`\n",
      "  - RBD_vs_GFP\n",
      "\n",
      "converting counts to integer mode\n",
      "\n",
      "estimating size factors\n",
      "\n",
      "estimating dispersions\n",
      "\n",
      "gene-wise dispersion estimates\n",
      "\n",
      "mean-dispersion relationship\n",
      "\n",
      "final dispersion estimates\n",
      "\n",
      "fitting model and testing\n",
      "\n",
      "\u001b[1m\u001b[22mJoining with `by = join_by(SYMBOL)`\n",
      "  - G1C_vs_RBD\n",
      "\n",
      "converting counts to integer mode\n",
      "\n",
      "estimating size factors\n",
      "\n",
      "estimating dispersions\n",
      "\n",
      "gene-wise dispersion estimates\n",
      "\n",
      "mean-dispersion relationship\n",
      "\n",
      "final dispersion estimates\n",
      "\n",
      "fitting model and testing\n",
      "\n",
      "\u001b[1m\u001b[22mJoining with `by = join_by(SYMBOL)`\n"
     ]
    },
    {
     "name": "stdout",
     "output_type": "stream",
     "text": [
      "[1] \"Analyzing: Mk_prog.\"\n"
     ]
    },
    {
     "name": "stderr",
     "output_type": "stream",
     "text": [
      "Donors detectected with celltype: 7\n",
      "\n",
      "subsetting metadata accordingly - Check that value is equal to above: 7\n",
      "\n",
      "  - G1C_vs_GFP\n",
      "\n",
      "converting counts to integer mode\n",
      "\n",
      "estimating size factors\n",
      "\n",
      "estimating dispersions\n",
      "\n",
      "gene-wise dispersion estimates\n",
      "\n",
      "mean-dispersion relationship\n",
      "\n",
      "final dispersion estimates\n",
      "\n",
      "fitting model and testing\n",
      "\n",
      "\u001b[1m\u001b[22mJoining with `by = join_by(SYMBOL)`\n",
      "  - RBD_vs_GFP\n",
      "\n",
      "converting counts to integer mode\n",
      "\n",
      "estimating size factors\n",
      "\n",
      "estimating dispersions\n",
      "\n",
      "gene-wise dispersion estimates\n",
      "\n",
      "mean-dispersion relationship\n",
      "\n",
      "final dispersion estimates\n",
      "\n",
      "fitting model and testing\n",
      "\n",
      "\u001b[1m\u001b[22mJoining with `by = join_by(SYMBOL)`\n",
      "  - G1C_vs_RBD\n",
      "\n",
      "converting counts to integer mode\n",
      "\n",
      "estimating size factors\n",
      "\n",
      "estimating dispersions\n",
      "\n",
      "gene-wise dispersion estimates\n",
      "\n",
      "mean-dispersion relationship\n",
      "\n",
      "final dispersion estimates\n",
      "\n",
      "fitting model and testing\n",
      "\n",
      "\u001b[1m\u001b[22mJoining with `by = join_by(SYMBOL)`\n"
     ]
    },
    {
     "name": "stdout",
     "output_type": "stream",
     "text": [
      "[1] \"Analyzing: Mono_prog.\"\n"
     ]
    },
    {
     "name": "stderr",
     "output_type": "stream",
     "text": [
      "Donors detectected with celltype: 9\n",
      "\n",
      "subsetting metadata accordingly - Check that value is equal to above: 9\n",
      "\n",
      "  - G1C_vs_GFP\n",
      "\n",
      "converting counts to integer mode\n",
      "\n",
      "estimating size factors\n",
      "\n",
      "estimating dispersions\n",
      "\n",
      "gene-wise dispersion estimates\n",
      "\n",
      "mean-dispersion relationship\n",
      "\n",
      "final dispersion estimates\n",
      "\n",
      "fitting model and testing\n",
      "\n",
      "\u001b[1m\u001b[22mJoining with `by = join_by(SYMBOL)`\n",
      "  - RBD_vs_GFP\n",
      "\n",
      "converting counts to integer mode\n",
      "\n",
      "estimating size factors\n",
      "\n",
      "estimating dispersions\n",
      "\n",
      "gene-wise dispersion estimates\n",
      "\n",
      "mean-dispersion relationship\n",
      "\n",
      "final dispersion estimates\n",
      "\n",
      "fitting model and testing\n",
      "\n",
      "\u001b[1m\u001b[22mJoining with `by = join_by(SYMBOL)`\n",
      "  - G1C_vs_RBD\n",
      "\n",
      "converting counts to integer mode\n",
      "\n",
      "estimating size factors\n",
      "\n",
      "estimating dispersions\n",
      "\n",
      "gene-wise dispersion estimates\n",
      "\n",
      "mean-dispersion relationship\n",
      "\n",
      "final dispersion estimates\n",
      "\n",
      "fitting model and testing\n",
      "\n",
      "\u001b[1m\u001b[22mJoining with `by = join_by(SYMBOL)`\n"
     ]
    },
    {
     "name": "stdout",
     "output_type": "stream",
     "text": [
      "[1] \"Analyzing: Monocytes\"\n"
     ]
    },
    {
     "name": "stderr",
     "output_type": "stream",
     "text": [
      "Donors detectected with celltype: 9\n",
      "\n",
      "subsetting metadata accordingly - Check that value is equal to above: 9\n",
      "\n",
      "  - G1C_vs_GFP\n",
      "\n",
      "converting counts to integer mode\n",
      "\n",
      "estimating size factors\n",
      "\n",
      "estimating dispersions\n",
      "\n",
      "gene-wise dispersion estimates\n",
      "\n",
      "mean-dispersion relationship\n",
      "\n",
      "final dispersion estimates\n",
      "\n",
      "fitting model and testing\n",
      "\n",
      "\u001b[1m\u001b[22mJoining with `by = join_by(SYMBOL)`\n",
      "  - RBD_vs_GFP\n",
      "\n",
      "converting counts to integer mode\n",
      "\n",
      "estimating size factors\n",
      "\n",
      "estimating dispersions\n",
      "\n",
      "gene-wise dispersion estimates\n",
      "\n",
      "mean-dispersion relationship\n",
      "\n",
      "final dispersion estimates\n",
      "\n",
      "fitting model and testing\n",
      "\n",
      "\u001b[1m\u001b[22mJoining with `by = join_by(SYMBOL)`\n",
      "  - G1C_vs_RBD\n",
      "\n",
      "converting counts to integer mode\n",
      "\n",
      "estimating size factors\n",
      "\n",
      "estimating dispersions\n",
      "\n",
      "gene-wise dispersion estimates\n",
      "\n",
      "mean-dispersion relationship\n",
      "\n",
      "final dispersion estimates\n",
      "\n",
      "fitting model and testing\n",
      "\n",
      "\u001b[1m\u001b[22mJoining with `by = join_by(SYMBOL)`\n"
     ]
    },
    {
     "name": "stdout",
     "output_type": "stream",
     "text": [
      "[1] \"Analyzing: Neutro_prog.\"\n"
     ]
    },
    {
     "name": "stderr",
     "output_type": "stream",
     "text": [
      "Donors detectected with celltype: 9\n",
      "\n",
      "subsetting metadata accordingly - Check that value is equal to above: 9\n",
      "\n",
      "  - G1C_vs_GFP\n",
      "\n",
      "converting counts to integer mode\n",
      "\n",
      "estimating size factors\n",
      "\n",
      "estimating dispersions\n",
      "\n",
      "gene-wise dispersion estimates\n",
      "\n",
      "mean-dispersion relationship\n",
      "\n",
      "final dispersion estimates\n",
      "\n",
      "fitting model and testing\n",
      "\n",
      "\u001b[1m\u001b[22mJoining with `by = join_by(SYMBOL)`\n",
      "  - RBD_vs_GFP\n",
      "\n",
      "converting counts to integer mode\n",
      "\n",
      "estimating size factors\n",
      "\n",
      "estimating dispersions\n",
      "\n",
      "gene-wise dispersion estimates\n",
      "\n",
      "mean-dispersion relationship\n",
      "\n",
      "final dispersion estimates\n",
      "\n",
      "fitting model and testing\n",
      "\n",
      "\u001b[1m\u001b[22mJoining with `by = join_by(SYMBOL)`\n",
      "  - G1C_vs_RBD\n",
      "\n",
      "converting counts to integer mode\n",
      "\n",
      "estimating size factors\n",
      "\n",
      "estimating dispersions\n",
      "\n",
      "gene-wise dispersion estimates\n",
      "\n",
      "mean-dispersion relationship\n",
      "\n",
      "final dispersion estimates\n",
      "\n",
      "fitting model and testing\n",
      "\n",
      "\u001b[1m\u001b[22mJoining with `by = join_by(SYMBOL)`\n"
     ]
    },
    {
     "name": "stdout",
     "output_type": "stream",
     "text": [
      "[1] \"Analyzing: Neutrophils\"\n"
     ]
    },
    {
     "name": "stderr",
     "output_type": "stream",
     "text": [
      "Donors detectected with celltype: 9\n",
      "\n",
      "subsetting metadata accordingly - Check that value is equal to above: 9\n",
      "\n",
      "  - G1C_vs_GFP\n",
      "\n",
      "converting counts to integer mode\n",
      "\n",
      "estimating size factors\n",
      "\n",
      "estimating dispersions\n",
      "\n",
      "gene-wise dispersion estimates\n",
      "\n",
      "mean-dispersion relationship\n",
      "\n",
      "final dispersion estimates\n",
      "\n",
      "fitting model and testing\n",
      "\n",
      "\u001b[1m\u001b[22mJoining with `by = join_by(SYMBOL)`\n",
      "  - RBD_vs_GFP\n",
      "\n",
      "converting counts to integer mode\n",
      "\n",
      "estimating size factors\n",
      "\n",
      "estimating dispersions\n",
      "\n",
      "gene-wise dispersion estimates\n",
      "\n",
      "mean-dispersion relationship\n",
      "\n",
      "final dispersion estimates\n",
      "\n",
      "fitting model and testing\n",
      "\n",
      "\u001b[1m\u001b[22mJoining with `by = join_by(SYMBOL)`\n",
      "  - G1C_vs_RBD\n",
      "\n",
      "converting counts to integer mode\n",
      "\n",
      "estimating size factors\n",
      "\n",
      "estimating dispersions\n",
      "\n",
      "gene-wise dispersion estimates\n",
      "\n",
      "mean-dispersion relationship\n",
      "\n",
      "final dispersion estimates\n",
      "\n",
      "fitting model and testing\n",
      "\n",
      "\u001b[1m\u001b[22mJoining with `by = join_by(SYMBOL)`\n"
     ]
    },
    {
     "name": "stdout",
     "output_type": "stream",
     "text": [
      "[1] \"Analyzing: NK_cells\"\n"
     ]
    },
    {
     "name": "stderr",
     "output_type": "stream",
     "text": [
      "Donors detectected with celltype: 9\n",
      "\n",
      "subsetting metadata accordingly - Check that value is equal to above: 9\n",
      "\n",
      "  - G1C_vs_GFP\n",
      "\n",
      "converting counts to integer mode\n",
      "\n",
      "estimating size factors\n",
      "\n",
      "estimating dispersions\n",
      "\n",
      "gene-wise dispersion estimates\n",
      "\n",
      "mean-dispersion relationship\n",
      "\n",
      "final dispersion estimates\n",
      "\n",
      "fitting model and testing\n",
      "\n",
      "\u001b[1m\u001b[22mJoining with `by = join_by(SYMBOL)`\n",
      "  - RBD_vs_GFP\n",
      "\n",
      "converting counts to integer mode\n",
      "\n",
      "estimating size factors\n",
      "\n",
      "estimating dispersions\n",
      "\n",
      "gene-wise dispersion estimates\n",
      "\n",
      "mean-dispersion relationship\n",
      "\n",
      "final dispersion estimates\n",
      "\n",
      "fitting model and testing\n",
      "\n",
      "\u001b[1m\u001b[22mJoining with `by = join_by(SYMBOL)`\n",
      "  - G1C_vs_RBD\n",
      "\n",
      "converting counts to integer mode\n",
      "\n",
      "estimating size factors\n",
      "\n",
      "estimating dispersions\n",
      "\n",
      "gene-wise dispersion estimates\n",
      "\n",
      "mean-dispersion relationship\n",
      "\n",
      "final dispersion estimates\n",
      "\n",
      "fitting model and testing\n",
      "\n",
      "\u001b[1m\u001b[22mJoining with `by = join_by(SYMBOL)`\n"
     ]
    },
    {
     "name": "stdout",
     "output_type": "stream",
     "text": [
      "[1] \"Analyzing: pro-B\"\n"
     ]
    },
    {
     "name": "stderr",
     "output_type": "stream",
     "text": [
      "Donors detectected with celltype: 9\n",
      "\n",
      "subsetting metadata accordingly - Check that value is equal to above: 9\n",
      "\n",
      "  - G1C_vs_GFP\n",
      "\n",
      "converting counts to integer mode\n",
      "\n",
      "estimating size factors\n",
      "\n",
      "estimating dispersions\n",
      "\n",
      "gene-wise dispersion estimates\n",
      "\n",
      "mean-dispersion relationship\n",
      "\n",
      "final dispersion estimates\n",
      "\n",
      "fitting model and testing\n",
      "\n",
      "\u001b[1m\u001b[22mJoining with `by = join_by(SYMBOL)`\n",
      "  - RBD_vs_GFP\n",
      "\n",
      "converting counts to integer mode\n",
      "\n",
      "estimating size factors\n",
      "\n",
      "estimating dispersions\n",
      "\n",
      "gene-wise dispersion estimates\n",
      "\n",
      "mean-dispersion relationship\n",
      "\n",
      "final dispersion estimates\n",
      "\n",
      "fitting model and testing\n",
      "\n",
      "\u001b[1m\u001b[22mJoining with `by = join_by(SYMBOL)`\n",
      "  - G1C_vs_RBD\n",
      "\n",
      "converting counts to integer mode\n",
      "\n",
      "estimating size factors\n",
      "\n",
      "estimating dispersions\n",
      "\n",
      "gene-wise dispersion estimates\n",
      "\n",
      "mean-dispersion relationship\n",
      "\n",
      "final dispersion estimates\n",
      "\n",
      "fitting model and testing\n",
      "\n",
      "\u001b[1m\u001b[22mJoining with `by = join_by(SYMBOL)`\n"
     ]
    },
    {
     "name": "stdout",
     "output_type": "stream",
     "text": [
      "[1] \"Analyzing: small_pre-B.\"\n"
     ]
    },
    {
     "name": "stderr",
     "output_type": "stream",
     "text": [
      "Donors detectected with celltype: 9\n",
      "\n",
      "subsetting metadata accordingly - Check that value is equal to above: 9\n",
      "\n",
      "  - G1C_vs_GFP\n",
      "\n",
      "converting counts to integer mode\n",
      "\n",
      "estimating size factors\n",
      "\n",
      "estimating dispersions\n",
      "\n",
      "gene-wise dispersion estimates\n",
      "\n",
      "mean-dispersion relationship\n",
      "\n",
      "final dispersion estimates\n",
      "\n",
      "fitting model and testing\n",
      "\n",
      "\u001b[1m\u001b[22mJoining with `by = join_by(SYMBOL)`\n",
      "  - RBD_vs_GFP\n",
      "\n",
      "converting counts to integer mode\n",
      "\n",
      "estimating size factors\n",
      "\n",
      "estimating dispersions\n",
      "\n",
      "gene-wise dispersion estimates\n",
      "\n",
      "mean-dispersion relationship\n",
      "\n",
      "final dispersion estimates\n",
      "\n",
      "fitting model and testing\n",
      "\n",
      "\u001b[1m\u001b[22mJoining with `by = join_by(SYMBOL)`\n",
      "  - G1C_vs_RBD\n",
      "\n",
      "converting counts to integer mode\n",
      "\n",
      "estimating size factors\n",
      "\n",
      "estimating dispersions\n",
      "\n",
      "gene-wise dispersion estimates\n",
      "\n",
      "mean-dispersion relationship\n",
      "\n",
      "final dispersion estimates\n",
      "\n",
      "fitting model and testing\n",
      "\n",
      "\u001b[1m\u001b[22mJoining with `by = join_by(SYMBOL)`\n"
     ]
    },
    {
     "name": "stdout",
     "output_type": "stream",
     "text": [
      "[1] \"Analyzing: T_cells\"\n"
     ]
    },
    {
     "name": "stderr",
     "output_type": "stream",
     "text": [
      "Donors detectected with celltype: 9\n",
      "\n",
      "subsetting metadata accordingly - Check that value is equal to above: 9\n",
      "\n",
      "  - G1C_vs_GFP\n",
      "\n",
      "converting counts to integer mode\n",
      "\n",
      "estimating size factors\n",
      "\n",
      "estimating dispersions\n",
      "\n",
      "gene-wise dispersion estimates\n",
      "\n",
      "mean-dispersion relationship\n",
      "\n",
      "final dispersion estimates\n",
      "\n",
      "fitting model and testing\n",
      "\n",
      "\u001b[1m\u001b[22mJoining with `by = join_by(SYMBOL)`\n",
      "  - RBD_vs_GFP\n",
      "\n",
      "converting counts to integer mode\n",
      "\n",
      "estimating size factors\n",
      "\n",
      "estimating dispersions\n",
      "\n",
      "gene-wise dispersion estimates\n",
      "\n",
      "mean-dispersion relationship\n",
      "\n",
      "final dispersion estimates\n",
      "\n",
      "fitting model and testing\n",
      "\n",
      "\u001b[1m\u001b[22mJoining with `by = join_by(SYMBOL)`\n",
      "  - G1C_vs_RBD\n",
      "\n",
      "converting counts to integer mode\n",
      "\n",
      "estimating size factors\n",
      "\n",
      "estimating dispersions\n",
      "\n",
      "gene-wise dispersion estimates\n",
      "\n",
      "mean-dispersion relationship\n",
      "\n",
      "final dispersion estimates\n",
      "\n",
      "fitting model and testing\n",
      "\n",
      "\u001b[1m\u001b[22mJoining with `by = join_by(SYMBOL)`\n"
     ]
    }
   ],
   "source": [
    "deseq.stats = NULL\n",
    "\n",
    "for (i in seq_along(files)) {\n",
    "    file.use = files[i]\n",
    "    cell.use = cells[i]\n",
    "    print(paste0(\"Analyzing: \", cell.use))\n",
    "    raw_counts <- read.table(paste0(dir, file.use), header = TRUE, row.names = 1)\n",
    "    # Filter for only samples with any counts in the cell type\n",
    "    raw_counts = raw_counts[, (colSums(raw_counts != 0) > 0)]\n",
    "    message(\"Donors detectected with celltype: \", ncol(raw_counts))\n",
    "    meta_cell <- subset(meta, donor %in% colnames(raw_counts))\n",
    "    rownames(meta_cell) = meta_cell$donor\n",
    "    message(\"subsetting metadata accordingly - Check that value is equal to above: \", nrow(meta_cell))\n",
    "    # Ensure that the column names of raw_counts are in the same order as the library identifiers in meta_cell\n",
    "    meta_cell <- meta_cell[match(colnames(raw_counts), rownames(meta_cell)), ]\n",
    "    \n",
    "    for (c.i in seq_along(contrasts)) {\n",
    "        contrast.use = contrasts[c.i]\n",
    "        condition.1 = conditions.1[c.i]\n",
    "        condition.2 = conditions.2[c.i]\n",
    "        message(\"  - \", contrast.use)\n",
    "\n",
    "        # Create vectors of samples for each condition\n",
    "        samples.condition.1 <- meta_cell %>% \n",
    "                               dplyr::filter(condition %in% condition.1) %>% \n",
    "                               pull(donor)\n",
    "        samples.condition.2 <- meta_cell %>% \n",
    "                               dplyr::filter(condition %in% condition.2) %>% \n",
    "                               pull(donor)\n",
    "        \n",
    "        # Subset meta_cell for the current contrast\n",
    "        meta_cell.use <- meta_cell %>% \n",
    "                     dplyr::filter(donor %in% c(samples.condition.1, samples.condition.2)) \n",
    "        rownames(meta_cell.use) <- meta_cell.use$donor\n",
    "        \n",
    "        # Subset raw_counts for the donors in meta_cell\n",
    "        raw_counts_subset <- raw_counts[, colnames(raw_counts) %in% rownames(meta_cell.use)]\n",
    "\n",
    "        # Ensure that the column names of raw_counts are in the same order as the library identifiers in meta_cell\n",
    "        meta_cell.use <- meta_cell.use[match(colnames(raw_counts_subset), rownames(meta_cell.use)), ]\n",
    "        \n",
    "        # Check if enough samples are present for both conditions\n",
    "        if (length(unique(meta_cell$condition)) >= 2) {\n",
    "            deseq.stats.tmp <- data.frame()\n",
    "            \n",
    "            # Light pre-filtering\n",
    "            counts_filtered <- raw_counts_subset[rowSums(raw_counts_subset) >= 10,]\n",
    "\n",
    "            # Run DESeq2\n",
    "            dds <- DESeqDataSetFromMatrix(countData = round(counts_filtered),\n",
    "                                          colData = meta_cell.use, \n",
    "                                          design = deseq.formula)\n",
    "            dds$condition <- relevel(dds$condition, ref = condition.2)\n",
    "            dds <- DESeq(dds)\n",
    "            dds.results <- results(dds)\n",
    "            dds.results <- na.omit(dds.results[order(dds.results$padj), ])\n",
    "\n",
    "            # Write DESeq results to file\n",
    "            write.table(dds.results, \n",
    "                        file = paste0(outdir, cell.use, \"_\", contrast.use, \".dds.res\"), \n",
    "                        sep = '\\t', quote = FALSE)\n",
    "            \n",
    "            # Collect summary statistics\n",
    "            deseq.stats.tmp <- data.frame(\n",
    "                celltype = cell.use,\n",
    "                contrast = contrast.use,\n",
    "                up_pval = sum(dds.results$log2FoldChange > 0 & dds.results$pvalue < 0.05),\n",
    "                down_pval = sum(dds.results$log2FoldChange < 0 & dds.results$pvalue < 0.05),\n",
    "                up_padj = sum(dds.results$log2FoldChange > 0 & dds.results$padj < 0.1),\n",
    "                down_padj = sum(dds.results$log2FoldChange < 0 & dds.results$padj < 0.1))\n",
    "                deseq.stats <- rbind(deseq.stats, deseq.stats.tmp)\n",
    "\n",
    "                           # Make Volcano plot - Padj\n",
    "                            res = as.data.frame(dds.results)\n",
    "                            res$SYMBOL = rownames(res)\n",
    "                            res = res %>%\n",
    "                            dplyr::filter(!is.na(SYMBOL)) %>%\n",
    "                            dplyr::filter(padj < 0.1) %>%\n",
    "                            dplyr::group_by(sign(log2FoldChange)) %>%\n",
    "                            dplyr::mutate(rank = abs(log2FoldChange) * -log10(padj)) %>%\n",
    "                            dplyr::top_n(50, rank) %>%\n",
    "                            dplyr::mutate(delabel = SYMBOL) %>%\n",
    "                            ungroup() %>%\n",
    "                            dplyr::select(delabel, SYMBOL) %>%\n",
    "                            right_join(res) %>%\n",
    "                            dplyr::mutate(delabel = if_else(is.na(delabel), \"\", as.character(delabel))) \n",
    "\n",
    "                            # Add a new column for color based on significance and direction\n",
    "                            res$changes <- ifelse(res$log2FoldChange > 0 & res$padj < 0.1, \"Up-regulated\",\n",
    "                                                ifelse(res$log2FoldChange < 0 & res$padj < 0.1, \"Down-regulated\", \"NS\"))\n",
    "                            # Get the number of upregulated and downregulated genes\n",
    "                            n_up <- sum(res$changes == \"Up-regulated\")\n",
    "                            n_down <- sum(res$changes == \"Down-regulated\")\n",
    "\n",
    "                            # Modify log2FoldChange values to be max x\n",
    "                            res$log2FoldChange[res$log2FoldChange > 10] <- 10\n",
    "                            res$log2FoldChange[res$log2FoldChange < -10] <- -10\n",
    "                            # Modify padj values to be max x \n",
    "                            res$padj[res$padj < 10^-200] <- 10^-200\n",
    "                    \n",
    "                            plot = ggplot(res, aes(x=log2FoldChange, y=-log10(padj), label=delabel, color=changes)) +\n",
    "                                theme_bw() +\n",
    "                                labs(y=\"-log10(padj)\", x=\"log2FoldChange\", \n",
    "                                   title=paste(cell.use, \" - \",\n",
    "                                               condition.1, \"Vs\", condition.2, \"\\n\",\n",
    "                                              \"Up: \", n_up, \"-\",\n",
    "                                               \"Down: \", n_down)) +\n",
    "                                geom_point() +\n",
    "                                scale_color_manual(values=c(\"blue\", \"grey\", \"red\")) + \n",
    "                                theme(axis.text=element_text(size=16), axis.title=element_text(size=16, face=\"bold\"),\n",
    "                                    axis.text.x=element_text(), plot.title=element_text(size=18, face=\"bold\", hjust=0.5)) +\n",
    "                                scale_x_continuous(breaks=c(-10, -5, 0, 5, 10),\n",
    "                                            labels=c(\"< -10\", \"-5\", \"0\", \"5\", \"> 10\"), lim = c(-10, 10))+\n",
    "                                scale_y_continuous(breaks=c(0, 20, 40, 60, 80, 100, 200),\n",
    "                                            labels=c(\"0\", \"20\", \"40\", \"60\", \"80\", \"100\", \">200\"))+\n",
    "                                geom_text_repel(label=res$delabel, size=3.5, max.overlaps=10,\n",
    "                                              point.padding=0, min.segment.length=0,\n",
    "                                              max.time=20, max.iter=1e5, box.padding=0.3)\n",
    "                    \n",
    "                            ggsave(filename = paste0(outdir, cell.use, \"_\", contrast.use, \".volcanoPlot.pdf\"),\n",
    "                                   height = 10, width = 10,\n",
    "                                   plot = plot, device = \"pdf\")\n",
    "        } else {\n",
    "            message(\"Not enough samples for contrast: \", contrast.use)\n",
    "        }\n",
    "    }\n",
    "}"
   ]
  },
  {
   "cell_type": "code",
   "execution_count": 38,
   "id": "53231497",
   "metadata": {
    "scrolled": true
   },
   "outputs": [
    {
     "data": {
      "text/html": [
       "<table class=\"dataframe\">\n",
       "<caption>A data.frame: 51 × 6</caption>\n",
       "<thead>\n",
       "\t<tr><th scope=col>celltype</th><th scope=col>contrast</th><th scope=col>up_pval</th><th scope=col>down_pval</th><th scope=col>up_padj</th><th scope=col>down_padj</th></tr>\n",
       "\t<tr><th scope=col>&lt;chr&gt;</th><th scope=col>&lt;chr&gt;</th><th scope=col>&lt;int&gt;</th><th scope=col>&lt;int&gt;</th><th scope=col>&lt;int&gt;</th><th scope=col>&lt;int&gt;</th></tr>\n",
       "</thead>\n",
       "<tbody>\n",
       "\t<tr><td>B_cell         </td><td>G1C_vs_GFP</td><td> 247</td><td> 348</td><td>  18</td><td>  39</td></tr>\n",
       "\t<tr><td>B_cell         </td><td>RBD_vs_GFP</td><td>  84</td><td> 199</td><td>   0</td><td>   7</td></tr>\n",
       "\t<tr><td>B_cell         </td><td>G1C_vs_RBD</td><td> 339</td><td> 172</td><td>  35</td><td>   8</td></tr>\n",
       "\t<tr><td>Dendritic_cells</td><td>G1C_vs_GFP</td><td> 459</td><td> 320</td><td>  66</td><td>  30</td></tr>\n",
       "\t<tr><td>Dendritic_cells</td><td>RBD_vs_GFP</td><td> 644</td><td> 812</td><td> 166</td><td> 304</td></tr>\n",
       "\t<tr><td>Dendritic_cells</td><td>G1C_vs_RBD</td><td>1321</td><td>1177</td><td> 945</td><td> 694</td></tr>\n",
       "\t<tr><td>Eo_Baso_prog.  </td><td>G1C_vs_GFP</td><td> 101</td><td> 111</td><td>   3</td><td>   3</td></tr>\n",
       "\t<tr><td>Eo_Baso_prog.  </td><td>RBD_vs_GFP</td><td>  30</td><td>  23</td><td>   0</td><td>   0</td></tr>\n",
       "\t<tr><td>Eo_Baso_prog.  </td><td>G1C_vs_RBD</td><td>  75</td><td>  78</td><td>   4</td><td>   1</td></tr>\n",
       "\t<tr><td>Ery_Mk_prog.   </td><td>G1C_vs_GFP</td><td>  33</td><td>   4</td><td>  10</td><td>   0</td></tr>\n",
       "\t<tr><td>Ery_Mk_prog.   </td><td>RBD_vs_GFP</td><td>  13</td><td>  25</td><td>   0</td><td>   0</td></tr>\n",
       "\t<tr><td>Ery_Mk_prog.   </td><td>G1C_vs_RBD</td><td>  90</td><td>   4</td><td>  26</td><td>   1</td></tr>\n",
       "\t<tr><td>Erythroblasts  </td><td>G1C_vs_GFP</td><td>  79</td><td> 181</td><td>  51</td><td> 135</td></tr>\n",
       "\t<tr><td>Erythroblasts  </td><td>RBD_vs_GFP</td><td> 109</td><td> 120</td><td>   0</td><td>   0</td></tr>\n",
       "\t<tr><td>Erythroblasts  </td><td>G1C_vs_RBD</td><td>  10</td><td>   3</td><td>   2</td><td>   0</td></tr>\n",
       "\t<tr><td>Gran_Mono_prog.</td><td>G1C_vs_GFP</td><td> 258</td><td> 352</td><td>  10</td><td>  12</td></tr>\n",
       "\t<tr><td>Gran_Mono_prog.</td><td>RBD_vs_GFP</td><td>  43</td><td>  25</td><td>   0</td><td>   0</td></tr>\n",
       "\t<tr><td>Gran_Mono_prog.</td><td>G1C_vs_RBD</td><td> 161</td><td> 142</td><td>  11</td><td>  21</td></tr>\n",
       "\t<tr><td>large_pre-B.   </td><td>G1C_vs_GFP</td><td> 174</td><td> 231</td><td>  19</td><td>  11</td></tr>\n",
       "\t<tr><td>large_pre-B.   </td><td>RBD_vs_GFP</td><td> 103</td><td>  98</td><td>  15</td><td>  15</td></tr>\n",
       "\t<tr><td>large_pre-B.   </td><td>G1C_vs_RBD</td><td> 305</td><td> 296</td><td>  57</td><td>  36</td></tr>\n",
       "\t<tr><td>LMPPs          </td><td>G1C_vs_GFP</td><td> 345</td><td> 426</td><td>  59</td><td>  45</td></tr>\n",
       "\t<tr><td>LMPPs          </td><td>RBD_vs_GFP</td><td>  93</td><td>  54</td><td>   0</td><td>   0</td></tr>\n",
       "\t<tr><td>LMPPs          </td><td>G1C_vs_RBD</td><td> 610</td><td> 897</td><td> 184</td><td> 404</td></tr>\n",
       "\t<tr><td>Mk_prog.       </td><td>G1C_vs_GFP</td><td>  24</td><td>  27</td><td>   2</td><td>   5</td></tr>\n",
       "\t<tr><td>Mk_prog.       </td><td>RBD_vs_GFP</td><td>   2</td><td>   3</td><td>   0</td><td>   0</td></tr>\n",
       "\t<tr><td>Mk_prog.       </td><td>G1C_vs_RBD</td><td>  43</td><td>  25</td><td>   7</td><td>   5</td></tr>\n",
       "\t<tr><td>Mono_prog.     </td><td>G1C_vs_GFP</td><td>  87</td><td> 166</td><td>  16</td><td>  11</td></tr>\n",
       "\t<tr><td>Mono_prog.     </td><td>RBD_vs_GFP</td><td>  43</td><td>  39</td><td>   0</td><td>   0</td></tr>\n",
       "\t<tr><td>Mono_prog.     </td><td>G1C_vs_RBD</td><td>  73</td><td> 112</td><td>  12</td><td>   3</td></tr>\n",
       "\t<tr><td>Monocytes      </td><td>G1C_vs_GFP</td><td> 695</td><td> 753</td><td> 177</td><td> 213</td></tr>\n",
       "\t<tr><td>Monocytes      </td><td>RBD_vs_GFP</td><td> 281</td><td> 262</td><td>  19</td><td>  16</td></tr>\n",
       "\t<tr><td>Monocytes      </td><td>G1C_vs_RBD</td><td>1016</td><td> 907</td><td> 415</td><td> 306</td></tr>\n",
       "\t<tr><td>Neutro_prog.   </td><td>G1C_vs_GFP</td><td>  56</td><td>  27</td><td>  18</td><td>   6</td></tr>\n",
       "\t<tr><td>Neutro_prog.   </td><td>RBD_vs_GFP</td><td>  29</td><td>  28</td><td>   0</td><td>   0</td></tr>\n",
       "\t<tr><td>Neutro_prog.   </td><td>G1C_vs_RBD</td><td> 160</td><td> 256</td><td>   0</td><td>   0</td></tr>\n",
       "\t<tr><td>Neutrophils    </td><td>G1C_vs_GFP</td><td>2652</td><td>2683</td><td>2569</td><td>2576</td></tr>\n",
       "\t<tr><td>Neutrophils    </td><td>RBD_vs_GFP</td><td> 197</td><td> 191</td><td>   2</td><td>   3</td></tr>\n",
       "\t<tr><td>Neutrophils    </td><td>G1C_vs_RBD</td><td>3308</td><td>3248</td><td>3308</td><td>3248</td></tr>\n",
       "\t<tr><td>NK_cells       </td><td>G1C_vs_GFP</td><td> 459</td><td> 614</td><td> 120</td><td> 175</td></tr>\n",
       "\t<tr><td>NK_cells       </td><td>RBD_vs_GFP</td><td>  85</td><td> 109</td><td>   3</td><td>   5</td></tr>\n",
       "\t<tr><td>NK_cells       </td><td>G1C_vs_RBD</td><td> 493</td><td> 661</td><td> 155</td><td> 274</td></tr>\n",
       "\t<tr><td>pro-B          </td><td>G1C_vs_GFP</td><td> 381</td><td> 199</td><td> 171</td><td>  39</td></tr>\n",
       "\t<tr><td>pro-B          </td><td>RBD_vs_GFP</td><td>  31</td><td>  44</td><td>   0</td><td>  12</td></tr>\n",
       "\t<tr><td>pro-B          </td><td>G1C_vs_RBD</td><td> 749</td><td> 380</td><td> 418</td><td>  91</td></tr>\n",
       "\t<tr><td>small_pre-B.   </td><td>G1C_vs_GFP</td><td> 373</td><td> 308</td><td> 102</td><td>  51</td></tr>\n",
       "\t<tr><td>small_pre-B.   </td><td>RBD_vs_GFP</td><td> 251</td><td> 445</td><td>  58</td><td> 189</td></tr>\n",
       "\t<tr><td>small_pre-B.   </td><td>G1C_vs_RBD</td><td> 631</td><td> 395</td><td> 309</td><td>  84</td></tr>\n",
       "\t<tr><td>T_cells        </td><td>G1C_vs_GFP</td><td>  87</td><td>  96</td><td>  13</td><td>  15</td></tr>\n",
       "\t<tr><td>T_cells        </td><td>RBD_vs_GFP</td><td> 104</td><td>  64</td><td>   0</td><td>   2</td></tr>\n",
       "\t<tr><td>T_cells        </td><td>G1C_vs_RBD</td><td> 158</td><td> 124</td><td>  48</td><td>  27</td></tr>\n",
       "</tbody>\n",
       "</table>\n"
      ],
      "text/latex": [
       "A data.frame: 51 × 6\n",
       "\\begin{tabular}{llllll}\n",
       " celltype & contrast & up\\_pval & down\\_pval & up\\_padj & down\\_padj\\\\\n",
       " <chr> & <chr> & <int> & <int> & <int> & <int>\\\\\n",
       "\\hline\n",
       "\t B\\_cell          & G1C\\_vs\\_GFP &  247 &  348 &   18 &   39\\\\\n",
       "\t B\\_cell          & RBD\\_vs\\_GFP &   84 &  199 &    0 &    7\\\\\n",
       "\t B\\_cell          & G1C\\_vs\\_RBD &  339 &  172 &   35 &    8\\\\\n",
       "\t Dendritic\\_cells & G1C\\_vs\\_GFP &  459 &  320 &   66 &   30\\\\\n",
       "\t Dendritic\\_cells & RBD\\_vs\\_GFP &  644 &  812 &  166 &  304\\\\\n",
       "\t Dendritic\\_cells & G1C\\_vs\\_RBD & 1321 & 1177 &  945 &  694\\\\\n",
       "\t Eo\\_Baso\\_prog.   & G1C\\_vs\\_GFP &  101 &  111 &    3 &    3\\\\\n",
       "\t Eo\\_Baso\\_prog.   & RBD\\_vs\\_GFP &   30 &   23 &    0 &    0\\\\\n",
       "\t Eo\\_Baso\\_prog.   & G1C\\_vs\\_RBD &   75 &   78 &    4 &    1\\\\\n",
       "\t Ery\\_Mk\\_prog.    & G1C\\_vs\\_GFP &   33 &    4 &   10 &    0\\\\\n",
       "\t Ery\\_Mk\\_prog.    & RBD\\_vs\\_GFP &   13 &   25 &    0 &    0\\\\\n",
       "\t Ery\\_Mk\\_prog.    & G1C\\_vs\\_RBD &   90 &    4 &   26 &    1\\\\\n",
       "\t Erythroblasts   & G1C\\_vs\\_GFP &   79 &  181 &   51 &  135\\\\\n",
       "\t Erythroblasts   & RBD\\_vs\\_GFP &  109 &  120 &    0 &    0\\\\\n",
       "\t Erythroblasts   & G1C\\_vs\\_RBD &   10 &    3 &    2 &    0\\\\\n",
       "\t Gran\\_Mono\\_prog. & G1C\\_vs\\_GFP &  258 &  352 &   10 &   12\\\\\n",
       "\t Gran\\_Mono\\_prog. & RBD\\_vs\\_GFP &   43 &   25 &    0 &    0\\\\\n",
       "\t Gran\\_Mono\\_prog. & G1C\\_vs\\_RBD &  161 &  142 &   11 &   21\\\\\n",
       "\t large\\_pre-B.    & G1C\\_vs\\_GFP &  174 &  231 &   19 &   11\\\\\n",
       "\t large\\_pre-B.    & RBD\\_vs\\_GFP &  103 &   98 &   15 &   15\\\\\n",
       "\t large\\_pre-B.    & G1C\\_vs\\_RBD &  305 &  296 &   57 &   36\\\\\n",
       "\t LMPPs           & G1C\\_vs\\_GFP &  345 &  426 &   59 &   45\\\\\n",
       "\t LMPPs           & RBD\\_vs\\_GFP &   93 &   54 &    0 &    0\\\\\n",
       "\t LMPPs           & G1C\\_vs\\_RBD &  610 &  897 &  184 &  404\\\\\n",
       "\t Mk\\_prog.        & G1C\\_vs\\_GFP &   24 &   27 &    2 &    5\\\\\n",
       "\t Mk\\_prog.        & RBD\\_vs\\_GFP &    2 &    3 &    0 &    0\\\\\n",
       "\t Mk\\_prog.        & G1C\\_vs\\_RBD &   43 &   25 &    7 &    5\\\\\n",
       "\t Mono\\_prog.      & G1C\\_vs\\_GFP &   87 &  166 &   16 &   11\\\\\n",
       "\t Mono\\_prog.      & RBD\\_vs\\_GFP &   43 &   39 &    0 &    0\\\\\n",
       "\t Mono\\_prog.      & G1C\\_vs\\_RBD &   73 &  112 &   12 &    3\\\\\n",
       "\t Monocytes       & G1C\\_vs\\_GFP &  695 &  753 &  177 &  213\\\\\n",
       "\t Monocytes       & RBD\\_vs\\_GFP &  281 &  262 &   19 &   16\\\\\n",
       "\t Monocytes       & G1C\\_vs\\_RBD & 1016 &  907 &  415 &  306\\\\\n",
       "\t Neutro\\_prog.    & G1C\\_vs\\_GFP &   56 &   27 &   18 &    6\\\\\n",
       "\t Neutro\\_prog.    & RBD\\_vs\\_GFP &   29 &   28 &    0 &    0\\\\\n",
       "\t Neutro\\_prog.    & G1C\\_vs\\_RBD &  160 &  256 &    0 &    0\\\\\n",
       "\t Neutrophils     & G1C\\_vs\\_GFP & 2652 & 2683 & 2569 & 2576\\\\\n",
       "\t Neutrophils     & RBD\\_vs\\_GFP &  197 &  191 &    2 &    3\\\\\n",
       "\t Neutrophils     & G1C\\_vs\\_RBD & 3308 & 3248 & 3308 & 3248\\\\\n",
       "\t NK\\_cells        & G1C\\_vs\\_GFP &  459 &  614 &  120 &  175\\\\\n",
       "\t NK\\_cells        & RBD\\_vs\\_GFP &   85 &  109 &    3 &    5\\\\\n",
       "\t NK\\_cells        & G1C\\_vs\\_RBD &  493 &  661 &  155 &  274\\\\\n",
       "\t pro-B           & G1C\\_vs\\_GFP &  381 &  199 &  171 &   39\\\\\n",
       "\t pro-B           & RBD\\_vs\\_GFP &   31 &   44 &    0 &   12\\\\\n",
       "\t pro-B           & G1C\\_vs\\_RBD &  749 &  380 &  418 &   91\\\\\n",
       "\t small\\_pre-B.    & G1C\\_vs\\_GFP &  373 &  308 &  102 &   51\\\\\n",
       "\t small\\_pre-B.    & RBD\\_vs\\_GFP &  251 &  445 &   58 &  189\\\\\n",
       "\t small\\_pre-B.    & G1C\\_vs\\_RBD &  631 &  395 &  309 &   84\\\\\n",
       "\t T\\_cells         & G1C\\_vs\\_GFP &   87 &   96 &   13 &   15\\\\\n",
       "\t T\\_cells         & RBD\\_vs\\_GFP &  104 &   64 &    0 &    2\\\\\n",
       "\t T\\_cells         & G1C\\_vs\\_RBD &  158 &  124 &   48 &   27\\\\\n",
       "\\end{tabular}\n"
      ],
      "text/markdown": [
       "\n",
       "A data.frame: 51 × 6\n",
       "\n",
       "| celltype &lt;chr&gt; | contrast &lt;chr&gt; | up_pval &lt;int&gt; | down_pval &lt;int&gt; | up_padj &lt;int&gt; | down_padj &lt;int&gt; |\n",
       "|---|---|---|---|---|---|\n",
       "| B_cell          | G1C_vs_GFP |  247 |  348 |   18 |   39 |\n",
       "| B_cell          | RBD_vs_GFP |   84 |  199 |    0 |    7 |\n",
       "| B_cell          | G1C_vs_RBD |  339 |  172 |   35 |    8 |\n",
       "| Dendritic_cells | G1C_vs_GFP |  459 |  320 |   66 |   30 |\n",
       "| Dendritic_cells | RBD_vs_GFP |  644 |  812 |  166 |  304 |\n",
       "| Dendritic_cells | G1C_vs_RBD | 1321 | 1177 |  945 |  694 |\n",
       "| Eo_Baso_prog.   | G1C_vs_GFP |  101 |  111 |    3 |    3 |\n",
       "| Eo_Baso_prog.   | RBD_vs_GFP |   30 |   23 |    0 |    0 |\n",
       "| Eo_Baso_prog.   | G1C_vs_RBD |   75 |   78 |    4 |    1 |\n",
       "| Ery_Mk_prog.    | G1C_vs_GFP |   33 |    4 |   10 |    0 |\n",
       "| Ery_Mk_prog.    | RBD_vs_GFP |   13 |   25 |    0 |    0 |\n",
       "| Ery_Mk_prog.    | G1C_vs_RBD |   90 |    4 |   26 |    1 |\n",
       "| Erythroblasts   | G1C_vs_GFP |   79 |  181 |   51 |  135 |\n",
       "| Erythroblasts   | RBD_vs_GFP |  109 |  120 |    0 |    0 |\n",
       "| Erythroblasts   | G1C_vs_RBD |   10 |    3 |    2 |    0 |\n",
       "| Gran_Mono_prog. | G1C_vs_GFP |  258 |  352 |   10 |   12 |\n",
       "| Gran_Mono_prog. | RBD_vs_GFP |   43 |   25 |    0 |    0 |\n",
       "| Gran_Mono_prog. | G1C_vs_RBD |  161 |  142 |   11 |   21 |\n",
       "| large_pre-B.    | G1C_vs_GFP |  174 |  231 |   19 |   11 |\n",
       "| large_pre-B.    | RBD_vs_GFP |  103 |   98 |   15 |   15 |\n",
       "| large_pre-B.    | G1C_vs_RBD |  305 |  296 |   57 |   36 |\n",
       "| LMPPs           | G1C_vs_GFP |  345 |  426 |   59 |   45 |\n",
       "| LMPPs           | RBD_vs_GFP |   93 |   54 |    0 |    0 |\n",
       "| LMPPs           | G1C_vs_RBD |  610 |  897 |  184 |  404 |\n",
       "| Mk_prog.        | G1C_vs_GFP |   24 |   27 |    2 |    5 |\n",
       "| Mk_prog.        | RBD_vs_GFP |    2 |    3 |    0 |    0 |\n",
       "| Mk_prog.        | G1C_vs_RBD |   43 |   25 |    7 |    5 |\n",
       "| Mono_prog.      | G1C_vs_GFP |   87 |  166 |   16 |   11 |\n",
       "| Mono_prog.      | RBD_vs_GFP |   43 |   39 |    0 |    0 |\n",
       "| Mono_prog.      | G1C_vs_RBD |   73 |  112 |   12 |    3 |\n",
       "| Monocytes       | G1C_vs_GFP |  695 |  753 |  177 |  213 |\n",
       "| Monocytes       | RBD_vs_GFP |  281 |  262 |   19 |   16 |\n",
       "| Monocytes       | G1C_vs_RBD | 1016 |  907 |  415 |  306 |\n",
       "| Neutro_prog.    | G1C_vs_GFP |   56 |   27 |   18 |    6 |\n",
       "| Neutro_prog.    | RBD_vs_GFP |   29 |   28 |    0 |    0 |\n",
       "| Neutro_prog.    | G1C_vs_RBD |  160 |  256 |    0 |    0 |\n",
       "| Neutrophils     | G1C_vs_GFP | 2652 | 2683 | 2569 | 2576 |\n",
       "| Neutrophils     | RBD_vs_GFP |  197 |  191 |    2 |    3 |\n",
       "| Neutrophils     | G1C_vs_RBD | 3308 | 3248 | 3308 | 3248 |\n",
       "| NK_cells        | G1C_vs_GFP |  459 |  614 |  120 |  175 |\n",
       "| NK_cells        | RBD_vs_GFP |   85 |  109 |    3 |    5 |\n",
       "| NK_cells        | G1C_vs_RBD |  493 |  661 |  155 |  274 |\n",
       "| pro-B           | G1C_vs_GFP |  381 |  199 |  171 |   39 |\n",
       "| pro-B           | RBD_vs_GFP |   31 |   44 |    0 |   12 |\n",
       "| pro-B           | G1C_vs_RBD |  749 |  380 |  418 |   91 |\n",
       "| small_pre-B.    | G1C_vs_GFP |  373 |  308 |  102 |   51 |\n",
       "| small_pre-B.    | RBD_vs_GFP |  251 |  445 |   58 |  189 |\n",
       "| small_pre-B.    | G1C_vs_RBD |  631 |  395 |  309 |   84 |\n",
       "| T_cells         | G1C_vs_GFP |   87 |   96 |   13 |   15 |\n",
       "| T_cells         | RBD_vs_GFP |  104 |   64 |    0 |    2 |\n",
       "| T_cells         | G1C_vs_RBD |  158 |  124 |   48 |   27 |\n",
       "\n"
      ],
      "text/plain": [
       "   celltype        contrast   up_pval down_pval up_padj down_padj\n",
       "1  B_cell          G1C_vs_GFP  247     348        18      39     \n",
       "2  B_cell          RBD_vs_GFP   84     199         0       7     \n",
       "3  B_cell          G1C_vs_RBD  339     172        35       8     \n",
       "4  Dendritic_cells G1C_vs_GFP  459     320        66      30     \n",
       "5  Dendritic_cells RBD_vs_GFP  644     812       166     304     \n",
       "6  Dendritic_cells G1C_vs_RBD 1321    1177       945     694     \n",
       "7  Eo_Baso_prog.   G1C_vs_GFP  101     111         3       3     \n",
       "8  Eo_Baso_prog.   RBD_vs_GFP   30      23         0       0     \n",
       "9  Eo_Baso_prog.   G1C_vs_RBD   75      78         4       1     \n",
       "10 Ery_Mk_prog.    G1C_vs_GFP   33       4        10       0     \n",
       "11 Ery_Mk_prog.    RBD_vs_GFP   13      25         0       0     \n",
       "12 Ery_Mk_prog.    G1C_vs_RBD   90       4        26       1     \n",
       "13 Erythroblasts   G1C_vs_GFP   79     181        51     135     \n",
       "14 Erythroblasts   RBD_vs_GFP  109     120         0       0     \n",
       "15 Erythroblasts   G1C_vs_RBD   10       3         2       0     \n",
       "16 Gran_Mono_prog. G1C_vs_GFP  258     352        10      12     \n",
       "17 Gran_Mono_prog. RBD_vs_GFP   43      25         0       0     \n",
       "18 Gran_Mono_prog. G1C_vs_RBD  161     142        11      21     \n",
       "19 large_pre-B.    G1C_vs_GFP  174     231        19      11     \n",
       "20 large_pre-B.    RBD_vs_GFP  103      98        15      15     \n",
       "21 large_pre-B.    G1C_vs_RBD  305     296        57      36     \n",
       "22 LMPPs           G1C_vs_GFP  345     426        59      45     \n",
       "23 LMPPs           RBD_vs_GFP   93      54         0       0     \n",
       "24 LMPPs           G1C_vs_RBD  610     897       184     404     \n",
       "25 Mk_prog.        G1C_vs_GFP   24      27         2       5     \n",
       "26 Mk_prog.        RBD_vs_GFP    2       3         0       0     \n",
       "27 Mk_prog.        G1C_vs_RBD   43      25         7       5     \n",
       "28 Mono_prog.      G1C_vs_GFP   87     166        16      11     \n",
       "29 Mono_prog.      RBD_vs_GFP   43      39         0       0     \n",
       "30 Mono_prog.      G1C_vs_RBD   73     112        12       3     \n",
       "31 Monocytes       G1C_vs_GFP  695     753       177     213     \n",
       "32 Monocytes       RBD_vs_GFP  281     262        19      16     \n",
       "33 Monocytes       G1C_vs_RBD 1016     907       415     306     \n",
       "34 Neutro_prog.    G1C_vs_GFP   56      27        18       6     \n",
       "35 Neutro_prog.    RBD_vs_GFP   29      28         0       0     \n",
       "36 Neutro_prog.    G1C_vs_RBD  160     256         0       0     \n",
       "37 Neutrophils     G1C_vs_GFP 2652    2683      2569    2576     \n",
       "38 Neutrophils     RBD_vs_GFP  197     191         2       3     \n",
       "39 Neutrophils     G1C_vs_RBD 3308    3248      3308    3248     \n",
       "40 NK_cells        G1C_vs_GFP  459     614       120     175     \n",
       "41 NK_cells        RBD_vs_GFP   85     109         3       5     \n",
       "42 NK_cells        G1C_vs_RBD  493     661       155     274     \n",
       "43 pro-B           G1C_vs_GFP  381     199       171      39     \n",
       "44 pro-B           RBD_vs_GFP   31      44         0      12     \n",
       "45 pro-B           G1C_vs_RBD  749     380       418      91     \n",
       "46 small_pre-B.    G1C_vs_GFP  373     308       102      51     \n",
       "47 small_pre-B.    RBD_vs_GFP  251     445        58     189     \n",
       "48 small_pre-B.    G1C_vs_RBD  631     395       309      84     \n",
       "49 T_cells         G1C_vs_GFP   87      96        13      15     \n",
       "50 T_cells         RBD_vs_GFP  104      64         0       2     \n",
       "51 T_cells         G1C_vs_RBD  158     124        48      27     "
      ]
     },
     "metadata": {},
     "output_type": "display_data"
    }
   ],
   "source": [
    "deseq.stats"
   ]
  },
  {
   "cell_type": "code",
   "execution_count": 46,
   "id": "8008c80f",
   "metadata": {},
   "outputs": [],
   "source": [
    "write.table(deseq.stats, \n",
    "            file = paste0(outdir, \"DESEQ_summary.txt\"), \n",
    "            sep = '\\t', quote = FALSE)"
   ]
  },
  {
   "cell_type": "markdown",
   "id": "42bd4936",
   "metadata": {},
   "source": [
    "# FGSEA"
   ]
  },
  {
   "cell_type": "code",
   "execution_count": 19,
   "id": "701e7137",
   "metadata": {},
   "outputs": [],
   "source": [
    "GSEA.dir = \"/nfs/lab/Luca/Assets/Gene.Sets/mouse_categories/\""
   ]
  },
  {
   "cell_type": "code",
   "execution_count": 35,
   "id": "a7ec828f",
   "metadata": {},
   "outputs": [
    {
     "name": "stderr",
     "output_type": "stream",
     "text": [
      "Processing GO_BP.v2023.2.Mm.symbols.gmt.txt\n",
      "\n",
      "Processing GO_CC.v2023.2.Mm.symbols.gmt.txt\n",
      "\n",
      "Processing GO_CP.v2023.2.Mm.symbols.gmt.txt\n",
      "\n",
      "Processing GO_MF.v2023.2.Mm.symbols.gmt.txt\n",
      "\n"
     ]
    }
   ],
   "source": [
    "setwd(GSEA.dir)\n",
    "gene.sets.ls = dir()\n",
    "\n",
    "gene.set.db = NULL\n",
    "for (i in seq_along(gene.sets.ls)){\n",
    "    gene.set = gene.sets.ls[i]\n",
    "    message(\"Processing \", gene.set)\n",
    "    # Read in the GMT as a table, to get the name of the term\n",
    "    gene.set.use = read.table(gene.set, sep = \"\\t\", fill = TRUE)\n",
    "    # Subset to just the first column\n",
    "    gene.set.use = as.data.frame(gene.set.use[,1])\n",
    "    colnames(gene.set.use) = \"pathway\"\n",
    "    gene.set.use$term = as.factor(str_split_fixed(gene.set.use$pathway, pattern = \"_\", n = 2)[,2])\n",
    "    gene.set.use$set = as.factor(str_split_fixed(gene.set.use$pathway, pattern = \"_\", n = 2)[,1])\n",
    "            tmp = str_split_fixed(gene.set, pattern = \"_\", n = 2)[,2]\n",
    "    gene.set.use$set.family = as.factor(str_split_fixed(tmp, pattern = \"\\\\.\", n = 2)[,1])\n",
    "    gene.set.use$set.superfamily = as.factor(str_split_fixed(gene.set, pattern = \"_\", n = 2)[,1])\n",
    "\n",
    "    gene.set.db = rbind(gene.set.db, gene.set.use)\n",
    "}\n",
    "\n",
    "gene.set.db$set.superfamily = factor(gene.set.db$set.superfamily, \n",
    "                                     levels = c(\"GO\"))\n",
    "gene.set.db$set.family = factor(gene.set.db$set.family, \n",
    "                                     levels = c(\"BP\", \"CC\", \"MF\",\n",
    "                                                \"CP\"))"
   ]
  },
  {
   "cell_type": "code",
   "execution_count": 40,
   "id": "51b9cce2",
   "metadata": {},
   "outputs": [],
   "source": [
    "# Load the pathways into a named list\n",
    "GMT <- gmtPathways(\"/nfs/lab/Luca/Assets/Gene.Sets/msigdb.v2023.2.Mm.symbols.gmt\")"
   ]
  },
  {
   "cell_type": "code",
   "execution_count": 41,
   "id": "7a6fb39f",
   "metadata": {},
   "outputs": [
    {
     "data": {
      "text/html": [
       "<style>\n",
       ".list-inline {list-style: none; margin:0; padding: 0}\n",
       ".list-inline>li {display: inline-block}\n",
       ".list-inline>li:not(:last-child)::after {content: \"\\00b7\"; padding: 0 .5ex}\n",
       "</style>\n",
       "<ol class=list-inline><li>'B_cell_G1C_vs_GFP.dds.res'</li><li>'B_cell_G1C_vs_RBD.dds.res'</li><li>'B_cell_RBD_vs_GFP.dds.res'</li><li>'Dendritic_cells_G1C_vs_GFP.dds.res'</li><li>'Dendritic_cells_G1C_vs_RBD.dds.res'</li><li>'Dendritic_cells_RBD_vs_GFP.dds.res'</li><li>'Eo_Baso_prog._G1C_vs_GFP.dds.res'</li><li>'Eo_Baso_prog._G1C_vs_RBD.dds.res'</li><li>'Eo_Baso_prog._RBD_vs_GFP.dds.res'</li><li>'Ery_Mk_prog._G1C_vs_GFP.dds.res'</li><li>'Ery_Mk_prog._G1C_vs_RBD.dds.res'</li><li>'Ery_Mk_prog._RBD_vs_GFP.dds.res'</li><li>'Erythroblasts_G1C_vs_GFP.dds.res'</li><li>'Erythroblasts_G1C_vs_RBD.dds.res'</li><li>'Erythroblasts_RBD_vs_GFP.dds.res'</li><li>'Gran_Mono_prog._G1C_vs_GFP.dds.res'</li><li>'Gran_Mono_prog._G1C_vs_RBD.dds.res'</li><li>'Gran_Mono_prog._RBD_vs_GFP.dds.res'</li><li>'large_pre-B._G1C_vs_GFP.dds.res'</li><li>'large_pre-B._G1C_vs_RBD.dds.res'</li><li>'large_pre-B._RBD_vs_GFP.dds.res'</li><li>'LMPPs_G1C_vs_GFP.dds.res'</li><li>'LMPPs_G1C_vs_RBD.dds.res'</li><li>'LMPPs_RBD_vs_GFP.dds.res'</li><li>'Mk_prog._G1C_vs_GFP.dds.res'</li><li>'Mk_prog._G1C_vs_RBD.dds.res'</li><li>'Mk_prog._RBD_vs_GFP.dds.res'</li><li>'Mono_prog._G1C_vs_GFP.dds.res'</li><li>'Mono_prog._G1C_vs_RBD.dds.res'</li><li>'Mono_prog._RBD_vs_GFP.dds.res'</li><li>'Monocytes_G1C_vs_GFP.dds.res'</li><li>'Monocytes_G1C_vs_RBD.dds.res'</li><li>'Monocytes_RBD_vs_GFP.dds.res'</li><li>'Neutro_prog._G1C_vs_GFP.dds.res'</li><li>'Neutro_prog._G1C_vs_RBD.dds.res'</li><li>'Neutro_prog._RBD_vs_GFP.dds.res'</li><li>'Neutrophils_G1C_vs_GFP.dds.res'</li><li>'Neutrophils_G1C_vs_RBD.dds.res'</li><li>'Neutrophils_RBD_vs_GFP.dds.res'</li><li>'NK_cells_G1C_vs_GFP.dds.res'</li><li>'NK_cells_G1C_vs_RBD.dds.res'</li><li>'NK_cells_RBD_vs_GFP.dds.res'</li><li>'pro-B_G1C_vs_GFP.dds.res'</li><li>'pro-B_G1C_vs_RBD.dds.res'</li><li>'pro-B_RBD_vs_GFP.dds.res'</li><li>'small_pre-B._G1C_vs_GFP.dds.res'</li><li>'small_pre-B._G1C_vs_RBD.dds.res'</li><li>'small_pre-B._RBD_vs_GFP.dds.res'</li><li>'T_cells_G1C_vs_GFP.dds.res'</li><li>'T_cells_G1C_vs_RBD.dds.res'</li><li>'T_cells_RBD_vs_GFP.dds.res'</li></ol>\n"
      ],
      "text/latex": [
       "\\begin{enumerate*}\n",
       "\\item 'B\\_cell\\_G1C\\_vs\\_GFP.dds.res'\n",
       "\\item 'B\\_cell\\_G1C\\_vs\\_RBD.dds.res'\n",
       "\\item 'B\\_cell\\_RBD\\_vs\\_GFP.dds.res'\n",
       "\\item 'Dendritic\\_cells\\_G1C\\_vs\\_GFP.dds.res'\n",
       "\\item 'Dendritic\\_cells\\_G1C\\_vs\\_RBD.dds.res'\n",
       "\\item 'Dendritic\\_cells\\_RBD\\_vs\\_GFP.dds.res'\n",
       "\\item 'Eo\\_Baso\\_prog.\\_G1C\\_vs\\_GFP.dds.res'\n",
       "\\item 'Eo\\_Baso\\_prog.\\_G1C\\_vs\\_RBD.dds.res'\n",
       "\\item 'Eo\\_Baso\\_prog.\\_RBD\\_vs\\_GFP.dds.res'\n",
       "\\item 'Ery\\_Mk\\_prog.\\_G1C\\_vs\\_GFP.dds.res'\n",
       "\\item 'Ery\\_Mk\\_prog.\\_G1C\\_vs\\_RBD.dds.res'\n",
       "\\item 'Ery\\_Mk\\_prog.\\_RBD\\_vs\\_GFP.dds.res'\n",
       "\\item 'Erythroblasts\\_G1C\\_vs\\_GFP.dds.res'\n",
       "\\item 'Erythroblasts\\_G1C\\_vs\\_RBD.dds.res'\n",
       "\\item 'Erythroblasts\\_RBD\\_vs\\_GFP.dds.res'\n",
       "\\item 'Gran\\_Mono\\_prog.\\_G1C\\_vs\\_GFP.dds.res'\n",
       "\\item 'Gran\\_Mono\\_prog.\\_G1C\\_vs\\_RBD.dds.res'\n",
       "\\item 'Gran\\_Mono\\_prog.\\_RBD\\_vs\\_GFP.dds.res'\n",
       "\\item 'large\\_pre-B.\\_G1C\\_vs\\_GFP.dds.res'\n",
       "\\item 'large\\_pre-B.\\_G1C\\_vs\\_RBD.dds.res'\n",
       "\\item 'large\\_pre-B.\\_RBD\\_vs\\_GFP.dds.res'\n",
       "\\item 'LMPPs\\_G1C\\_vs\\_GFP.dds.res'\n",
       "\\item 'LMPPs\\_G1C\\_vs\\_RBD.dds.res'\n",
       "\\item 'LMPPs\\_RBD\\_vs\\_GFP.dds.res'\n",
       "\\item 'Mk\\_prog.\\_G1C\\_vs\\_GFP.dds.res'\n",
       "\\item 'Mk\\_prog.\\_G1C\\_vs\\_RBD.dds.res'\n",
       "\\item 'Mk\\_prog.\\_RBD\\_vs\\_GFP.dds.res'\n",
       "\\item 'Mono\\_prog.\\_G1C\\_vs\\_GFP.dds.res'\n",
       "\\item 'Mono\\_prog.\\_G1C\\_vs\\_RBD.dds.res'\n",
       "\\item 'Mono\\_prog.\\_RBD\\_vs\\_GFP.dds.res'\n",
       "\\item 'Monocytes\\_G1C\\_vs\\_GFP.dds.res'\n",
       "\\item 'Monocytes\\_G1C\\_vs\\_RBD.dds.res'\n",
       "\\item 'Monocytes\\_RBD\\_vs\\_GFP.dds.res'\n",
       "\\item 'Neutro\\_prog.\\_G1C\\_vs\\_GFP.dds.res'\n",
       "\\item 'Neutro\\_prog.\\_G1C\\_vs\\_RBD.dds.res'\n",
       "\\item 'Neutro\\_prog.\\_RBD\\_vs\\_GFP.dds.res'\n",
       "\\item 'Neutrophils\\_G1C\\_vs\\_GFP.dds.res'\n",
       "\\item 'Neutrophils\\_G1C\\_vs\\_RBD.dds.res'\n",
       "\\item 'Neutrophils\\_RBD\\_vs\\_GFP.dds.res'\n",
       "\\item 'NK\\_cells\\_G1C\\_vs\\_GFP.dds.res'\n",
       "\\item 'NK\\_cells\\_G1C\\_vs\\_RBD.dds.res'\n",
       "\\item 'NK\\_cells\\_RBD\\_vs\\_GFP.dds.res'\n",
       "\\item 'pro-B\\_G1C\\_vs\\_GFP.dds.res'\n",
       "\\item 'pro-B\\_G1C\\_vs\\_RBD.dds.res'\n",
       "\\item 'pro-B\\_RBD\\_vs\\_GFP.dds.res'\n",
       "\\item 'small\\_pre-B.\\_G1C\\_vs\\_GFP.dds.res'\n",
       "\\item 'small\\_pre-B.\\_G1C\\_vs\\_RBD.dds.res'\n",
       "\\item 'small\\_pre-B.\\_RBD\\_vs\\_GFP.dds.res'\n",
       "\\item 'T\\_cells\\_G1C\\_vs\\_GFP.dds.res'\n",
       "\\item 'T\\_cells\\_G1C\\_vs\\_RBD.dds.res'\n",
       "\\item 'T\\_cells\\_RBD\\_vs\\_GFP.dds.res'\n",
       "\\end{enumerate*}\n"
      ],
      "text/markdown": [
       "1. 'B_cell_G1C_vs_GFP.dds.res'\n",
       "2. 'B_cell_G1C_vs_RBD.dds.res'\n",
       "3. 'B_cell_RBD_vs_GFP.dds.res'\n",
       "4. 'Dendritic_cells_G1C_vs_GFP.dds.res'\n",
       "5. 'Dendritic_cells_G1C_vs_RBD.dds.res'\n",
       "6. 'Dendritic_cells_RBD_vs_GFP.dds.res'\n",
       "7. 'Eo_Baso_prog._G1C_vs_GFP.dds.res'\n",
       "8. 'Eo_Baso_prog._G1C_vs_RBD.dds.res'\n",
       "9. 'Eo_Baso_prog._RBD_vs_GFP.dds.res'\n",
       "10. 'Ery_Mk_prog._G1C_vs_GFP.dds.res'\n",
       "11. 'Ery_Mk_prog._G1C_vs_RBD.dds.res'\n",
       "12. 'Ery_Mk_prog._RBD_vs_GFP.dds.res'\n",
       "13. 'Erythroblasts_G1C_vs_GFP.dds.res'\n",
       "14. 'Erythroblasts_G1C_vs_RBD.dds.res'\n",
       "15. 'Erythroblasts_RBD_vs_GFP.dds.res'\n",
       "16. 'Gran_Mono_prog._G1C_vs_GFP.dds.res'\n",
       "17. 'Gran_Mono_prog._G1C_vs_RBD.dds.res'\n",
       "18. 'Gran_Mono_prog._RBD_vs_GFP.dds.res'\n",
       "19. 'large_pre-B._G1C_vs_GFP.dds.res'\n",
       "20. 'large_pre-B._G1C_vs_RBD.dds.res'\n",
       "21. 'large_pre-B._RBD_vs_GFP.dds.res'\n",
       "22. 'LMPPs_G1C_vs_GFP.dds.res'\n",
       "23. 'LMPPs_G1C_vs_RBD.dds.res'\n",
       "24. 'LMPPs_RBD_vs_GFP.dds.res'\n",
       "25. 'Mk_prog._G1C_vs_GFP.dds.res'\n",
       "26. 'Mk_prog._G1C_vs_RBD.dds.res'\n",
       "27. 'Mk_prog._RBD_vs_GFP.dds.res'\n",
       "28. 'Mono_prog._G1C_vs_GFP.dds.res'\n",
       "29. 'Mono_prog._G1C_vs_RBD.dds.res'\n",
       "30. 'Mono_prog._RBD_vs_GFP.dds.res'\n",
       "31. 'Monocytes_G1C_vs_GFP.dds.res'\n",
       "32. 'Monocytes_G1C_vs_RBD.dds.res'\n",
       "33. 'Monocytes_RBD_vs_GFP.dds.res'\n",
       "34. 'Neutro_prog._G1C_vs_GFP.dds.res'\n",
       "35. 'Neutro_prog._G1C_vs_RBD.dds.res'\n",
       "36. 'Neutro_prog._RBD_vs_GFP.dds.res'\n",
       "37. 'Neutrophils_G1C_vs_GFP.dds.res'\n",
       "38. 'Neutrophils_G1C_vs_RBD.dds.res'\n",
       "39. 'Neutrophils_RBD_vs_GFP.dds.res'\n",
       "40. 'NK_cells_G1C_vs_GFP.dds.res'\n",
       "41. 'NK_cells_G1C_vs_RBD.dds.res'\n",
       "42. 'NK_cells_RBD_vs_GFP.dds.res'\n",
       "43. 'pro-B_G1C_vs_GFP.dds.res'\n",
       "44. 'pro-B_G1C_vs_RBD.dds.res'\n",
       "45. 'pro-B_RBD_vs_GFP.dds.res'\n",
       "46. 'small_pre-B._G1C_vs_GFP.dds.res'\n",
       "47. 'small_pre-B._G1C_vs_RBD.dds.res'\n",
       "48. 'small_pre-B._RBD_vs_GFP.dds.res'\n",
       "49. 'T_cells_G1C_vs_GFP.dds.res'\n",
       "50. 'T_cells_G1C_vs_RBD.dds.res'\n",
       "51. 'T_cells_RBD_vs_GFP.dds.res'\n",
       "\n",
       "\n"
      ],
      "text/plain": [
       " [1] \"B_cell_G1C_vs_GFP.dds.res\"          \"B_cell_G1C_vs_RBD.dds.res\"         \n",
       " [3] \"B_cell_RBD_vs_GFP.dds.res\"          \"Dendritic_cells_G1C_vs_GFP.dds.res\"\n",
       " [5] \"Dendritic_cells_G1C_vs_RBD.dds.res\" \"Dendritic_cells_RBD_vs_GFP.dds.res\"\n",
       " [7] \"Eo_Baso_prog._G1C_vs_GFP.dds.res\"   \"Eo_Baso_prog._G1C_vs_RBD.dds.res\"  \n",
       " [9] \"Eo_Baso_prog._RBD_vs_GFP.dds.res\"   \"Ery_Mk_prog._G1C_vs_GFP.dds.res\"   \n",
       "[11] \"Ery_Mk_prog._G1C_vs_RBD.dds.res\"    \"Ery_Mk_prog._RBD_vs_GFP.dds.res\"   \n",
       "[13] \"Erythroblasts_G1C_vs_GFP.dds.res\"   \"Erythroblasts_G1C_vs_RBD.dds.res\"  \n",
       "[15] \"Erythroblasts_RBD_vs_GFP.dds.res\"   \"Gran_Mono_prog._G1C_vs_GFP.dds.res\"\n",
       "[17] \"Gran_Mono_prog._G1C_vs_RBD.dds.res\" \"Gran_Mono_prog._RBD_vs_GFP.dds.res\"\n",
       "[19] \"large_pre-B._G1C_vs_GFP.dds.res\"    \"large_pre-B._G1C_vs_RBD.dds.res\"   \n",
       "[21] \"large_pre-B._RBD_vs_GFP.dds.res\"    \"LMPPs_G1C_vs_GFP.dds.res\"          \n",
       "[23] \"LMPPs_G1C_vs_RBD.dds.res\"           \"LMPPs_RBD_vs_GFP.dds.res\"          \n",
       "[25] \"Mk_prog._G1C_vs_GFP.dds.res\"        \"Mk_prog._G1C_vs_RBD.dds.res\"       \n",
       "[27] \"Mk_prog._RBD_vs_GFP.dds.res\"        \"Mono_prog._G1C_vs_GFP.dds.res\"     \n",
       "[29] \"Mono_prog._G1C_vs_RBD.dds.res\"      \"Mono_prog._RBD_vs_GFP.dds.res\"     \n",
       "[31] \"Monocytes_G1C_vs_GFP.dds.res\"       \"Monocytes_G1C_vs_RBD.dds.res\"      \n",
       "[33] \"Monocytes_RBD_vs_GFP.dds.res\"       \"Neutro_prog._G1C_vs_GFP.dds.res\"   \n",
       "[35] \"Neutro_prog._G1C_vs_RBD.dds.res\"    \"Neutro_prog._RBD_vs_GFP.dds.res\"   \n",
       "[37] \"Neutrophils_G1C_vs_GFP.dds.res\"     \"Neutrophils_G1C_vs_RBD.dds.res\"    \n",
       "[39] \"Neutrophils_RBD_vs_GFP.dds.res\"     \"NK_cells_G1C_vs_GFP.dds.res\"       \n",
       "[41] \"NK_cells_G1C_vs_RBD.dds.res\"        \"NK_cells_RBD_vs_GFP.dds.res\"       \n",
       "[43] \"pro-B_G1C_vs_GFP.dds.res\"           \"pro-B_G1C_vs_RBD.dds.res\"          \n",
       "[45] \"pro-B_RBD_vs_GFP.dds.res\"           \"small_pre-B._G1C_vs_GFP.dds.res\"   \n",
       "[47] \"small_pre-B._G1C_vs_RBD.dds.res\"    \"small_pre-B._RBD_vs_GFP.dds.res\"   \n",
       "[49] \"T_cells_G1C_vs_GFP.dds.res\"         \"T_cells_G1C_vs_RBD.dds.res\"        \n",
       "[51] \"T_cells_RBD_vs_GFP.dds.res\"        "
      ]
     },
     "metadata": {},
     "output_type": "display_data"
    }
   ],
   "source": [
    "#Pseudobulk matrices directory\n",
    "dir <- DESEQ.dir\n",
    "#Create outdir for results\n",
    "outdir <- GSEA.res.dir\n",
    "# dir.create(outdir)\n",
    "#Get list of pseudobulk files\n",
    "files <- list.files(dir, pattern='.dds.res')\n",
    "files"
   ]
  },
  {
   "cell_type": "code",
   "execution_count": 45,
   "id": "650fd3f6",
   "metadata": {},
   "outputs": [],
   "source": [
    "# setup\n",
    "tresh = 0.1\n",
    "set.family.Keep = c(\"CP\")"
   ]
  },
  {
   "cell_type": "code",
   "execution_count": 47,
   "id": "4c843049",
   "metadata": {},
   "outputs": [
    {
     "name": "stdout",
     "output_type": "stream",
     "text": [
      "[1] \"Analyzing: B_cell_G1C_vs_GFP\"\n"
     ]
    },
    {
     "name": "stderr",
     "output_type": "stream",
     "text": [
      "Running FGSEA\n",
      "\n",
      "Number of total enriched terms: 9783\n",
      "\n",
      "Number of significant terms: 1733\n",
      "\n",
      "Double check that it's the same number of terms: 1025\n",
      "\n",
      "Number of significant terms: 194\n",
      "\n"
     ]
    },
    {
     "name": "stdout",
     "output_type": "stream",
     "text": [
      "[1] \"Analyzing: B_cell_G1C_vs_RBD.dds.res_G1C_vs_GFP\"\n"
     ]
    },
    {
     "name": "stderr",
     "output_type": "stream",
     "text": [
      "Running FGSEA\n",
      "\n",
      "Number of total enriched terms: 9577\n",
      "\n",
      "Number of significant terms: 1923\n",
      "\n",
      "Double check that it's the same number of terms: 1155\n",
      "\n",
      "Number of significant terms: 215\n",
      "\n"
     ]
    },
    {
     "name": "stdout",
     "output_type": "stream",
     "text": [
      "[1] \"Analyzing: B_cell_RBD_vs_GFP.dds.res_G1C_vs_GFP\"\n"
     ]
    },
    {
     "name": "stderr",
     "output_type": "stream",
     "text": [
      "Running FGSEA\n",
      "\n",
      "Number of total enriched terms: 9689\n",
      "\n",
      "Number of significant terms: 703\n",
      "\n",
      "Double check that it's the same number of terms: 467\n",
      "\n",
      "Number of significant terms: 84\n",
      "\n"
     ]
    },
    {
     "name": "stdout",
     "output_type": "stream",
     "text": [
      "[1] \"Analyzing: Dendritic_cells_G1C_vs_GFP\"\n"
     ]
    },
    {
     "name": "stderr",
     "output_type": "stream",
     "text": [
      "Running FGSEA\n",
      "\n",
      "Number of total enriched terms: 9736\n",
      "\n",
      "Number of significant terms: 1959\n",
      "\n",
      "Double check that it's the same number of terms: 1272\n",
      "\n",
      "Number of significant terms: 230\n",
      "\n"
     ]
    },
    {
     "name": "stdout",
     "output_type": "stream",
     "text": [
      "[1] \"Analyzing: Dendritic_cells_G1C_vs_RBD.dds.res_G1C_vs_GFP\"\n"
     ]
    },
    {
     "name": "stderr",
     "output_type": "stream",
     "text": [
      "Running FGSEA\n",
      "\n",
      "Number of total enriched terms: 9585\n",
      "\n",
      "Number of significant terms: 1258\n",
      "\n",
      "Double check that it's the same number of terms: 918\n",
      "\n",
      "Number of significant terms: 202\n",
      "\n"
     ]
    },
    {
     "name": "stdout",
     "output_type": "stream",
     "text": [
      "[1] \"Analyzing: Dendritic_cells_RBD_vs_GFP.dds.res_G1C_vs_GFP\"\n"
     ]
    },
    {
     "name": "stderr",
     "output_type": "stream",
     "text": [
      "Running FGSEA\n",
      "\n",
      "Number of total enriched terms: 9487\n",
      "\n",
      "Number of significant terms: 1122\n",
      "\n",
      "Double check that it's the same number of terms: 725\n",
      "\n",
      "Number of significant terms: 189\n",
      "\n"
     ]
    },
    {
     "name": "stdout",
     "output_type": "stream",
     "text": [
      "[1] \"Analyzing: Eo_Baso_prog._G1C_vs_GFP\"\n"
     ]
    },
    {
     "name": "stderr",
     "output_type": "stream",
     "text": [
      "Running FGSEA\n",
      "\n",
      "Number of total enriched terms: 9464\n",
      "\n",
      "Number of significant terms: 142\n",
      "\n",
      "Double check that it's the same number of terms: 72\n",
      "\n",
      "Number of significant terms: 3\n",
      "\n"
     ]
    },
    {
     "name": "stdout",
     "output_type": "stream",
     "text": [
      "[1] \"Analyzing: Eo_Baso_prog._G1C_vs_RBD.dds.res_G1C_vs_GFP\"\n"
     ]
    },
    {
     "name": "stderr",
     "output_type": "stream",
     "text": [
      "Running FGSEA\n",
      "\n",
      "Number of total enriched terms: 9455\n",
      "\n",
      "Number of significant terms: 198\n",
      "\n",
      "Double check that it's the same number of terms: 115\n",
      "\n",
      "Number of significant terms: 19\n",
      "\n"
     ]
    },
    {
     "name": "stdout",
     "output_type": "stream",
     "text": [
      "[1] \"Analyzing: Eo_Baso_prog._RBD_vs_GFP.dds.res_G1C_vs_GFP\"\n"
     ]
    },
    {
     "name": "stderr",
     "output_type": "stream",
     "text": [
      "Running FGSEA\n",
      "\n",
      "Number of total enriched terms: 9192\n",
      "\n",
      "Number of significant terms: 57\n",
      "\n",
      "Double check that it's the same number of terms: 22\n",
      "\n",
      "Number of significant terms: 7\n",
      "\n"
     ]
    },
    {
     "name": "stdout",
     "output_type": "stream",
     "text": [
      "[1] \"Analyzing: Ery_Mk_prog._G1C_vs_GFP\"\n"
     ]
    },
    {
     "name": "stderr",
     "output_type": "stream",
     "text": [
      "Running FGSEA\n",
      "\n",
      "Number of total enriched terms: 3747\n",
      "\n",
      "Number of significant terms: 70\n",
      "\n",
      "Double check that it's the same number of terms: 39\n",
      "\n",
      "Number of significant terms: 1\n",
      "\n"
     ]
    },
    {
     "name": "stdout",
     "output_type": "stream",
     "text": [
      "[1] \"Analyzing: Ery_Mk_prog._G1C_vs_RBD.dds.res_G1C_vs_GFP\"\n"
     ]
    },
    {
     "name": "stderr",
     "output_type": "stream",
     "text": [
      "Running FGSEA\n",
      "\n",
      "Number of total enriched terms: 2258\n",
      "\n",
      "Number of significant terms: 78\n",
      "\n",
      "Double check that it's the same number of terms: 14\n",
      "\n",
      "Number of significant terms: 1\n",
      "\n"
     ]
    },
    {
     "name": "stdout",
     "output_type": "stream",
     "text": [
      "[1] \"Analyzing: Ery_Mk_prog._RBD_vs_GFP.dds.res_G1C_vs_GFP\"\n"
     ]
    },
    {
     "name": "stderr",
     "output_type": "stream",
     "text": [
      "Running FGSEA\n",
      "\n",
      "Number of total enriched terms: 6531\n",
      "\n",
      "Number of significant terms: 325\n",
      "\n",
      "Double check that it's the same number of terms: 196\n",
      "\n",
      "Number of significant terms: 102\n",
      "\n"
     ]
    },
    {
     "name": "stdout",
     "output_type": "stream",
     "text": [
      "[1] \"Analyzing: Erythroblasts_G1C_vs_GFP\"\n"
     ]
    },
    {
     "name": "stderr",
     "output_type": "stream",
     "text": [
      "Running FGSEA\n",
      "\n",
      "Number of total enriched terms: 2530\n",
      "\n",
      "Number of significant terms: 612\n",
      "\n",
      "Double check that it's the same number of terms: 293\n",
      "\n",
      "Number of significant terms: 33\n",
      "\n"
     ]
    },
    {
     "name": "stdout",
     "output_type": "stream",
     "text": [
      "[1] \"Analyzing: Erythroblasts_G1C_vs_RBD.dds.res_G1C_vs_GFP\"\n"
     ]
    },
    {
     "name": "stderr",
     "output_type": "stream",
     "text": [
      "Running FGSEA\n",
      "\n",
      "Number of total enriched terms: 6101\n",
      "\n",
      "Number of significant terms: 764\n",
      "\n",
      "Double check that it's the same number of terms: 421\n",
      "\n",
      "Number of significant terms: 117\n",
      "\n"
     ]
    },
    {
     "name": "stdout",
     "output_type": "stream",
     "text": [
      "[1] \"Analyzing: Gran_Mono_prog._RBD_vs_GFP.dds.res_G1C_vs_GFP\"\n"
     ]
    },
    {
     "name": "stderr",
     "output_type": "stream",
     "text": [
      "Running FGSEA\n",
      "\n",
      "Number of total enriched terms: 8776\n",
      "\n",
      "Number of significant terms: 268\n",
      "\n",
      "Double check that it's the same number of terms: 190\n",
      "\n",
      "Number of significant terms: 21\n",
      "\n"
     ]
    },
    {
     "name": "stdout",
     "output_type": "stream",
     "text": [
      "[1] \"Analyzing: large_pre-B._G1C_vs_GFP\"\n"
     ]
    },
    {
     "name": "stderr",
     "output_type": "stream",
     "text": [
      "Running FGSEA\n",
      "\n",
      "Number of total enriched terms: 9415\n",
      "\n",
      "Number of significant terms: 784\n",
      "\n",
      "Double check that it's the same number of terms: 541\n",
      "\n",
      "Number of significant terms: 141\n",
      "\n"
     ]
    },
    {
     "name": "stdout",
     "output_type": "stream",
     "text": [
      "[1] \"Analyzing: large_pre-B._G1C_vs_RBD.dds.res_G1C_vs_GFP\"\n"
     ]
    },
    {
     "name": "stderr",
     "output_type": "stream",
     "text": [
      "Running FGSEA\n",
      "\n",
      "Number of total enriched terms: 7445\n",
      "\n",
      "Number of significant terms: 706\n",
      "\n",
      "Double check that it's the same number of terms: 532\n",
      "\n",
      "Number of significant terms: 101\n",
      "\n"
     ]
    },
    {
     "name": "stdout",
     "output_type": "stream",
     "text": [
      "[1] \"Analyzing: large_pre-B._RBD_vs_GFP.dds.res_G1C_vs_GFP\"\n"
     ]
    },
    {
     "name": "stderr",
     "output_type": "stream",
     "text": [
      "Running FGSEA\n",
      "\n",
      "Number of total enriched terms: 4216\n",
      "\n",
      "Number of significant terms: 626\n",
      "\n",
      "Double check that it's the same number of terms: 434\n",
      "\n",
      "Number of significant terms: 54\n",
      "\n"
     ]
    },
    {
     "name": "stdout",
     "output_type": "stream",
     "text": [
      "[1] \"Analyzing: LMPPs_G1C_vs_GFP\"\n"
     ]
    },
    {
     "name": "stderr",
     "output_type": "stream",
     "text": [
      "Running FGSEA\n",
      "\n",
      "Number of total enriched terms: 9778\n",
      "\n",
      "Number of significant terms: 339\n",
      "\n",
      "Double check that it's the same number of terms: 192\n",
      "\n",
      "Number of significant terms: 24\n",
      "\n"
     ]
    },
    {
     "name": "stdout",
     "output_type": "stream",
     "text": [
      "[1] \"Analyzing: LMPPs_G1C_vs_RBD.dds.res_G1C_vs_GFP\"\n"
     ]
    },
    {
     "name": "stderr",
     "output_type": "stream",
     "text": [
      "Running FGSEA\n",
      "\n",
      "Number of total enriched terms: 9758\n",
      "\n",
      "Number of significant terms: 1694\n",
      "\n",
      "Double check that it's the same number of terms: 1130\n",
      "\n",
      "Number of significant terms: 209\n",
      "\n"
     ]
    },
    {
     "name": "stdout",
     "output_type": "stream",
     "text": [
      "[1] \"Analyzing: LMPPs_RBD_vs_GFP.dds.res_G1C_vs_GFP\"\n"
     ]
    },
    {
     "name": "stderr",
     "output_type": "stream",
     "text": [
      "Running FGSEA\n",
      "\n",
      "Number of total enriched terms: 9567\n",
      "\n",
      "Number of significant terms: 1299\n",
      "\n",
      "Double check that it's the same number of terms: 914\n",
      "\n",
      "Number of significant terms: 168\n",
      "\n"
     ]
    },
    {
     "name": "stdout",
     "output_type": "stream",
     "text": [
      "[1] \"Analyzing: Mk_prog._G1C_vs_GFP\"\n"
     ]
    },
    {
     "name": "stderr",
     "output_type": "stream",
     "text": [
      "Running FGSEA\n",
      "\n",
      "Number of total enriched terms: 7009\n",
      "\n",
      "Number of significant terms: 361\n",
      "\n",
      "Double check that it's the same number of terms: 250\n",
      "\n",
      "Number of significant terms: 50\n",
      "\n"
     ]
    },
    {
     "name": "stdout",
     "output_type": "stream",
     "text": [
      "[1] \"Analyzing: Mk_prog._G1C_vs_RBD.dds.res_G1C_vs_GFP\"\n"
     ]
    },
    {
     "name": "stderr",
     "output_type": "stream",
     "text": [
      "Running FGSEA\n",
      "\n",
      "Number of total enriched terms: 4276\n",
      "\n",
      "Number of significant terms: 153\n",
      "\n",
      "Double check that it's the same number of terms: 84\n",
      "\n",
      "Number of significant terms: 13\n",
      "\n"
     ]
    },
    {
     "name": "stdout",
     "output_type": "stream",
     "text": [
      "[1] \"Analyzing: Mk_prog._RBD_vs_GFP.dds.res_G1C_vs_GFP\"\n"
     ]
    },
    {
     "name": "stderr",
     "output_type": "stream",
     "text": [
      "Running FGSEA\n",
      "\n",
      "Number of total enriched terms: 5817\n",
      "\n",
      "Number of significant terms: 69\n",
      "\n",
      "Double check that it's the same number of terms: 38\n",
      "\n",
      "Number of significant terms: 13\n",
      "\n"
     ]
    },
    {
     "name": "stdout",
     "output_type": "stream",
     "text": [
      "[1] \"Analyzing: Mono_prog._G1C_vs_GFP\"\n"
     ]
    },
    {
     "name": "stderr",
     "output_type": "stream",
     "text": [
      "Running FGSEA\n",
      "\n",
      "Number of total enriched terms: 6513\n",
      "\n",
      "Number of significant terms: 505\n",
      "\n",
      "Double check that it's the same number of terms: 262\n",
      "\n",
      "Number of significant terms: 49\n",
      "\n"
     ]
    },
    {
     "name": "stdout",
     "output_type": "stream",
     "text": [
      "[1] \"Analyzing: Mono_prog._G1C_vs_RBD.dds.res_G1C_vs_GFP\"\n"
     ]
    },
    {
     "name": "stderr",
     "output_type": "stream",
     "text": [
      "Running FGSEA\n",
      "\n",
      "Number of total enriched terms: 6415\n",
      "\n",
      "Number of significant terms: 255\n",
      "\n",
      "Double check that it's the same number of terms: 144\n",
      "\n",
      "Number of significant terms: 27\n",
      "\n"
     ]
    },
    {
     "name": "stdout",
     "output_type": "stream",
     "text": [
      "[1] \"Analyzing: Mono_prog._RBD_vs_GFP.dds.res_G1C_vs_GFP\"\n"
     ]
    },
    {
     "name": "stderr",
     "output_type": "stream",
     "text": [
      "Running FGSEA\n",
      "\n",
      "Number of total enriched terms: 8694\n",
      "\n",
      "Number of significant terms: 267\n",
      "\n",
      "Double check that it's the same number of terms: 163\n",
      "\n",
      "Number of significant terms: 53\n",
      "\n"
     ]
    },
    {
     "name": "stdout",
     "output_type": "stream",
     "text": [
      "[1] \"Analyzing: Monocytes_G1C_vs_GFP\"\n"
     ]
    },
    {
     "name": "stderr",
     "output_type": "stream",
     "text": [
      "Running FGSEA\n",
      "\n",
      "Number of total enriched terms: 9968\n",
      "\n",
      "Number of significant terms: 1661\n",
      "\n",
      "Double check that it's the same number of terms: 1169\n",
      "\n",
      "Number of significant terms: 212\n",
      "\n"
     ]
    },
    {
     "name": "stdout",
     "output_type": "stream",
     "text": [
      "[1] \"Analyzing: Monocytes_G1C_vs_RBD.dds.res_G1C_vs_GFP\"\n"
     ]
    },
    {
     "name": "stderr",
     "output_type": "stream",
     "text": [
      "Running FGSEA\n",
      "\n",
      "Number of total enriched terms: 9999\n",
      "\n",
      "Number of significant terms: 1452\n",
      "\n",
      "Double check that it's the same number of terms: 1008\n",
      "\n",
      "Number of significant terms: 220\n",
      "\n"
     ]
    },
    {
     "name": "stdout",
     "output_type": "stream",
     "text": [
      "[1] \"Analyzing: Monocytes_RBD_vs_GFP.dds.res_G1C_vs_GFP\"\n"
     ]
    },
    {
     "name": "stderr",
     "output_type": "stream",
     "text": [
      "Running FGSEA\n",
      "\n",
      "Number of total enriched terms: 9909\n",
      "\n",
      "Number of significant terms: 1595\n",
      "\n",
      "Double check that it's the same number of terms: 935\n",
      "\n",
      "Number of significant terms: 216\n",
      "\n"
     ]
    },
    {
     "name": "stdout",
     "output_type": "stream",
     "text": [
      "[1] \"Analyzing: Neutro_prog._G1C_vs_GFP\"\n"
     ]
    },
    {
     "name": "stderr",
     "output_type": "stream",
     "text": [
      "Running FGSEA\n",
      "\n",
      "Number of total enriched terms: 1995\n",
      "\n",
      "Number of significant terms: 141\n",
      "\n",
      "Double check that it's the same number of terms: 71\n",
      "\n",
      "Number of significant terms: 4\n",
      "\n"
     ]
    },
    {
     "name": "stdout",
     "output_type": "stream",
     "text": [
      "[1] \"Analyzing: Neutro_prog._G1C_vs_RBD.dds.res_G1C_vs_GFP\"\n"
     ]
    },
    {
     "name": "stderr",
     "output_type": "stream",
     "text": [
      "Running FGSEA\n",
      "\n",
      "Number of total enriched terms: 9314\n",
      "\n",
      "Number of significant terms: 623\n",
      "\n",
      "Double check that it's the same number of terms: 350\n",
      "\n",
      "Number of significant terms: 75\n",
      "\n"
     ]
    },
    {
     "name": "stdout",
     "output_type": "stream",
     "text": [
      "[1] \"Analyzing: Neutro_prog._RBD_vs_GFP.dds.res_G1C_vs_GFP\"\n"
     ]
    },
    {
     "name": "stderr",
     "output_type": "stream",
     "text": [
      "Running FGSEA\n",
      "\n",
      "Number of total enriched terms: 8544\n",
      "\n",
      "Number of significant terms: 263\n",
      "\n",
      "Double check that it's the same number of terms: 196\n",
      "\n",
      "Number of significant terms: 30\n",
      "\n"
     ]
    },
    {
     "name": "stdout",
     "output_type": "stream",
     "text": [
      "[1] \"Analyzing: Neutrophils_G1C_vs_GFP\"\n"
     ]
    },
    {
     "name": "stderr",
     "output_type": "stream",
     "text": [
      "Running FGSEA\n",
      "\n",
      "Number of total enriched terms: 9719\n",
      "\n",
      "Number of significant terms: 3225\n",
      "\n",
      "Double check that it's the same number of terms: 2507\n",
      "\n",
      "Number of significant terms: 416\n",
      "\n"
     ]
    },
    {
     "name": "stdout",
     "output_type": "stream",
     "text": [
      "[1] \"Analyzing: Neutrophils_G1C_vs_RBD.dds.res_G1C_vs_GFP\"\n"
     ]
    },
    {
     "name": "stderr",
     "output_type": "stream",
     "text": [
      "Running FGSEA\n",
      "\n",
      "Number of total enriched terms: 9911\n",
      "\n",
      "Number of significant terms: 3701\n",
      "\n",
      "Double check that it's the same number of terms: 2675\n",
      "\n",
      "Number of significant terms: 474\n",
      "\n"
     ]
    },
    {
     "name": "stdout",
     "output_type": "stream",
     "text": [
      "[1] \"Analyzing: Neutrophils_RBD_vs_GFP.dds.res_G1C_vs_GFP\"\n"
     ]
    },
    {
     "name": "stderr",
     "output_type": "stream",
     "text": [
      "Running FGSEA\n",
      "\n",
      "Number of total enriched terms: 10392\n",
      "\n",
      "Number of significant terms: 1253\n",
      "\n",
      "Double check that it's the same number of terms: 650\n",
      "\n",
      "Number of significant terms: 138\n",
      "\n"
     ]
    },
    {
     "name": "stdout",
     "output_type": "stream",
     "text": [
      "[1] \"Analyzing: NK_cells_G1C_vs_GFP\"\n"
     ]
    },
    {
     "name": "stderr",
     "output_type": "stream",
     "text": [
      "Running FGSEA\n",
      "\n",
      "Number of total enriched terms: 9715\n",
      "\n",
      "Number of significant terms: 812\n",
      "\n",
      "Double check that it's the same number of terms: 483\n",
      "\n",
      "Number of significant terms: 82\n",
      "\n"
     ]
    },
    {
     "name": "stdout",
     "output_type": "stream",
     "text": [
      "[1] \"Analyzing: NK_cells_G1C_vs_RBD.dds.res_G1C_vs_GFP\"\n"
     ]
    },
    {
     "name": "stderr",
     "output_type": "stream",
     "text": [
      "Running FGSEA\n",
      "\n",
      "Number of total enriched terms: 9724\n",
      "\n",
      "Number of significant terms: 706\n",
      "\n",
      "Double check that it's the same number of terms: 414\n",
      "\n",
      "Number of significant terms: 89\n",
      "\n"
     ]
    },
    {
     "name": "stdout",
     "output_type": "stream",
     "text": [
      "[1] \"Analyzing: NK_cells_RBD_vs_GFP.dds.res_G1C_vs_GFP\"\n"
     ]
    },
    {
     "name": "stderr",
     "output_type": "stream",
     "text": [
      "Running FGSEA\n",
      "\n",
      "Number of total enriched terms: 9749\n",
      "\n",
      "Number of significant terms: 179\n",
      "\n",
      "Double check that it's the same number of terms: 105\n",
      "\n",
      "Number of significant terms: 34\n",
      "\n"
     ]
    },
    {
     "name": "stdout",
     "output_type": "stream",
     "text": [
      "[1] \"Analyzing: pro-B_G1C_vs_GFP\"\n"
     ]
    },
    {
     "name": "stderr",
     "output_type": "stream",
     "text": [
      "Running FGSEA\n",
      "\n",
      "Number of total enriched terms: 8046\n",
      "\n",
      "Number of significant terms: 1120\n",
      "\n",
      "Double check that it's the same number of terms: 797\n",
      "\n",
      "Number of significant terms: 207\n",
      "\n"
     ]
    },
    {
     "name": "stdout",
     "output_type": "stream",
     "text": [
      "[1] \"Analyzing: pro-B_G1C_vs_RBD.dds.res_G1C_vs_GFP\"\n"
     ]
    },
    {
     "name": "stderr",
     "output_type": "stream",
     "text": [
      "Running FGSEA\n",
      "\n",
      "Number of total enriched terms: 9338\n",
      "\n",
      "Number of significant terms: 1357\n",
      "\n",
      "Double check that it's the same number of terms: 981\n",
      "\n",
      "Number of significant terms: 269\n",
      "\n"
     ]
    },
    {
     "name": "stdout",
     "output_type": "stream",
     "text": [
      "[1] \"Analyzing: pro-B_RBD_vs_GFP.dds.res_G1C_vs_GFP\"\n"
     ]
    },
    {
     "name": "stderr",
     "output_type": "stream",
     "text": [
      "Running FGSEA\n",
      "\n",
      "Number of total enriched terms: 5191\n",
      "\n",
      "Number of significant terms: 98\n",
      "\n",
      "Double check that it's the same number of terms: 52\n",
      "\n",
      "Number of significant terms: 15\n",
      "\n"
     ]
    },
    {
     "name": "stdout",
     "output_type": "stream",
     "text": [
      "[1] \"Analyzing: small_pre-B._G1C_vs_GFP\"\n"
     ]
    },
    {
     "name": "stderr",
     "output_type": "stream",
     "text": [
      "Running FGSEA\n",
      "\n",
      "Number of total enriched terms: 9076\n",
      "\n",
      "Number of significant terms: 1951\n",
      "\n",
      "Double check that it's the same number of terms: 1159\n",
      "\n",
      "Number of significant terms: 234\n",
      "\n"
     ]
    },
    {
     "name": "stdout",
     "output_type": "stream",
     "text": [
      "[1] \"Analyzing: small_pre-B._G1C_vs_RBD.dds.res_G1C_vs_GFP\"\n"
     ]
    },
    {
     "name": "stderr",
     "output_type": "stream",
     "text": [
      "Running FGSEA\n",
      "\n",
      "Number of total enriched terms: 8684\n",
      "\n",
      "Number of significant terms: 1269\n",
      "\n",
      "Double check that it's the same number of terms: 848\n",
      "\n",
      "Number of significant terms: 115\n",
      "\n"
     ]
    },
    {
     "name": "stdout",
     "output_type": "stream",
     "text": [
      "[1] \"Analyzing: small_pre-B._RBD_vs_GFP.dds.res_G1C_vs_GFP\"\n"
     ]
    },
    {
     "name": "stderr",
     "output_type": "stream",
     "text": [
      "Running FGSEA\n",
      "\n",
      "Number of total enriched terms: 8809\n",
      "\n",
      "Number of significant terms: 893\n",
      "\n",
      "Double check that it's the same number of terms: 679\n",
      "\n",
      "Number of significant terms: 133\n",
      "\n"
     ]
    },
    {
     "name": "stdout",
     "output_type": "stream",
     "text": [
      "[1] \"Analyzing: T_cells_G1C_vs_GFP\"\n"
     ]
    },
    {
     "name": "stderr",
     "output_type": "stream",
     "text": [
      "Running FGSEA\n",
      "\n",
      "Number of total enriched terms: 6961\n",
      "\n",
      "Number of significant terms: 483\n",
      "\n",
      "Double check that it's the same number of terms: 306\n",
      "\n",
      "Number of significant terms: 50\n",
      "\n"
     ]
    },
    {
     "name": "stdout",
     "output_type": "stream",
     "text": [
      "[1] \"Analyzing: T_cells_G1C_vs_RBD.dds.res_G1C_vs_GFP\"\n"
     ]
    },
    {
     "name": "stderr",
     "output_type": "stream",
     "text": [
      "Running FGSEA\n",
      "\n",
      "Number of total enriched terms: 7425\n",
      "\n",
      "Number of significant terms: 673\n",
      "\n",
      "Double check that it's the same number of terms: 419\n",
      "\n",
      "Number of significant terms: 93\n",
      "\n"
     ]
    },
    {
     "name": "stdout",
     "output_type": "stream",
     "text": [
      "[1] \"Analyzing: T_cells_RBD_vs_GFP.dds.res_G1C_vs_GFP\"\n"
     ]
    },
    {
     "name": "stderr",
     "output_type": "stream",
     "text": [
      "Running FGSEA\n",
      "\n",
      "Number of total enriched terms: 8721\n",
      "\n",
      "Number of significant terms: 1043\n",
      "\n",
      "Double check that it's the same number of terms: 786\n",
      "\n",
      "Number of significant terms: 130\n",
      "\n"
     ]
    },
    {
     "name": "stdout",
     "output_type": "stream",
     "text": [
      "[1] \"Analyzing: B_cell_G1C_vs_GFP.dds.res_RBD_vs_GFP\"\n"
     ]
    },
    {
     "name": "stderr",
     "output_type": "stream",
     "text": [
      "Running FGSEA\n",
      "\n",
      "Number of total enriched terms: 9783\n",
      "\n",
      "Number of significant terms: 1732\n",
      "\n",
      "Double check that it's the same number of terms: 1012\n",
      "\n",
      "Number of significant terms: 196\n",
      "\n"
     ]
    },
    {
     "name": "stdout",
     "output_type": "stream",
     "text": [
      "[1] \"Analyzing: B_cell_G1C_vs_RBD.dds.res_RBD_vs_GFP\"\n"
     ]
    },
    {
     "name": "stderr",
     "output_type": "stream",
     "text": [
      "Running FGSEA\n",
      "\n",
      "Number of total enriched terms: 9577\n",
      "\n",
      "Number of significant terms: 1871\n",
      "\n",
      "Double check that it's the same number of terms: 1116\n",
      "\n",
      "Number of significant terms: 207\n",
      "\n"
     ]
    },
    {
     "name": "stdout",
     "output_type": "stream",
     "text": [
      "[1] \"Analyzing: B_cell_RBD_vs_GFP\"\n"
     ]
    },
    {
     "name": "stderr",
     "output_type": "stream",
     "text": [
      "Running FGSEA\n",
      "\n",
      "Number of total enriched terms: 9689\n",
      "\n",
      "Number of significant terms: 759\n",
      "\n",
      "Double check that it's the same number of terms: 508\n",
      "\n",
      "Number of significant terms: 94\n",
      "\n"
     ]
    },
    {
     "name": "stdout",
     "output_type": "stream",
     "text": [
      "[1] \"Analyzing: Dendritic_cells_G1C_vs_GFP.dds.res_RBD_vs_GFP\"\n"
     ]
    },
    {
     "name": "stderr",
     "output_type": "stream",
     "text": [
      "Running FGSEA\n",
      "\n",
      "Number of total enriched terms: 9736\n",
      "\n",
      "Number of significant terms: 1891\n",
      "\n",
      "Double check that it's the same number of terms: 1240\n",
      "\n",
      "Number of significant terms: 216\n",
      "\n"
     ]
    },
    {
     "name": "stdout",
     "output_type": "stream",
     "text": [
      "[1] \"Analyzing: Dendritic_cells_G1C_vs_RBD.dds.res_RBD_vs_GFP\"\n"
     ]
    },
    {
     "name": "stderr",
     "output_type": "stream",
     "text": [
      "Running FGSEA\n",
      "\n",
      "Number of total enriched terms: 9585\n",
      "\n",
      "Number of significant terms: 1265\n",
      "\n",
      "Double check that it's the same number of terms: 922\n",
      "\n",
      "Number of significant terms: 200\n",
      "\n"
     ]
    },
    {
     "name": "stdout",
     "output_type": "stream",
     "text": [
      "[1] \"Analyzing: Dendritic_cells_RBD_vs_GFP\"\n"
     ]
    },
    {
     "name": "stderr",
     "output_type": "stream",
     "text": [
      "Running FGSEA\n",
      "\n",
      "Number of total enriched terms: 9487\n",
      "\n",
      "Number of significant terms: 1116\n",
      "\n",
      "Double check that it's the same number of terms: 722\n",
      "\n",
      "Number of significant terms: 185\n",
      "\n"
     ]
    },
    {
     "name": "stdout",
     "output_type": "stream",
     "text": [
      "[1] \"Analyzing: Eo_Baso_prog._G1C_vs_GFP.dds.res_RBD_vs_GFP\"\n"
     ]
    },
    {
     "name": "stderr",
     "output_type": "stream",
     "text": [
      "Running FGSEA\n",
      "\n",
      "Number of total enriched terms: 9464\n",
      "\n",
      "Number of significant terms: 171\n",
      "\n",
      "Double check that it's the same number of terms: 94\n",
      "\n",
      "Number of significant terms: 8\n",
      "\n"
     ]
    },
    {
     "name": "stdout",
     "output_type": "stream",
     "text": [
      "[1] \"Analyzing: Eo_Baso_prog._G1C_vs_RBD.dds.res_RBD_vs_GFP\"\n"
     ]
    },
    {
     "name": "stderr",
     "output_type": "stream",
     "text": [
      "Running FGSEA\n",
      "\n",
      "Number of total enriched terms: 9455\n",
      "\n",
      "Number of significant terms: 196\n",
      "\n",
      "Double check that it's the same number of terms: 116\n",
      "\n",
      "Number of significant terms: 16\n",
      "\n"
     ]
    },
    {
     "name": "stdout",
     "output_type": "stream",
     "text": [
      "[1] \"Analyzing: Eo_Baso_prog._RBD_vs_GFP\"\n"
     ]
    },
    {
     "name": "stderr",
     "output_type": "stream",
     "text": [
      "Running FGSEA\n",
      "\n",
      "Number of total enriched terms: 9192\n",
      "\n",
      "Number of significant terms: 57\n",
      "\n",
      "Double check that it's the same number of terms: 22\n",
      "\n",
      "Number of significant terms: 7\n",
      "\n"
     ]
    },
    {
     "name": "stdout",
     "output_type": "stream",
     "text": [
      "[1] \"Analyzing: Ery_Mk_prog._G1C_vs_GFP.dds.res_RBD_vs_GFP\"\n"
     ]
    },
    {
     "name": "stderr",
     "output_type": "stream",
     "text": [
      "Running FGSEA\n",
      "\n",
      "Number of total enriched terms: 3747\n",
      "\n",
      "Number of significant terms: 89\n",
      "\n",
      "Double check that it's the same number of terms: 47\n",
      "\n",
      "Number of significant terms: 2\n",
      "\n"
     ]
    },
    {
     "name": "stdout",
     "output_type": "stream",
     "text": [
      "[1] \"Analyzing: Ery_Mk_prog._G1C_vs_RBD.dds.res_RBD_vs_GFP\"\n"
     ]
    },
    {
     "name": "stderr",
     "output_type": "stream",
     "text": [
      "Running FGSEA\n",
      "\n",
      "Number of total enriched terms: 2258\n",
      "\n",
      "Number of significant terms: 80\n",
      "\n",
      "Double check that it's the same number of terms: 13\n",
      "\n",
      "Number of significant terms: 1\n",
      "\n"
     ]
    },
    {
     "name": "stdout",
     "output_type": "stream",
     "text": [
      "[1] \"Analyzing: Ery_Mk_prog._RBD_vs_GFP\"\n"
     ]
    },
    {
     "name": "stderr",
     "output_type": "stream",
     "text": [
      "Running FGSEA\n",
      "\n",
      "Number of total enriched terms: 6531\n",
      "\n",
      "Number of significant terms: 347\n",
      "\n",
      "Double check that it's the same number of terms: 204\n",
      "\n",
      "Number of significant terms: 102\n",
      "\n"
     ]
    },
    {
     "name": "stdout",
     "output_type": "stream",
     "text": [
      "[1] \"Analyzing: Erythroblasts_G1C_vs_GFP.dds.res_RBD_vs_GFP\"\n"
     ]
    },
    {
     "name": "stderr",
     "output_type": "stream",
     "text": [
      "Running FGSEA\n",
      "\n",
      "Number of total enriched terms: 2530\n",
      "\n",
      "Number of significant terms: 660\n",
      "\n",
      "Double check that it's the same number of terms: 331\n",
      "\n",
      "Number of significant terms: 47\n",
      "\n"
     ]
    },
    {
     "name": "stdout",
     "output_type": "stream",
     "text": [
      "[1] \"Analyzing: Erythroblasts_G1C_vs_RBD.dds.res_RBD_vs_GFP\"\n"
     ]
    },
    {
     "name": "stderr",
     "output_type": "stream",
     "text": [
      "Running FGSEA\n",
      "\n",
      "Number of total enriched terms: 7109\n",
      "\n",
      "Number of significant terms: 808\n",
      "\n",
      "Double check that it's the same number of terms: 466\n",
      "\n",
      "Number of significant terms: 93\n",
      "\n"
     ]
    },
    {
     "name": "stdout",
     "output_type": "stream",
     "text": [
      "[1] \"Analyzing: Erythroblasts_RBD_vs_GFP\"\n"
     ]
    },
    {
     "name": "stderr",
     "output_type": "stream",
     "text": [
      "Running FGSEA\n",
      "\n",
      "Number of total enriched terms: 7606\n",
      "\n",
      "Number of significant terms: 994\n",
      "\n",
      "Double check that it's the same number of terms: 640\n",
      "\n",
      "Number of significant terms: 180\n",
      "\n"
     ]
    },
    {
     "name": "stdout",
     "output_type": "stream",
     "text": [
      "[1] \"Analyzing: Gran_Mono_prog._G1C_vs_GFP.dds.res_RBD_vs_GFP\"\n"
     ]
    },
    {
     "name": "stderr",
     "output_type": "stream",
     "text": [
      "Running FGSEA\n",
      "\n",
      "Number of total enriched terms: 9368\n",
      "\n",
      "Number of significant terms: 727\n",
      "\n",
      "Double check that it's the same number of terms: 399\n",
      "\n",
      "Number of significant terms: 125\n",
      "\n"
     ]
    },
    {
     "name": "stdout",
     "output_type": "stream",
     "text": [
      "[1] \"Analyzing: Gran_Mono_prog._G1C_vs_RBD.dds.res_RBD_vs_GFP\"\n"
     ]
    },
    {
     "name": "stderr",
     "output_type": "stream",
     "text": [
      "Running FGSEA\n",
      "\n",
      "Number of total enriched terms: 6101\n",
      "\n",
      "Number of significant terms: 769\n",
      "\n",
      "Double check that it's the same number of terms: 427\n",
      "\n",
      "Number of significant terms: 120\n",
      "\n"
     ]
    },
    {
     "name": "stdout",
     "output_type": "stream",
     "text": [
      "[1] \"Analyzing: Gran_Mono_prog._RBD_vs_GFP\"\n"
     ]
    },
    {
     "name": "stderr",
     "output_type": "stream",
     "text": [
      "Running FGSEA\n",
      "\n",
      "Number of total enriched terms: 8776\n",
      "\n",
      "Number of significant terms: 251\n",
      "\n",
      "Double check that it's the same number of terms: 182\n",
      "\n",
      "Number of significant terms: 22\n",
      "\n"
     ]
    },
    {
     "name": "stdout",
     "output_type": "stream",
     "text": [
      "[1] \"Analyzing: large_pre-B._G1C_vs_GFP.dds.res_RBD_vs_GFP\"\n"
     ]
    },
    {
     "name": "stderr",
     "output_type": "stream",
     "text": [
      "Running FGSEA\n",
      "\n",
      "Number of total enriched terms: 9415\n",
      "\n",
      "Number of significant terms: 685\n",
      "\n",
      "Double check that it's the same number of terms: 474\n",
      "\n",
      "Number of significant terms: 130\n",
      "\n"
     ]
    },
    {
     "name": "stdout",
     "output_type": "stream",
     "text": [
      "[1] \"Analyzing: large_pre-B._G1C_vs_RBD.dds.res_RBD_vs_GFP\"\n"
     ]
    },
    {
     "name": "stderr",
     "output_type": "stream",
     "text": [
      "Running FGSEA\n",
      "\n",
      "Number of total enriched terms: 7445\n",
      "\n",
      "Number of significant terms: 669\n",
      "\n",
      "Double check that it's the same number of terms: 502\n",
      "\n",
      "Number of significant terms: 98\n",
      "\n"
     ]
    },
    {
     "name": "stdout",
     "output_type": "stream",
     "text": [
      "[1] \"Analyzing: large_pre-B._RBD_vs_GFP\"\n"
     ]
    },
    {
     "name": "stderr",
     "output_type": "stream",
     "text": [
      "Running FGSEA\n",
      "\n",
      "Number of total enriched terms: 4216\n",
      "\n",
      "Number of significant terms: 673\n",
      "\n",
      "Double check that it's the same number of terms: 462\n",
      "\n",
      "Number of significant terms: 55\n",
      "\n"
     ]
    },
    {
     "name": "stdout",
     "output_type": "stream",
     "text": [
      "[1] \"Analyzing: LMPPs_G1C_vs_GFP.dds.res_RBD_vs_GFP\"\n"
     ]
    },
    {
     "name": "stderr",
     "output_type": "stream",
     "text": [
      "Running FGSEA\n",
      "\n",
      "Number of total enriched terms: 9778\n",
      "\n",
      "Number of significant terms: 337\n",
      "\n",
      "Double check that it's the same number of terms: 189\n",
      "\n",
      "Number of significant terms: 23\n",
      "\n"
     ]
    },
    {
     "name": "stdout",
     "output_type": "stream",
     "text": [
      "[1] \"Analyzing: LMPPs_G1C_vs_RBD.dds.res_RBD_vs_GFP\"\n"
     ]
    },
    {
     "name": "stderr",
     "output_type": "stream",
     "text": [
      "Running FGSEA\n",
      "\n",
      "Number of total enriched terms: 9758\n",
      "\n",
      "Number of significant terms: 1593\n",
      "\n",
      "Double check that it's the same number of terms: 1062\n",
      "\n",
      "Number of significant terms: 195\n",
      "\n"
     ]
    },
    {
     "name": "stdout",
     "output_type": "stream",
     "text": [
      "[1] \"Analyzing: LMPPs_RBD_vs_GFP\"\n"
     ]
    },
    {
     "name": "stderr",
     "output_type": "stream",
     "text": [
      "Running FGSEA\n",
      "\n",
      "Number of total enriched terms: 9567\n",
      "\n",
      "Number of significant terms: 1331\n",
      "\n",
      "Double check that it's the same number of terms: 939\n",
      "\n",
      "Number of significant terms: 175\n",
      "\n"
     ]
    },
    {
     "name": "stdout",
     "output_type": "stream",
     "text": [
      "[1] \"Analyzing: Mk_prog._G1C_vs_GFP.dds.res_RBD_vs_GFP\"\n"
     ]
    },
    {
     "name": "stderr",
     "output_type": "stream",
     "text": [
      "Running FGSEA\n",
      "\n",
      "Number of total enriched terms: 7009\n",
      "\n",
      "Number of significant terms: 378\n",
      "\n",
      "Double check that it's the same number of terms: 256\n",
      "\n",
      "Number of significant terms: 51\n",
      "\n"
     ]
    },
    {
     "name": "stdout",
     "output_type": "stream",
     "text": [
      "[1] \"Analyzing: Mk_prog._G1C_vs_RBD.dds.res_RBD_vs_GFP\"\n"
     ]
    },
    {
     "name": "stderr",
     "output_type": "stream",
     "text": [
      "Running FGSEA\n",
      "\n",
      "Number of total enriched terms: 4276\n",
      "\n",
      "Number of significant terms: 161\n",
      "\n",
      "Double check that it's the same number of terms: 89\n",
      "\n",
      "Number of significant terms: 15\n",
      "\n"
     ]
    },
    {
     "name": "stdout",
     "output_type": "stream",
     "text": [
      "[1] \"Analyzing: Mk_prog._RBD_vs_GFP\"\n"
     ]
    },
    {
     "name": "stderr",
     "output_type": "stream",
     "text": [
      "Running FGSEA\n",
      "\n",
      "Number of total enriched terms: 5817\n",
      "\n",
      "Number of significant terms: 93\n",
      "\n",
      "Double check that it's the same number of terms: 50\n",
      "\n",
      "Number of significant terms: 21\n",
      "\n"
     ]
    },
    {
     "name": "stdout",
     "output_type": "stream",
     "text": [
      "[1] \"Analyzing: Mono_prog._G1C_vs_GFP.dds.res_RBD_vs_GFP\"\n"
     ]
    },
    {
     "name": "stderr",
     "output_type": "stream",
     "text": [
      "Running FGSEA\n",
      "\n",
      "Number of total enriched terms: 6513\n",
      "\n",
      "Number of significant terms: 406\n",
      "\n",
      "Double check that it's the same number of terms: 207\n",
      "\n",
      "Number of significant terms: 38\n",
      "\n",
      "Number of total enriched terms: 6415\n",
      "\n",
      "Number of significant terms: 256\n",
      "\n",
      "Double check that it's the same number of terms: 145\n",
      "\n",
      "Number of significant terms: 28\n",
      "\n"
     ]
    },
    {
     "name": "stdout",
     "output_type": "stream",
     "text": [
      "[1] \"Analyzing: Mono_prog._RBD_vs_GFP\"\n"
     ]
    },
    {
     "name": "stderr",
     "output_type": "stream",
     "text": [
      "Running FGSEA\n",
      "\n",
      "Number of total enriched terms: 8694\n",
      "\n",
      "Number of significant terms: 238\n",
      "\n",
      "Double check that it's the same number of terms: 146\n",
      "\n",
      "Number of significant terms: 48\n",
      "\n"
     ]
    },
    {
     "name": "stdout",
     "output_type": "stream",
     "text": [
      "[1] \"Analyzing: Monocytes_G1C_vs_GFP.dds.res_RBD_vs_GFP\"\n"
     ]
    },
    {
     "name": "stderr",
     "output_type": "stream",
     "text": [
      "Running FGSEA\n",
      "\n",
      "Number of total enriched terms: 9968\n",
      "\n",
      "Number of significant terms: 1765\n",
      "\n",
      "Double check that it's the same number of terms: 1230\n",
      "\n",
      "Number of significant terms: 221\n",
      "\n"
     ]
    },
    {
     "name": "stdout",
     "output_type": "stream",
     "text": [
      "[1] \"Analyzing: Monocytes_G1C_vs_RBD.dds.res_RBD_vs_GFP\"\n"
     ]
    },
    {
     "name": "stderr",
     "output_type": "stream",
     "text": [
      "Running FGSEA\n",
      "\n",
      "Number of total enriched terms: 9999\n",
      "\n",
      "Number of significant terms: 1513\n",
      "\n",
      "Double check that it's the same number of terms: 1055\n",
      "\n",
      "Number of significant terms: 221\n",
      "\n"
     ]
    },
    {
     "name": "stdout",
     "output_type": "stream",
     "text": [
      "[1] \"Analyzing: Monocytes_RBD_vs_GFP\"\n"
     ]
    },
    {
     "name": "stderr",
     "output_type": "stream",
     "text": [
      "Running FGSEA\n",
      "\n",
      "Number of total enriched terms: 9909\n",
      "\n",
      "Number of significant terms: 1551\n",
      "\n",
      "Double check that it's the same number of terms: 913\n",
      "\n",
      "Number of significant terms: 212\n",
      "\n"
     ]
    },
    {
     "name": "stdout",
     "output_type": "stream",
     "text": [
      "[1] \"Analyzing: Neutro_prog._G1C_vs_GFP.dds.res_RBD_vs_GFP\"\n"
     ]
    },
    {
     "name": "stderr",
     "output_type": "stream",
     "text": [
      "Running FGSEA\n",
      "\n",
      "Number of total enriched terms: 1995\n",
      "\n",
      "Number of significant terms: 132\n",
      "\n",
      "Double check that it's the same number of terms: 65\n",
      "\n",
      "Number of significant terms: 4\n",
      "\n"
     ]
    },
    {
     "name": "stdout",
     "output_type": "stream",
     "text": [
      "[1] \"Analyzing: Neutro_prog._G1C_vs_RBD.dds.res_RBD_vs_GFP\"\n"
     ]
    },
    {
     "name": "stderr",
     "output_type": "stream",
     "text": [
      "Running FGSEA\n",
      "\n",
      "Number of total enriched terms: 9314\n",
      "\n",
      "Number of significant terms: 661\n",
      "\n",
      "Double check that it's the same number of terms: 371\n",
      "\n",
      "Number of significant terms: 78\n",
      "\n"
     ]
    },
    {
     "name": "stdout",
     "output_type": "stream",
     "text": [
      "[1] \"Analyzing: Neutro_prog._RBD_vs_GFP\"\n"
     ]
    },
    {
     "name": "stderr",
     "output_type": "stream",
     "text": [
      "Running FGSEA\n",
      "\n",
      "Number of total enriched terms: 8544\n",
      "\n",
      "Number of significant terms: 246\n",
      "\n",
      "Double check that it's the same number of terms: 186\n",
      "\n",
      "Number of significant terms: 25\n",
      "\n"
     ]
    },
    {
     "name": "stdout",
     "output_type": "stream",
     "text": [
      "[1] \"Analyzing: Neutrophils_G1C_vs_GFP.dds.res_RBD_vs_GFP\"\n"
     ]
    },
    {
     "name": "stderr",
     "output_type": "stream",
     "text": [
      "Running FGSEA\n",
      "\n",
      "Number of total enriched terms: 9719\n",
      "\n",
      "Number of significant terms: 3207\n",
      "\n",
      "Double check that it's the same number of terms: 2496\n",
      "\n",
      "Number of significant terms: 414\n",
      "\n"
     ]
    },
    {
     "name": "stdout",
     "output_type": "stream",
     "text": [
      "[1] \"Analyzing: Neutrophils_G1C_vs_RBD.dds.res_RBD_vs_GFP\"\n"
     ]
    },
    {
     "name": "stderr",
     "output_type": "stream",
     "text": [
      "Running FGSEA\n",
      "\n",
      "Number of total enriched terms: 9911\n",
      "\n",
      "Number of significant terms: 3452\n",
      "\n",
      "Double check that it's the same number of terms: 2525\n",
      "\n",
      "Number of significant terms: 452\n",
      "\n"
     ]
    },
    {
     "name": "stdout",
     "output_type": "stream",
     "text": [
      "[1] \"Analyzing: Neutrophils_RBD_vs_GFP\"\n"
     ]
    },
    {
     "name": "stderr",
     "output_type": "stream",
     "text": [
      "Running FGSEA\n",
      "\n",
      "Number of total enriched terms: 10392\n",
      "\n",
      "Number of significant terms: 1101\n",
      "\n",
      "Double check that it's the same number of terms: 562\n",
      "\n",
      "Number of significant terms: 118\n",
      "\n"
     ]
    },
    {
     "name": "stdout",
     "output_type": "stream",
     "text": [
      "[1] \"Analyzing: NK_cells_G1C_vs_GFP.dds.res_RBD_vs_GFP\"\n"
     ]
    },
    {
     "name": "stderr",
     "output_type": "stream",
     "text": [
      "Running FGSEA\n",
      "\n",
      "Number of total enriched terms: 9715\n",
      "\n",
      "Number of significant terms: 825\n",
      "\n",
      "Double check that it's the same number of terms: 492\n",
      "\n",
      "Number of significant terms: 84\n",
      "\n"
     ]
    },
    {
     "name": "stdout",
     "output_type": "stream",
     "text": [
      "[1] \"Analyzing: pro-B_RBD_vs_GFP\"\n"
     ]
    },
    {
     "name": "stderr",
     "output_type": "stream",
     "text": [
      "Running FGSEA\n",
      "\n",
      "Number of total enriched terms: 5191\n",
      "\n",
      "Number of significant terms: 100\n",
      "\n",
      "Double check that it's the same number of terms: 52\n",
      "\n",
      "Number of significant terms: 14\n",
      "\n"
     ]
    },
    {
     "name": "stdout",
     "output_type": "stream",
     "text": [
      "[1] \"Analyzing: small_pre-B._G1C_vs_GFP.dds.res_RBD_vs_GFP\"\n"
     ]
    },
    {
     "name": "stderr",
     "output_type": "stream",
     "text": [
      "Running FGSEA\n",
      "\n",
      "Number of total enriched terms: 9076\n",
      "\n",
      "Number of significant terms: 1909\n",
      "\n",
      "Double check that it's the same number of terms: 1131\n",
      "\n",
      "Number of significant terms: 231\n",
      "\n"
     ]
    },
    {
     "name": "stdout",
     "output_type": "stream",
     "text": [
      "[1] \"Analyzing: small_pre-B._G1C_vs_RBD.dds.res_RBD_vs_GFP\"\n"
     ]
    },
    {
     "name": "stderr",
     "output_type": "stream",
     "text": [
      "Running FGSEA\n",
      "\n",
      "Number of total enriched terms: 8684\n",
      "\n",
      "Number of significant terms: 1114\n",
      "\n",
      "Double check that it's the same number of terms: 740\n",
      "\n",
      "Number of significant terms: 98\n",
      "\n"
     ]
    },
    {
     "name": "stdout",
     "output_type": "stream",
     "text": [
      "[1] \"Analyzing: small_pre-B._RBD_vs_GFP\"\n"
     ]
    },
    {
     "name": "stderr",
     "output_type": "stream",
     "text": [
      "Running FGSEA\n",
      "\n",
      "Number of total enriched terms: 8809\n",
      "\n",
      "Number of significant terms: 863\n",
      "\n",
      "Double check that it's the same number of terms: 652\n",
      "\n",
      "Number of significant terms: 132\n",
      "\n"
     ]
    },
    {
     "name": "stdout",
     "output_type": "stream",
     "text": [
      "[1] \"Analyzing: T_cells_G1C_vs_GFP.dds.res_RBD_vs_GFP\"\n"
     ]
    },
    {
     "name": "stderr",
     "output_type": "stream",
     "text": [
      "Running FGSEA\n",
      "\n",
      "Number of total enriched terms: 6961\n",
      "\n",
      "Number of significant terms: 462\n",
      "\n",
      "Double check that it's the same number of terms: 283\n",
      "\n",
      "Number of significant terms: 45\n",
      "\n"
     ]
    },
    {
     "name": "stdout",
     "output_type": "stream",
     "text": [
      "[1] \"Analyzing: T_cells_G1C_vs_RBD.dds.res_RBD_vs_GFP\"\n"
     ]
    },
    {
     "name": "stderr",
     "output_type": "stream",
     "text": [
      "Running FGSEA\n",
      "\n",
      "Number of total enriched terms: 7425\n",
      "\n",
      "Number of significant terms: 771\n",
      "\n",
      "Double check that it's the same number of terms: 477\n",
      "\n",
      "Number of significant terms: 103\n",
      "\n"
     ]
    },
    {
     "name": "stdout",
     "output_type": "stream",
     "text": [
      "[1] \"Analyzing: T_cells_RBD_vs_GFP\"\n"
     ]
    },
    {
     "name": "stderr",
     "output_type": "stream",
     "text": [
      "Running FGSEA\n",
      "\n",
      "Number of total enriched terms: 8721\n",
      "\n",
      "Number of significant terms: 995\n",
      "\n",
      "Double check that it's the same number of terms: 754\n",
      "\n",
      "Number of significant terms: 128\n",
      "\n"
     ]
    },
    {
     "name": "stdout",
     "output_type": "stream",
     "text": [
      "[1] \"Analyzing: B_cell_G1C_vs_GFP.dds.res_G1C_vs_RBD\"\n"
     ]
    },
    {
     "name": "stderr",
     "output_type": "stream",
     "text": [
      "Running FGSEA\n",
      "\n",
      "Number of total enriched terms: 9783\n",
      "\n",
      "Number of significant terms: 1567\n",
      "\n",
      "Double check that it's the same number of terms: 917\n",
      "\n",
      "Number of significant terms: 179\n",
      "\n"
     ]
    },
    {
     "name": "stdout",
     "output_type": "stream",
     "text": [
      "[1] \"Analyzing: B_cell_G1C_vs_RBD\"\n"
     ]
    },
    {
     "name": "stderr",
     "output_type": "stream",
     "text": [
      "Running FGSEA\n",
      "\n",
      "Number of total enriched terms: 9577\n",
      "\n",
      "Number of significant terms: 1723\n",
      "\n",
      "Double check that it's the same number of terms: 1020\n",
      "\n",
      "Number of significant terms: 190\n",
      "\n"
     ]
    },
    {
     "name": "stdout",
     "output_type": "stream",
     "text": [
      "[1] \"Analyzing: B_cell_RBD_vs_GFP.dds.res_G1C_vs_RBD\"\n"
     ]
    },
    {
     "name": "stderr",
     "output_type": "stream",
     "text": [
      "Running FGSEA\n",
      "\n",
      "Number of total enriched terms: 9689\n",
      "\n",
      "Number of significant terms: 758\n",
      "\n",
      "Double check that it's the same number of terms: 508\n",
      "\n",
      "Number of significant terms: 91\n",
      "\n"
     ]
    },
    {
     "name": "stdout",
     "output_type": "stream",
     "text": [
      "[1] \"Analyzing: Dendritic_cells_G1C_vs_GFP.dds.res_G1C_vs_RBD\"\n"
     ]
    },
    {
     "name": "stderr",
     "output_type": "stream",
     "text": [
      "Running FGSEA\n",
      "\n",
      "Number of total enriched terms: 9736\n",
      "\n",
      "Number of significant terms: 1870\n",
      "\n",
      "Double check that it's the same number of terms: 1209\n",
      "\n",
      "Number of significant terms: 215\n",
      "\n"
     ]
    },
    {
     "name": "stdout",
     "output_type": "stream",
     "text": [
      "[1] \"Analyzing: Dendritic_cells_G1C_vs_RBD\"\n"
     ]
    },
    {
     "name": "stderr",
     "output_type": "stream",
     "text": [
      "Running FGSEA\n",
      "\n",
      "Number of total enriched terms: 9585\n",
      "\n",
      "Number of significant terms: 1280\n",
      "\n",
      "Double check that it's the same number of terms: 925\n",
      "\n",
      "Number of significant terms: 205\n",
      "\n"
     ]
    },
    {
     "name": "stdout",
     "output_type": "stream",
     "text": [
      "[1] \"Analyzing: Dendritic_cells_RBD_vs_GFP.dds.res_G1C_vs_RBD\"\n"
     ]
    },
    {
     "name": "stderr",
     "output_type": "stream",
     "text": [
      "Running FGSEA\n",
      "\n",
      "Number of total enriched terms: 9487\n",
      "\n",
      "Number of significant terms: 1089\n",
      "\n",
      "Double check that it's the same number of terms: 707\n",
      "\n",
      "Number of significant terms: 183\n",
      "\n"
     ]
    },
    {
     "name": "stdout",
     "output_type": "stream",
     "text": [
      "[1] \"Analyzing: Eo_Baso_prog._G1C_vs_GFP.dds.res_G1C_vs_RBD\"\n"
     ]
    },
    {
     "name": "stderr",
     "output_type": "stream",
     "text": [
      "Running FGSEA\n",
      "\n",
      "Number of total enriched terms: 9464\n",
      "\n",
      "Number of significant terms: 147\n",
      "\n",
      "Double check that it's the same number of terms: 76\n",
      "\n",
      "Number of significant terms: 4\n",
      "\n"
     ]
    },
    {
     "name": "stdout",
     "output_type": "stream",
     "text": [
      "[1] \"Analyzing: Eo_Baso_prog._G1C_vs_RBD\"\n"
     ]
    },
    {
     "name": "stderr",
     "output_type": "stream",
     "text": [
      "Running FGSEA\n",
      "\n",
      "Number of total enriched terms: 9455\n",
      "\n",
      "Number of significant terms: 162\n",
      "\n",
      "Double check that it's the same number of terms: 95\n",
      "\n",
      "Number of significant terms: 14\n",
      "\n"
     ]
    },
    {
     "name": "stdout",
     "output_type": "stream",
     "text": [
      "[1] \"Analyzing: Eo_Baso_prog._RBD_vs_GFP.dds.res_G1C_vs_RBD\"\n"
     ]
    },
    {
     "name": "stderr",
     "output_type": "stream",
     "text": [
      "Running FGSEA\n",
      "\n",
      "Number of total enriched terms: 9192\n",
      "\n",
      "Number of significant terms: 59\n",
      "\n",
      "Double check that it's the same number of terms: 24\n",
      "\n",
      "Number of significant terms: 7\n",
      "\n"
     ]
    },
    {
     "name": "stdout",
     "output_type": "stream",
     "text": [
      "[1] \"Analyzing: Ery_Mk_prog._G1C_vs_GFP.dds.res_G1C_vs_RBD\"\n"
     ]
    },
    {
     "name": "stderr",
     "output_type": "stream",
     "text": [
      "Running FGSEA\n",
      "\n",
      "Number of total enriched terms: 3747\n",
      "\n",
      "Number of significant terms: 84\n",
      "\n",
      "Double check that it's the same number of terms: 46\n",
      "\n",
      "Number of significant terms: 2\n",
      "\n"
     ]
    },
    {
     "name": "stdout",
     "output_type": "stream",
     "text": [
      "[1] \"Analyzing: Ery_Mk_prog._G1C_vs_RBD\"\n"
     ]
    },
    {
     "name": "stderr",
     "output_type": "stream",
     "text": [
      "Running FGSEA\n",
      "\n",
      "Number of total enriched terms: 2258\n",
      "\n",
      "Number of significant terms: 75\n",
      "\n",
      "Double check that it's the same number of terms: 12\n",
      "\n",
      "Number of significant terms: 1\n",
      "\n"
     ]
    },
    {
     "name": "stdout",
     "output_type": "stream",
     "text": [
      "[1] \"Analyzing: Ery_Mk_prog._RBD_vs_GFP.dds.res_G1C_vs_RBD\"\n"
     ]
    },
    {
     "name": "stderr",
     "output_type": "stream",
     "text": [
      "Running FGSEA\n",
      "\n",
      "Number of total enriched terms: 6531\n",
      "\n",
      "Number of significant terms: 370\n",
      "\n",
      "Double check that it's the same number of terms: 215\n",
      "\n",
      "Number of significant terms: 107\n",
      "\n"
     ]
    },
    {
     "name": "stdout",
     "output_type": "stream",
     "text": [
      "[1] \"Analyzing: Erythroblasts_G1C_vs_GFP.dds.res_G1C_vs_RBD\"\n"
     ]
    },
    {
     "name": "stderr",
     "output_type": "stream",
     "text": [
      "Running FGSEA\n",
      "\n",
      "Number of total enriched terms: 2530\n",
      "\n",
      "Number of significant terms: 634\n",
      "\n",
      "Double check that it's the same number of terms: 310\n",
      "\n",
      "Number of significant terms: 36\n",
      "\n"
     ]
    },
    {
     "name": "stdout",
     "output_type": "stream",
     "text": [
      "[1] \"Analyzing: Erythroblasts_G1C_vs_RBD\"\n"
     ]
    },
    {
     "name": "stderr",
     "output_type": "stream",
     "text": [
      "Running FGSEA\n",
      "\n",
      "Number of total enriched terms: 7109\n",
      "\n",
      "Number of significant terms: 852\n",
      "\n",
      "Double check that it's the same number of terms: 499\n",
      "\n",
      "Number of significant terms: 100\n",
      "\n"
     ]
    },
    {
     "name": "stdout",
     "output_type": "stream",
     "text": [
      "[1] \"Analyzing: Erythroblasts_RBD_vs_GFP.dds.res_G1C_vs_RBD\"\n"
     ]
    },
    {
     "name": "stderr",
     "output_type": "stream",
     "text": [
      "Running FGSEA\n",
      "\n",
      "Number of total enriched terms: 7606\n",
      "\n",
      "Number of significant terms: 916\n",
      "\n",
      "Double check that it's the same number of terms: 602\n",
      "\n",
      "Number of significant terms: 173\n",
      "\n"
     ]
    },
    {
     "name": "stdout",
     "output_type": "stream",
     "text": [
      "[1] \"Analyzing: Gran_Mono_prog._G1C_vs_GFP.dds.res_G1C_vs_RBD\"\n"
     ]
    },
    {
     "name": "stderr",
     "output_type": "stream",
     "text": [
      "Running FGSEA\n",
      "\n",
      "Number of total enriched terms: 9368\n",
      "\n",
      "Number of significant terms: 700\n",
      "\n",
      "Double check that it's the same number of terms: 387\n",
      "\n",
      "Number of significant terms: 121\n",
      "\n"
     ]
    },
    {
     "name": "stdout",
     "output_type": "stream",
     "text": [
      "[1] \"Analyzing: Gran_Mono_prog._G1C_vs_RBD\"\n"
     ]
    },
    {
     "name": "stderr",
     "output_type": "stream",
     "text": [
      "Running FGSEA\n",
      "\n",
      "Number of total enriched terms: 6101\n",
      "\n",
      "Number of significant terms: 740\n",
      "\n",
      "Double check that it's the same number of terms: 406\n",
      "\n",
      "Number of significant terms: 118\n",
      "\n"
     ]
    },
    {
     "name": "stdout",
     "output_type": "stream",
     "text": [
      "[1] \"Analyzing: Gran_Mono_prog._RBD_vs_GFP.dds.res_G1C_vs_RBD\"\n"
     ]
    },
    {
     "name": "stderr",
     "output_type": "stream",
     "text": [
      "Running FGSEA\n",
      "\n",
      "Number of total enriched terms: 8776\n",
      "\n",
      "Number of significant terms: 285\n",
      "\n",
      "Double check that it's the same number of terms: 205\n",
      "\n",
      "Number of significant terms: 26\n",
      "\n"
     ]
    },
    {
     "name": "stdout",
     "output_type": "stream",
     "text": [
      "[1] \"Analyzing: large_pre-B._G1C_vs_GFP.dds.res_G1C_vs_RBD\"\n"
     ]
    },
    {
     "name": "stderr",
     "output_type": "stream",
     "text": [
      "Running FGSEA\n",
      "\n",
      "Number of total enriched terms: 9415\n",
      "\n",
      "Number of significant terms: 778\n",
      "\n",
      "Double check that it's the same number of terms: 529\n",
      "\n",
      "Number of significant terms: 141\n",
      "\n"
     ]
    },
    {
     "name": "stdout",
     "output_type": "stream",
     "text": [
      "[1] \"Analyzing: large_pre-B._G1C_vs_RBD\"\n"
     ]
    },
    {
     "name": "stderr",
     "output_type": "stream",
     "text": [
      "Running FGSEA\n",
      "\n",
      "Number of total enriched terms: 7445\n",
      "\n",
      "Number of significant terms: 685\n",
      "\n",
      "Double check that it's the same number of terms: 521\n",
      "\n",
      "Number of significant terms: 98\n",
      "\n"
     ]
    },
    {
     "name": "stdout",
     "output_type": "stream",
     "text": [
      "[1] \"Analyzing: large_pre-B._RBD_vs_GFP.dds.res_G1C_vs_RBD\"\n"
     ]
    },
    {
     "name": "stderr",
     "output_type": "stream",
     "text": [
      "Running FGSEA\n",
      "\n",
      "Number of total enriched terms: 4216\n",
      "\n",
      "Number of significant terms: 652\n",
      "\n",
      "Double check that it's the same number of terms: 450\n",
      "\n",
      "Number of significant terms: 52\n",
      "\n"
     ]
    },
    {
     "name": "stdout",
     "output_type": "stream",
     "text": [
      "[1] \"Analyzing: LMPPs_G1C_vs_GFP.dds.res_G1C_vs_RBD\"\n"
     ]
    },
    {
     "name": "stderr",
     "output_type": "stream",
     "text": [
      "Running FGSEA\n",
      "\n",
      "Number of total enriched terms: 9778\n",
      "\n",
      "Number of significant terms: 293\n",
      "\n",
      "Double check that it's the same number of terms: 162\n",
      "\n",
      "Number of significant terms: 22\n",
      "\n"
     ]
    },
    {
     "name": "stdout",
     "output_type": "stream",
     "text": [
      "[1] \"Analyzing: LMPPs_G1C_vs_RBD\"\n"
     ]
    },
    {
     "name": "stderr",
     "output_type": "stream",
     "text": [
      "Running FGSEA\n",
      "\n",
      "Number of total enriched terms: 9758\n",
      "\n",
      "Number of significant terms: 1635\n",
      "\n",
      "Double check that it's the same number of terms: 1090\n",
      "\n",
      "Number of significant terms: 197\n",
      "\n"
     ]
    },
    {
     "name": "stdout",
     "output_type": "stream",
     "text": [
      "[1] \"Analyzing: LMPPs_RBD_vs_GFP.dds.res_G1C_vs_RBD\"\n"
     ]
    },
    {
     "name": "stderr",
     "output_type": "stream",
     "text": [
      "Running FGSEA\n",
      "\n",
      "Number of total enriched terms: 9567\n",
      "\n",
      "Number of significant terms: 1352\n",
      "\n",
      "Double check that it's the same number of terms: 946\n",
      "\n",
      "Number of significant terms: 177\n",
      "\n"
     ]
    },
    {
     "name": "stdout",
     "output_type": "stream",
     "text": [
      "[1] \"Analyzing: Mk_prog._G1C_vs_GFP.dds.res_G1C_vs_RBD\"\n"
     ]
    },
    {
     "name": "stderr",
     "output_type": "stream",
     "text": [
      "Running FGSEA\n",
      "\n",
      "Number of total enriched terms: 7009\n",
      "\n",
      "Number of significant terms: 364\n",
      "\n",
      "Double check that it's the same number of terms: 250\n",
      "\n",
      "Number of significant terms: 49\n",
      "\n"
     ]
    },
    {
     "name": "stdout",
     "output_type": "stream",
     "text": [
      "[1] \"Analyzing: Mk_prog._G1C_vs_RBD\"\n"
     ]
    },
    {
     "name": "stderr",
     "output_type": "stream",
     "text": [
      "Running FGSEA\n",
      "\n",
      "Number of total enriched terms: 4276\n",
      "\n",
      "Number of significant terms: 149\n",
      "\n",
      "Double check that it's the same number of terms: 83\n",
      "\n",
      "Number of significant terms: 13\n",
      "\n"
     ]
    },
    {
     "name": "stdout",
     "output_type": "stream",
     "text": [
      "[1] \"Analyzing: Mk_prog._RBD_vs_GFP.dds.res_G1C_vs_RBD\"\n"
     ]
    },
    {
     "name": "stderr",
     "output_type": "stream",
     "text": [
      "Running FGSEA\n",
      "\n",
      "Number of total enriched terms: 5817\n",
      "\n",
      "Number of significant terms: 81\n",
      "\n",
      "Double check that it's the same number of terms: 42\n",
      "\n",
      "Number of significant terms: 15\n",
      "\n"
     ]
    },
    {
     "name": "stdout",
     "output_type": "stream",
     "text": [
      "[1] \"Analyzing: Mono_prog._G1C_vs_GFP.dds.res_G1C_vs_RBD\"\n"
     ]
    },
    {
     "name": "stderr",
     "output_type": "stream",
     "text": [
      "Running FGSEA\n",
      "\n",
      "Number of total enriched terms: 6513\n",
      "\n",
      "Number of significant terms: 545\n",
      "\n",
      "Double check that it's the same number of terms: 286\n",
      "\n",
      "Number of significant terms: 52\n",
      "\n"
     ]
    },
    {
     "name": "stdout",
     "output_type": "stream",
     "text": [
      "[1] \"Analyzing: Mono_prog._G1C_vs_RBD\"\n"
     ]
    },
    {
     "name": "stderr",
     "output_type": "stream",
     "text": [
      "Running FGSEA\n",
      "\n",
      "Number of total enriched terms: 6415\n",
      "\n",
      "Number of significant terms: 281\n",
      "\n",
      "Double check that it's the same number of terms: 162\n",
      "\n",
      "Number of significant terms: 29\n",
      "\n"
     ]
    },
    {
     "name": "stdout",
     "output_type": "stream",
     "text": [
      "[1] \"Analyzing: Mono_prog._RBD_vs_GFP.dds.res_G1C_vs_RBD\"\n"
     ]
    },
    {
     "name": "stderr",
     "output_type": "stream",
     "text": [
      "Running FGSEA\n",
      "\n",
      "Number of total enriched terms: 8694\n",
      "\n",
      "Number of significant terms: 260\n",
      "\n",
      "Double check that it's the same number of terms: 157\n",
      "\n",
      "Number of significant terms: 51\n",
      "\n"
     ]
    },
    {
     "name": "stdout",
     "output_type": "stream",
     "text": [
      "[1] \"Analyzing: Monocytes_G1C_vs_GFP.dds.res_G1C_vs_RBD\"\n"
     ]
    },
    {
     "name": "stderr",
     "output_type": "stream",
     "text": [
      "Running FGSEA\n",
      "\n",
      "Number of total enriched terms: 9968\n",
      "\n",
      "Number of significant terms: 1706\n",
      "\n",
      "Double check that it's the same number of terms: 1189\n",
      "\n",
      "Number of significant terms: 216\n",
      "\n"
     ]
    },
    {
     "name": "stdout",
     "output_type": "stream",
     "text": [
      "[1] \"Analyzing: Monocytes_G1C_vs_RBD\"\n"
     ]
    },
    {
     "name": "stderr",
     "output_type": "stream",
     "text": [
      "Running FGSEA\n",
      "\n",
      "Number of total enriched terms: 9999\n",
      "\n",
      "Number of significant terms: 1389\n",
      "\n",
      "Double check that it's the same number of terms: 966\n",
      "\n",
      "Number of significant terms: 216\n",
      "\n"
     ]
    },
    {
     "name": "stdout",
     "output_type": "stream",
     "text": [
      "[1] \"Analyzing: Monocytes_RBD_vs_GFP.dds.res_G1C_vs_RBD\"\n"
     ]
    },
    {
     "name": "stderr",
     "output_type": "stream",
     "text": [
      "Running FGSEA\n",
      "\n",
      "Number of total enriched terms: 9909\n",
      "\n",
      "Number of significant terms: 1447\n",
      "\n",
      "Double check that it's the same number of terms: 839\n",
      "\n",
      "Number of significant terms: 200\n",
      "\n"
     ]
    },
    {
     "name": "stdout",
     "output_type": "stream",
     "text": [
      "[1] \"Analyzing: Neutro_prog._G1C_vs_GFP.dds.res_G1C_vs_RBD\"\n"
     ]
    },
    {
     "name": "stderr",
     "output_type": "stream",
     "text": [
      "Running FGSEA\n",
      "\n",
      "Number of total enriched terms: 1995\n",
      "\n",
      "Number of significant terms: 154\n",
      "\n",
      "Double check that it's the same number of terms: 78\n",
      "\n",
      "Number of significant terms: 4\n",
      "\n"
     ]
    },
    {
     "name": "stdout",
     "output_type": "stream",
     "text": [
      "[1] \"Analyzing: Neutro_prog._G1C_vs_RBD\"\n"
     ]
    },
    {
     "name": "stderr",
     "output_type": "stream",
     "text": [
      "Running FGSEA\n",
      "\n",
      "Number of total enriched terms: 9314\n",
      "\n",
      "Number of significant terms: 589\n",
      "\n",
      "Double check that it's the same number of terms: 331\n",
      "\n",
      "Number of significant terms: 72\n",
      "\n"
     ]
    },
    {
     "name": "stdout",
     "output_type": "stream",
     "text": [
      "[1] \"Analyzing: Neutro_prog._RBD_vs_GFP.dds.res_G1C_vs_RBD\"\n"
     ]
    },
    {
     "name": "stderr",
     "output_type": "stream",
     "text": [
      "Running FGSEA\n",
      "\n",
      "Number of total enriched terms: 8544\n",
      "\n",
      "Number of significant terms: 240\n",
      "\n",
      "Double check that it's the same number of terms: 177\n",
      "\n",
      "Number of significant terms: 26\n",
      "\n"
     ]
    },
    {
     "name": "stdout",
     "output_type": "stream",
     "text": [
      "[1] \"Analyzing: Neutrophils_G1C_vs_GFP.dds.res_G1C_vs_RBD\"\n"
     ]
    },
    {
     "name": "stderr",
     "output_type": "stream",
     "text": [
      "Running FGSEA\n",
      "\n",
      "Number of total enriched terms: 9719\n",
      "\n",
      "Number of significant terms: 3274\n",
      "\n",
      "Double check that it's the same number of terms: 2536\n",
      "\n",
      "Number of significant terms: 416\n",
      "\n"
     ]
    },
    {
     "name": "stdout",
     "output_type": "stream",
     "text": [
      "[1] \"Analyzing: Neutrophils_G1C_vs_RBD\"\n"
     ]
    },
    {
     "name": "stderr",
     "output_type": "stream",
     "text": [
      "Running FGSEA\n",
      "\n",
      "Number of total enriched terms: 9911\n",
      "\n",
      "Number of significant terms: 3525\n",
      "\n",
      "Double check that it's the same number of terms: 2560\n",
      "\n",
      "Number of significant terms: 466\n",
      "\n"
     ]
    },
    {
     "name": "stdout",
     "output_type": "stream",
     "text": [
      "[1] \"Analyzing: Neutrophils_RBD_vs_GFP.dds.res_G1C_vs_RBD\"\n"
     ]
    },
    {
     "name": "stderr",
     "output_type": "stream",
     "text": [
      "Running FGSEA\n",
      "\n",
      "Number of total enriched terms: 10392\n",
      "\n",
      "Number of significant terms: 1139\n",
      "\n",
      "Double check that it's the same number of terms: 581\n",
      "\n",
      "Number of significant terms: 125\n",
      "\n"
     ]
    },
    {
     "name": "stdout",
     "output_type": "stream",
     "text": [
      "[1] \"Analyzing: NK_cells_G1C_vs_GFP.dds.res_G1C_vs_RBD\"\n"
     ]
    },
    {
     "name": "stderr",
     "output_type": "stream",
     "text": [
      "Running FGSEA\n",
      "\n",
      "Number of total enriched terms: 9715\n",
      "\n",
      "Number of significant terms: 839\n",
      "\n",
      "Double check that it's the same number of terms: 504\n",
      "\n",
      "Number of significant terms: 88\n",
      "\n"
     ]
    },
    {
     "name": "stdout",
     "output_type": "stream",
     "text": [
      "[1] \"Analyzing: NK_cells_G1C_vs_RBD\"\n"
     ]
    },
    {
     "name": "stderr",
     "output_type": "stream",
     "text": [
      "Running FGSEA\n",
      "\n",
      "Number of total enriched terms: 9724\n",
      "\n",
      "Number of significant terms: 608\n",
      "\n",
      "Double check that it's the same number of terms: 354\n",
      "\n",
      "Number of significant terms: 81\n",
      "\n"
     ]
    },
    {
     "name": "stdout",
     "output_type": "stream",
     "text": [
      "[1] \"Analyzing: NK_cells_RBD_vs_GFP.dds.res_G1C_vs_RBD\"\n"
     ]
    },
    {
     "name": "stderr",
     "output_type": "stream",
     "text": [
      "Running FGSEA\n",
      "\n",
      "Number of total enriched terms: 9749\n",
      "\n",
      "Number of significant terms: 175\n",
      "\n",
      "Double check that it's the same number of terms: 100\n",
      "\n",
      "Number of significant terms: 33\n",
      "\n"
     ]
    },
    {
     "name": "stdout",
     "output_type": "stream",
     "text": [
      "[1] \"Analyzing: pro-B_G1C_vs_GFP.dds.res_G1C_vs_RBD\"\n"
     ]
    },
    {
     "name": "stderr",
     "output_type": "stream",
     "text": [
      "Running FGSEA\n",
      "\n",
      "Number of total enriched terms: 8046\n",
      "\n",
      "Number of significant terms: 1052\n",
      "\n",
      "Double check that it's the same number of terms: 745\n",
      "\n",
      "Number of significant terms: 195\n",
      "\n"
     ]
    },
    {
     "name": "stdout",
     "output_type": "stream",
     "text": [
      "[1] \"Analyzing: pro-B_G1C_vs_RBD\"\n"
     ]
    },
    {
     "name": "stderr",
     "output_type": "stream",
     "text": [
      "Running FGSEA\n",
      "\n",
      "Number of total enriched terms: 9338\n",
      "\n",
      "Number of significant terms: 1354\n",
      "\n",
      "Double check that it's the same number of terms: 977\n",
      "\n",
      "Number of significant terms: 264\n",
      "\n"
     ]
    },
    {
     "name": "stdout",
     "output_type": "stream",
     "text": [
      "[1] \"Analyzing: pro-B_RBD_vs_GFP.dds.res_G1C_vs_RBD\"\n"
     ]
    },
    {
     "name": "stderr",
     "output_type": "stream",
     "text": [
      "Running FGSEA\n",
      "\n",
      "Number of total enriched terms: 5191\n",
      "\n",
      "Number of significant terms: 104\n",
      "\n",
      "Double check that it's the same number of terms: 54\n",
      "\n",
      "Number of significant terms: 15\n",
      "\n"
     ]
    },
    {
     "name": "stdout",
     "output_type": "stream",
     "text": [
      "[1] \"Analyzing: small_pre-B._G1C_vs_GFP.dds.res_G1C_vs_RBD\"\n"
     ]
    },
    {
     "name": "stderr",
     "output_type": "stream",
     "text": [
      "Running FGSEA\n",
      "\n",
      "Number of total enriched terms: 9076\n",
      "\n",
      "Number of significant terms: 1833\n",
      "\n",
      "Double check that it's the same number of terms: 1097\n",
      "\n",
      "Number of significant terms: 218\n",
      "\n"
     ]
    },
    {
     "name": "stdout",
     "output_type": "stream",
     "text": [
      "[1] \"Analyzing: small_pre-B._G1C_vs_RBD\"\n"
     ]
    },
    {
     "name": "stderr",
     "output_type": "stream",
     "text": [
      "Running FGSEA\n",
      "\n",
      "Number of total enriched terms: 8684\n",
      "\n",
      "Number of significant terms: 1186\n",
      "\n",
      "Double check that it's the same number of terms: 789\n",
      "\n",
      "Number of significant terms: 105\n",
      "\n"
     ]
    },
    {
     "name": "stdout",
     "output_type": "stream",
     "text": [
      "[1] \"Analyzing: small_pre-B._RBD_vs_GFP.dds.res_G1C_vs_RBD\"\n"
     ]
    },
    {
     "name": "stderr",
     "output_type": "stream",
     "text": [
      "Running FGSEA\n",
      "\n",
      "Number of total enriched terms: 8809\n",
      "\n",
      "Number of significant terms: 909\n",
      "\n",
      "Double check that it's the same number of terms: 688\n",
      "\n",
      "Number of significant terms: 136\n",
      "\n"
     ]
    },
    {
     "name": "stdout",
     "output_type": "stream",
     "text": [
      "[1] \"Analyzing: T_cells_G1C_vs_GFP.dds.res_G1C_vs_RBD\"\n"
     ]
    },
    {
     "name": "stderr",
     "output_type": "stream",
     "text": [
      "Running FGSEA\n",
      "\n",
      "Number of total enriched terms: 6961\n",
      "\n",
      "Number of significant terms: 448\n",
      "\n",
      "Double check that it's the same number of terms: 276\n",
      "\n",
      "Number of significant terms: 49\n",
      "\n"
     ]
    },
    {
     "name": "stdout",
     "output_type": "stream",
     "text": [
      "[1] \"Analyzing: T_cells_G1C_vs_RBD\"\n"
     ]
    },
    {
     "name": "stderr",
     "output_type": "stream",
     "text": [
      "Running FGSEA\n",
      "\n",
      "Number of total enriched terms: 7425\n",
      "\n",
      "Number of significant terms: 692\n",
      "\n",
      "Double check that it's the same number of terms: 433\n",
      "\n",
      "Number of significant terms: 96\n",
      "\n"
     ]
    },
    {
     "name": "stdout",
     "output_type": "stream",
     "text": [
      "[1] \"Analyzing: T_cells_RBD_vs_GFP.dds.res_G1C_vs_RBD\"\n"
     ]
    },
    {
     "name": "stderr",
     "output_type": "stream",
     "text": [
      "Running FGSEA\n",
      "\n",
      "Number of total enriched terms: 8721\n",
      "\n",
      "Number of significant terms: 985\n",
      "\n",
      "Double check that it's the same number of terms: 750\n",
      "\n",
      "Number of significant terms: 128\n",
      "\n"
     ]
    }
   ],
   "source": [
    "set.seed(999)\n",
    "\n",
    "for (c.i in seq_along(contrasts)){\n",
    "    contrast.use = contrasts[c.i]\n",
    "        for (i in seq_along(files)){\n",
    "            # load table\n",
    "            file.use = files[i]\n",
    "            cell.use = str_split_fixed(file.use, paste0(\"_\", contrast.use), n = 2)[,1]\n",
    "            De.analysis = paste0(cell.use, \"_\", contrast.use)\n",
    "            print(paste0(\"Analyzing: \", De.analysis))\n",
    "            res = read.table(paste0(dir,file.use), sep = '\\t')\n",
    "\n",
    "            # Formatting for FGSEA\n",
    "            res$rank = res$stat\n",
    "            res = data.frame(\"SYMBOL\" = rownames(res),\n",
    "                             \"stat\" = res$rank)\n",
    "            res = res[!grepl(pattern = \"NA\", x = res$SYMBOL),]\n",
    "            ranks <- deframe(res)\n",
    "            ranks = sort(ranks, decreasing=TRUE)\n",
    "\n",
    "            tryCatch({\n",
    "            message(\"Running FGSEA\")\n",
    "            fgseaRes <- fgseaMultilevel(pathways=GMT,\n",
    "                                        stats=ranks,\n",
    "                                        minSize  = 10, \n",
    "                                        maxSize  = 500)\n",
    "            message(\"Number of total enriched terms: \", nrow(fgseaRes))\n",
    "            fgseaRes.tresh = fgseaRes[fgseaRes$padj < tresh,]\n",
    "            message(\"Number of significant terms: \", nrow(fgseaRes.tresh))\n",
    "            # Add categories\n",
    "            fgseaRes.tresh = merge(fgseaRes.tresh, gene.set.db, by = \"pathway\")\n",
    "            message(\"Double check that it's the same number of terms: \", nrow(fgseaRes.tresh))\n",
    "            # Subset for GO families of interest\n",
    "            fgseaRes.tresh.use = fgseaRes.tresh[fgseaRes.tresh$set.family %in% set.family.Keep, ]\n",
    "            message(\"Number of significant terms: \", nrow(fgseaRes.tresh.use))\n",
    "            # Collapse terms \n",
    "            collapsedPathways <- collapsePathways(fgseaRes.tresh.use[order(pval)][padj < tresh], \n",
    "                                                  GMT, ranks)\n",
    "            mainPathways <- fgseaRes.tresh.use[pathway %in% collapsedPathways$mainPathways][\n",
    "                                     order(-NES), pathway]\n",
    "            fgseaResMain <- fgseaRes.tresh.use[match(mainPathways, pathway)]\n",
    "            # Save them\n",
    "            file = paste(outdir, \"GSEA.CP_\", De.analysis, \".res\", sep = \"\")\n",
    "            fwrite(fgseaRes.tresh.use, file = file, sep = \"\\t\")\n",
    "            # print plot\n",
    "            plot = ggplot(fgseaResMain, aes(x = reorder(term, NES), y = NES)) +\n",
    "              geom_col(aes(fill= NES>0)) +\n",
    "              theme_bw()+\n",
    "              labs(x=\"\", y=\"Normalized Enrichment Score\",\n",
    "                   title= paste(De.analysis,\n",
    "                                \" \\n Gene Ontologies\")) + \n",
    "                theme(axis.text=element_text(size=10), axis.title=element_text(size=16, face=\"bold\"),\n",
    "                axis.text.x=element_text(), plot.title=element_text(size=16, face=\"bold\", hjust=0.5)) +\n",
    "              coord_flip() +\n",
    "            facet_nested(rows = vars(set.family, set), drop = TRUE, scales = \"free\", space = \"free\")\n",
    "            ggsave(filename = paste(outdir, \"GSEA.CP_\", De.analysis, \".pdf\", sep = \"\"),\n",
    "                                    height = 16, width = 20,\n",
    "                                    plot = plot, device = \"pdf\")\n",
    "                }, error = function(e) {\n",
    "            message(\"Error or no results found for \", De.analysis, \": \", e$message)\n",
    "        })\n",
    "    }\n",
    "}"
   ]
  },
  {
   "cell_type": "code",
   "execution_count": 48,
   "id": "fa720e7d",
   "metadata": {},
   "outputs": [],
   "source": [
    "# setup\n",
    "tresh = 0.1\n",
    "set.family.Keep = c(\"BP\")"
   ]
  },
  {
   "cell_type": "code",
   "execution_count": null,
   "id": "9873b2ee",
   "metadata": {},
   "outputs": [
    {
     "name": "stdout",
     "output_type": "stream",
     "text": [
      "[1] \"Analyzing: B_cell_G1C_vs_GFP\"\n"
     ]
    },
    {
     "name": "stderr",
     "output_type": "stream",
     "text": [
      "Running FGSEA\n",
      "\n",
      "Number of total enriched terms: 9783\n",
      "\n",
      "Number of significant terms: 1733\n",
      "\n",
      "Double check that it's the same number of terms: 1025\n",
      "\n",
      "Number of significant terms: 634\n",
      "\n"
     ]
    },
    {
     "name": "stdout",
     "output_type": "stream",
     "text": [
      "[1] \"Analyzing: B_cell_G1C_vs_RBD.dds.res_G1C_vs_GFP\"\n"
     ]
    },
    {
     "name": "stderr",
     "output_type": "stream",
     "text": [
      "Running FGSEA\n",
      "\n",
      "Number of total enriched terms: 9577\n",
      "\n",
      "Number of significant terms: 1844\n",
      "\n",
      "Double check that it's the same number of terms: 1102\n",
      "\n",
      "Number of significant terms: 673\n",
      "\n"
     ]
    },
    {
     "name": "stdout",
     "output_type": "stream",
     "text": [
      "[1] \"Analyzing: B_cell_RBD_vs_GFP.dds.res_G1C_vs_GFP\"\n"
     ]
    },
    {
     "name": "stderr",
     "output_type": "stream",
     "text": [
      "Running FGSEA\n",
      "\n",
      "Number of total enriched terms: 9689\n",
      "\n",
      "Number of significant terms: 720\n",
      "\n",
      "Double check that it's the same number of terms: 477\n",
      "\n",
      "Number of significant terms: 308\n",
      "\n"
     ]
    },
    {
     "name": "stdout",
     "output_type": "stream",
     "text": [
      "[1] \"Analyzing: Dendritic_cells_G1C_vs_GFP\"\n"
     ]
    },
    {
     "name": "stderr",
     "output_type": "stream",
     "text": [
      "Running FGSEA\n",
      "\n",
      "Number of total enriched terms: 9736\n",
      "\n",
      "Number of significant terms: 1957\n",
      "\n",
      "Double check that it's the same number of terms: 1272\n",
      "\n",
      "Number of significant terms: 793\n",
      "\n"
     ]
    },
    {
     "name": "stdout",
     "output_type": "stream",
     "text": [
      "[1] \"Analyzing: Dendritic_cells_G1C_vs_RBD.dds.res_G1C_vs_GFP\"\n"
     ]
    },
    {
     "name": "stderr",
     "output_type": "stream",
     "text": [
      "Running FGSEA\n",
      "\n",
      "Number of total enriched terms: 9585\n",
      "\n",
      "Number of significant terms: 1278\n",
      "\n",
      "Double check that it's the same number of terms: 931\n",
      "\n",
      "Number of significant terms: 499\n",
      "\n"
     ]
    },
    {
     "name": "stdout",
     "output_type": "stream",
     "text": [
      "[1] \"Analyzing: Dendritic_cells_RBD_vs_GFP.dds.res_G1C_vs_GFP\"\n"
     ]
    },
    {
     "name": "stderr",
     "output_type": "stream",
     "text": [
      "Running FGSEA\n",
      "\n",
      "Number of total enriched terms: 9487\n",
      "\n",
      "Number of significant terms: 1177\n",
      "\n",
      "Double check that it's the same number of terms: 769\n",
      "\n",
      "Number of significant terms: 396\n",
      "\n"
     ]
    },
    {
     "name": "stdout",
     "output_type": "stream",
     "text": [
      "[1] \"Analyzing: Eo_Baso_prog._G1C_vs_GFP\"\n"
     ]
    },
    {
     "name": "stderr",
     "output_type": "stream",
     "text": [
      "Running FGSEA\n",
      "\n",
      "Number of total enriched terms: 9464\n",
      "\n",
      "Number of significant terms: 166\n",
      "\n",
      "Double check that it's the same number of terms: 92\n",
      "\n",
      "Number of significant terms: 63\n",
      "\n"
     ]
    },
    {
     "name": "stdout",
     "output_type": "stream",
     "text": [
      "[1] \"Analyzing: Eo_Baso_prog._G1C_vs_RBD.dds.res_G1C_vs_GFP\"\n"
     ]
    },
    {
     "name": "stderr",
     "output_type": "stream",
     "text": [
      "Running FGSEA\n",
      "\n",
      "Number of total enriched terms: 9455\n",
      "\n",
      "Number of significant terms: 167\n",
      "\n",
      "Double check that it's the same number of terms: 97\n",
      "\n",
      "Number of significant terms: 54\n",
      "\n"
     ]
    },
    {
     "name": "stdout",
     "output_type": "stream",
     "text": [
      "[1] \"Analyzing: Eo_Baso_prog._RBD_vs_GFP.dds.res_G1C_vs_GFP\"\n"
     ]
    },
    {
     "name": "stderr",
     "output_type": "stream",
     "text": [
      "Running FGSEA\n",
      "\n",
      "Number of total enriched terms: 9192\n",
      "\n",
      "Number of significant terms: 58\n",
      "\n",
      "Double check that it's the same number of terms: 23\n",
      "\n",
      "Number of significant terms: 6\n",
      "\n"
     ]
    },
    {
     "name": "stdout",
     "output_type": "stream",
     "text": [
      "[1] \"Analyzing: Ery_Mk_prog._G1C_vs_GFP\"\n"
     ]
    },
    {
     "name": "stderr",
     "output_type": "stream",
     "text": [
      "Running FGSEA\n",
      "\n",
      "Number of total enriched terms: 3747\n",
      "\n",
      "Number of significant terms: 88\n",
      "\n",
      "Double check that it's the same number of terms: 45\n",
      "\n",
      "Number of significant terms: 29\n",
      "\n"
     ]
    },
    {
     "name": "stdout",
     "output_type": "stream",
     "text": [
      "[1] \"Analyzing: Ery_Mk_prog._G1C_vs_RBD.dds.res_G1C_vs_GFP\"\n"
     ]
    },
    {
     "name": "stderr",
     "output_type": "stream",
     "text": [
      "Running FGSEA\n",
      "\n",
      "Number of total enriched terms: 2258\n",
      "\n",
      "Number of significant terms: 79\n",
      "\n",
      "Double check that it's the same number of terms: 15\n",
      "\n",
      "Number of significant terms: 11\n",
      "\n"
     ]
    },
    {
     "name": "stdout",
     "output_type": "stream",
     "text": [
      "[1] \"Analyzing: Ery_Mk_prog._RBD_vs_GFP.dds.res_G1C_vs_GFP\"\n"
     ]
    },
    {
     "name": "stderr",
     "output_type": "stream",
     "text": [
      "Running FGSEA\n",
      "\n",
      "Number of total enriched terms: 6531\n",
      "\n",
      "Number of significant terms: 338\n",
      "\n",
      "Double check that it's the same number of terms: 203\n",
      "\n",
      "Number of significant terms: 57\n",
      "\n"
     ]
    },
    {
     "name": "stdout",
     "output_type": "stream",
     "text": [
      "[1] \"Analyzing: Erythroblasts_G1C_vs_GFP\"\n"
     ]
    },
    {
     "name": "stderr",
     "output_type": "stream",
     "text": [
      "Running FGSEA\n",
      "\n",
      "Number of total enriched terms: 2530\n",
      "\n",
      "Number of significant terms: 615\n",
      "\n",
      "Double check that it's the same number of terms: 299\n",
      "\n",
      "Number of significant terms: 177\n",
      "\n"
     ]
    },
    {
     "name": "stdout",
     "output_type": "stream",
     "text": [
      "[1] \"Analyzing: Erythroblasts_G1C_vs_RBD.dds.res_G1C_vs_GFP\"\n"
     ]
    },
    {
     "name": "stderr",
     "output_type": "stream",
     "text": [
      "Running FGSEA\n",
      "\n",
      "Number of total enriched terms: 7109\n",
      "\n",
      "Number of significant terms: 791\n",
      "\n",
      "Double check that it's the same number of terms: 456\n",
      "\n",
      "Number of significant terms: 263\n",
      "\n"
     ]
    },
    {
     "name": "stdout",
     "output_type": "stream",
     "text": [
      "[1] \"Analyzing: Erythroblasts_RBD_vs_GFP.dds.res_G1C_vs_GFP\"\n"
     ]
    },
    {
     "name": "stderr",
     "output_type": "stream",
     "text": [
      "Running FGSEA\n",
      "\n",
      "Number of total enriched terms: 7606\n",
      "\n",
      "Number of significant terms: 969\n",
      "\n",
      "Double check that it's the same number of terms: 617\n",
      "\n",
      "Number of significant terms: 262\n",
      "\n"
     ]
    },
    {
     "name": "stdout",
     "output_type": "stream",
     "text": [
      "[1] \"Analyzing: Gran_Mono_prog._G1C_vs_GFP\"\n"
     ]
    },
    {
     "name": "stderr",
     "output_type": "stream",
     "text": [
      "Running FGSEA\n",
      "\n",
      "Number of total enriched terms: 9368\n",
      "\n",
      "Number of significant terms: 737\n",
      "\n",
      "Double check that it's the same number of terms: 402\n",
      "\n",
      "Number of significant terms: 189\n",
      "\n"
     ]
    },
    {
     "name": "stdout",
     "output_type": "stream",
     "text": [
      "[1] \"Analyzing: Gran_Mono_prog._G1C_vs_RBD.dds.res_G1C_vs_GFP\"\n"
     ]
    },
    {
     "name": "stderr",
     "output_type": "stream",
     "text": [
      "Running FGSEA\n",
      "\n",
      "Number of total enriched terms: 6101\n",
      "\n",
      "Number of significant terms: 739\n",
      "\n",
      "Double check that it's the same number of terms: 402\n",
      "\n",
      "Number of significant terms: 175\n",
      "\n"
     ]
    },
    {
     "name": "stdout",
     "output_type": "stream",
     "text": [
      "[1] \"Analyzing: Gran_Mono_prog._RBD_vs_GFP.dds.res_G1C_vs_GFP\"\n"
     ]
    },
    {
     "name": "stderr",
     "output_type": "stream",
     "text": [
      "Running FGSEA\n",
      "\n",
      "Number of total enriched terms: 8776\n",
      "\n",
      "Number of significant terms: 260\n",
      "\n",
      "Double check that it's the same number of terms: 184\n",
      "\n",
      "Number of significant terms: 136\n",
      "\n"
     ]
    },
    {
     "name": "stdout",
     "output_type": "stream",
     "text": [
      "[1] \"Analyzing: large_pre-B._G1C_vs_GFP\"\n"
     ]
    },
    {
     "name": "stderr",
     "output_type": "stream",
     "text": [
      "Running FGSEA\n",
      "\n",
      "Number of total enriched terms: 9415\n",
      "\n",
      "Number of significant terms: 714\n",
      "\n",
      "Double check that it's the same number of terms: 493\n",
      "\n",
      "Number of significant terms: 258\n",
      "\n"
     ]
    },
    {
     "name": "stdout",
     "output_type": "stream",
     "text": [
      "[1] \"Analyzing: large_pre-B._G1C_vs_RBD.dds.res_G1C_vs_GFP\"\n"
     ]
    },
    {
     "name": "stderr",
     "output_type": "stream",
     "text": [
      "Running FGSEA\n",
      "\n",
      "Number of total enriched terms: 7445\n",
      "\n",
      "Number of significant terms: 674\n",
      "\n",
      "Double check that it's the same number of terms: 511\n",
      "\n",
      "Number of significant terms: 294\n",
      "\n"
     ]
    },
    {
     "name": "stdout",
     "output_type": "stream",
     "text": [
      "[1] \"Analyzing: large_pre-B._RBD_vs_GFP.dds.res_G1C_vs_GFP\"\n"
     ]
    },
    {
     "name": "stderr",
     "output_type": "stream",
     "text": [
      "Running FGSEA\n",
      "\n",
      "Number of total enriched terms: 4216\n",
      "\n",
      "Number of significant terms: 673\n",
      "\n",
      "Double check that it's the same number of terms: 466\n",
      "\n",
      "Number of significant terms: 303\n",
      "\n"
     ]
    },
    {
     "name": "stdout",
     "output_type": "stream",
     "text": [
      "[1] \"Analyzing: LMPPs_G1C_vs_GFP\"\n"
     ]
    },
    {
     "name": "stderr",
     "output_type": "stream",
     "text": [
      "Running FGSEA\n",
      "\n",
      "Number of total enriched terms: 9778\n",
      "\n",
      "Number of significant terms: 280\n",
      "\n",
      "Double check that it's the same number of terms: 151\n",
      "\n",
      "Number of significant terms: 111\n",
      "\n"
     ]
    },
    {
     "name": "stdout",
     "output_type": "stream",
     "text": [
      "[1] \"Analyzing: LMPPs_G1C_vs_RBD.dds.res_G1C_vs_GFP\"\n"
     ]
    },
    {
     "name": "stderr",
     "output_type": "stream",
     "text": [
      "Running FGSEA\n",
      "\n",
      "Number of total enriched terms: 9758\n",
      "\n",
      "Number of significant terms: 1716\n",
      "\n",
      "Double check that it's the same number of terms: 1150\n",
      "\n",
      "Number of significant terms: 718\n",
      "\n"
     ]
    },
    {
     "name": "stdout",
     "output_type": "stream",
     "text": [
      "[1] \"Analyzing: LMPPs_RBD_vs_GFP.dds.res_G1C_vs_GFP\"\n"
     ]
    },
    {
     "name": "stderr",
     "output_type": "stream",
     "text": [
      "Running FGSEA\n",
      "\n",
      "Number of total enriched terms: 9567\n",
      "\n",
      "Number of significant terms: 1226\n",
      "\n",
      "Double check that it's the same number of terms: 866\n",
      "\n",
      "Number of significant terms: 526\n",
      "\n"
     ]
    },
    {
     "name": "stdout",
     "output_type": "stream",
     "text": [
      "[1] \"Analyzing: Mk_prog._G1C_vs_GFP\"\n"
     ]
    },
    {
     "name": "stderr",
     "output_type": "stream",
     "text": [
      "Running FGSEA\n",
      "\n",
      "Number of total enriched terms: 7009\n",
      "\n",
      "Number of significant terms: 394\n",
      "\n",
      "Double check that it's the same number of terms: 273\n",
      "\n",
      "Number of significant terms: 155\n",
      "\n"
     ]
    },
    {
     "name": "stdout",
     "output_type": "stream",
     "text": [
      "[1] \"Analyzing: Mk_prog._G1C_vs_RBD.dds.res_G1C_vs_GFP\"\n"
     ]
    },
    {
     "name": "stderr",
     "output_type": "stream",
     "text": [
      "Running FGSEA\n",
      "\n",
      "Number of total enriched terms: 4276\n",
      "\n",
      "Number of significant terms: 141\n",
      "\n",
      "Double check that it's the same number of terms: 78\n",
      "\n",
      "Number of significant terms: 41\n",
      "\n"
     ]
    },
    {
     "name": "stdout",
     "output_type": "stream",
     "text": [
      "[1] \"Analyzing: Mk_prog._RBD_vs_GFP.dds.res_G1C_vs_GFP\"\n"
     ]
    },
    {
     "name": "stderr",
     "output_type": "stream",
     "text": [
      "Running FGSEA\n",
      "\n",
      "Number of total enriched terms: 5817\n",
      "\n",
      "Number of significant terms: 63\n",
      "\n",
      "Double check that it's the same number of terms: 33\n",
      "\n",
      "Number of significant terms: 15\n",
      "\n"
     ]
    },
    {
     "name": "stdout",
     "output_type": "stream",
     "text": [
      "[1] \"Analyzing: Mono_prog._G1C_vs_GFP\"\n"
     ]
    },
    {
     "name": "stderr",
     "output_type": "stream",
     "text": [
      "Running FGSEA\n",
      "\n",
      "Number of total enriched terms: 6513\n",
      "\n",
      "Number of significant terms: 577\n",
      "\n",
      "Double check that it's the same number of terms: 303\n",
      "\n",
      "Number of significant terms: 172\n",
      "\n"
     ]
    },
    {
     "name": "stdout",
     "output_type": "stream",
     "text": [
      "[1] \"Analyzing: Mono_prog._G1C_vs_RBD.dds.res_G1C_vs_GFP\"\n"
     ]
    },
    {
     "name": "stderr",
     "output_type": "stream",
     "text": [
      "Running FGSEA\n",
      "\n",
      "Number of total enriched terms: 6415\n",
      "\n",
      "Number of significant terms: 258\n",
      "\n",
      "Double check that it's the same number of terms: 144\n",
      "\n",
      "Number of significant terms: 88\n",
      "\n"
     ]
    },
    {
     "name": "stdout",
     "output_type": "stream",
     "text": [
      "[1] \"Analyzing: Mono_prog._RBD_vs_GFP.dds.res_G1C_vs_GFP\"\n"
     ]
    },
    {
     "name": "stderr",
     "output_type": "stream",
     "text": [
      "Running FGSEA\n",
      "\n",
      "Number of total enriched terms: 8694\n",
      "\n",
      "Number of significant terms: 355\n",
      "\n",
      "Double check that it's the same number of terms: 207\n",
      "\n",
      "Number of significant terms: 84\n",
      "\n"
     ]
    },
    {
     "name": "stdout",
     "output_type": "stream",
     "text": [
      "[1] \"Analyzing: Monocytes_G1C_vs_GFP\"\n"
     ]
    },
    {
     "name": "stderr",
     "output_type": "stream",
     "text": [
      "Running FGSEA\n",
      "\n",
      "Number of total enriched terms: 9968\n",
      "\n",
      "Number of significant terms: 1555\n",
      "\n",
      "Double check that it's the same number of terms: 1080\n",
      "\n",
      "Number of significant terms: 686\n",
      "\n"
     ]
    },
    {
     "name": "stdout",
     "output_type": "stream",
     "text": [
      "[1] \"Analyzing: Monocytes_G1C_vs_RBD.dds.res_G1C_vs_GFP\"\n"
     ]
    },
    {
     "name": "stderr",
     "output_type": "stream",
     "text": [
      "Running FGSEA\n",
      "\n",
      "Number of total enriched terms: 9999\n",
      "\n",
      "Number of significant terms: 1447\n",
      "\n",
      "Double check that it's the same number of terms: 999\n",
      "\n",
      "Number of significant terms: 578\n",
      "\n"
     ]
    },
    {
     "name": "stdout",
     "output_type": "stream",
     "text": [
      "[1] \"Analyzing: Monocytes_RBD_vs_GFP.dds.res_G1C_vs_GFP\"\n"
     ]
    },
    {
     "name": "stderr",
     "output_type": "stream",
     "text": [
      "Running FGSEA\n",
      "\n",
      "Number of total enriched terms: 9909\n",
      "\n",
      "Number of significant terms: 1449\n",
      "\n",
      "Double check that it's the same number of terms: 847\n",
      "\n",
      "Number of significant terms: 464\n",
      "\n"
     ]
    },
    {
     "name": "stdout",
     "output_type": "stream",
     "text": [
      "[1] \"Analyzing: Neutro_prog._G1C_vs_GFP\"\n"
     ]
    },
    {
     "name": "stderr",
     "output_type": "stream",
     "text": [
      "Running FGSEA\n",
      "\n",
      "Number of total enriched terms: 1995\n",
      "\n",
      "Number of significant terms: 138\n",
      "\n",
      "Double check that it's the same number of terms: 68\n",
      "\n",
      "Number of significant terms: 35\n",
      "\n"
     ]
    },
    {
     "name": "stdout",
     "output_type": "stream",
     "text": [
      "[1] \"Analyzing: Neutro_prog._G1C_vs_RBD.dds.res_G1C_vs_GFP\"\n"
     ]
    },
    {
     "name": "stderr",
     "output_type": "stream",
     "text": [
      "Running FGSEA\n",
      "\n",
      "Number of total enriched terms: 9314\n",
      "\n",
      "Number of significant terms: 679\n",
      "\n",
      "Double check that it's the same number of terms: 388\n",
      "\n",
      "Number of significant terms: 227\n",
      "\n"
     ]
    },
    {
     "name": "stdout",
     "output_type": "stream",
     "text": [
      "[1] \"Analyzing: Neutro_prog._RBD_vs_GFP.dds.res_G1C_vs_GFP\"\n"
     ]
    },
    {
     "name": "stderr",
     "output_type": "stream",
     "text": [
      "Running FGSEA\n",
      "\n",
      "Number of total enriched terms: 8544\n",
      "\n",
      "Number of significant terms: 269\n",
      "\n",
      "Double check that it's the same number of terms: 200\n",
      "\n",
      "Number of significant terms: 134\n",
      "\n"
     ]
    },
    {
     "name": "stdout",
     "output_type": "stream",
     "text": [
      "[1] \"Analyzing: Neutrophils_G1C_vs_GFP\"\n"
     ]
    },
    {
     "name": "stderr",
     "output_type": "stream",
     "text": [
      "Running FGSEA\n",
      "\n",
      "Number of total enriched terms: 9719\n",
      "\n",
      "Number of significant terms: 3369\n",
      "\n",
      "Double check that it's the same number of terms: 2608\n",
      "\n",
      "Number of significant terms: 1667\n",
      "\n"
     ]
    },
    {
     "name": "stdout",
     "output_type": "stream",
     "text": [
      "[1] \"Analyzing: Neutrophils_G1C_vs_RBD.dds.res_G1C_vs_GFP\"\n"
     ]
    },
    {
     "name": "stderr",
     "output_type": "stream",
     "text": [
      "Running FGSEA\n",
      "\n",
      "Number of total enriched terms: 9911\n",
      "\n",
      "Number of significant terms: 3398\n",
      "\n",
      "Double check that it's the same number of terms: 2473\n",
      "\n",
      "Number of significant terms: 1554\n",
      "\n"
     ]
    },
    {
     "name": "stdout",
     "output_type": "stream",
     "text": [
      "[1] \"Analyzing: Neutrophils_RBD_vs_GFP.dds.res_G1C_vs_GFP\"\n"
     ]
    },
    {
     "name": "stderr",
     "output_type": "stream",
     "text": [
      "Running FGSEA\n",
      "\n",
      "Number of total enriched terms: 10392\n",
      "\n",
      "Number of significant terms: 1104\n",
      "\n",
      "Double check that it's the same number of terms: 555\n",
      "\n",
      "Number of significant terms: 325\n",
      "\n"
     ]
    },
    {
     "name": "stdout",
     "output_type": "stream",
     "text": [
      "[1] \"Analyzing: NK_cells_G1C_vs_GFP\"\n"
     ]
    },
    {
     "name": "stderr",
     "output_type": "stream",
     "text": [
      "Running FGSEA\n",
      "\n",
      "Number of total enriched terms: 9715\n",
      "\n",
      "Number of significant terms: 895\n",
      "\n",
      "Double check that it's the same number of terms: 540\n",
      "\n",
      "Number of significant terms: 338\n",
      "\n"
     ]
    },
    {
     "name": "stdout",
     "output_type": "stream",
     "text": [
      "[1] \"Analyzing: NK_cells_G1C_vs_RBD.dds.res_G1C_vs_GFP\"\n"
     ]
    },
    {
     "name": "stderr",
     "output_type": "stream",
     "text": [
      "Running FGSEA\n",
      "\n",
      "Number of total enriched terms: 9724\n",
      "\n",
      "Number of significant terms: 629\n",
      "\n",
      "Double check that it's the same number of terms: 366\n",
      "\n",
      "Number of significant terms: 211\n",
      "\n"
     ]
    },
    {
     "name": "stdout",
     "output_type": "stream",
     "text": [
      "[1] \"Analyzing: NK_cells_RBD_vs_GFP.dds.res_G1C_vs_GFP\"\n"
     ]
    },
    {
     "name": "stderr",
     "output_type": "stream",
     "text": [
      "Running FGSEA\n",
      "\n",
      "Number of total enriched terms: 9749\n",
      "\n",
      "Number of significant terms: 219\n",
      "\n",
      "Double check that it's the same number of terms: 130\n",
      "\n",
      "Number of significant terms: 74\n",
      "\n"
     ]
    },
    {
     "name": "stdout",
     "output_type": "stream",
     "text": [
      "[1] \"Analyzing: pro-B_G1C_vs_GFP\"\n"
     ]
    },
    {
     "name": "stderr",
     "output_type": "stream",
     "text": [
      "Running FGSEA\n",
      "\n",
      "Number of total enriched terms: 8046\n",
      "\n",
      "Number of significant terms: 1107\n",
      "\n",
      "Double check that it's the same number of terms: 778\n",
      "\n",
      "Number of significant terms: 396\n",
      "\n"
     ]
    },
    {
     "name": "stdout",
     "output_type": "stream",
     "text": [
      "[1] \"Analyzing: pro-B_G1C_vs_RBD.dds.res_G1C_vs_GFP\"\n"
     ]
    },
    {
     "name": "stderr",
     "output_type": "stream",
     "text": [
      "Running FGSEA\n",
      "\n",
      "Number of total enriched terms: 9338\n",
      "\n",
      "Number of significant terms: 1248\n",
      "\n",
      "Double check that it's the same number of terms: 904\n",
      "\n",
      "Number of significant terms: 431\n",
      "\n"
     ]
    },
    {
     "name": "stdout",
     "output_type": "stream",
     "text": [
      "[1] \"Analyzing: pro-B_RBD_vs_GFP.dds.res_G1C_vs_GFP\"\n"
     ]
    },
    {
     "name": "stderr",
     "output_type": "stream",
     "text": [
      "Running FGSEA\n",
      "\n",
      "Number of total enriched terms: 5191\n",
      "\n",
      "Number of significant terms: 106\n",
      "\n",
      "Double check that it's the same number of terms: 57\n",
      "\n",
      "Number of significant terms: 22\n",
      "\n"
     ]
    },
    {
     "name": "stdout",
     "output_type": "stream",
     "text": [
      "[1] \"Analyzing: small_pre-B._G1C_vs_GFP\"\n"
     ]
    },
    {
     "name": "stderr",
     "output_type": "stream",
     "text": [
      "Running FGSEA\n",
      "\n",
      "Number of total enriched terms: 9076\n",
      "\n",
      "Number of significant terms: 2057\n",
      "\n",
      "Double check that it's the same number of terms: 1234\n",
      "\n",
      "Number of significant terms: 781\n",
      "\n"
     ]
    },
    {
     "name": "stdout",
     "output_type": "stream",
     "text": [
      "[1] \"Analyzing: small_pre-B._G1C_vs_RBD.dds.res_G1C_vs_GFP\"\n"
     ]
    },
    {
     "name": "stderr",
     "output_type": "stream",
     "text": [
      "Running FGSEA\n",
      "\n",
      "Number of total enriched terms: 8684\n",
      "\n",
      "Number of significant terms: 1179\n",
      "\n",
      "Double check that it's the same number of terms: 786\n",
      "\n",
      "Number of significant terms: 522\n",
      "\n"
     ]
    },
    {
     "name": "stdout",
     "output_type": "stream",
     "text": [
      "[1] \"Analyzing: small_pre-B._RBD_vs_GFP.dds.res_G1C_vs_GFP\"\n"
     ]
    },
    {
     "name": "stderr",
     "output_type": "stream",
     "text": [
      "Running FGSEA\n",
      "\n",
      "Number of total enriched terms: 8809\n",
      "\n",
      "Number of significant terms: 863\n",
      "\n",
      "Double check that it's the same number of terms: 655\n",
      "\n",
      "Number of significant terms: 403\n",
      "\n"
     ]
    },
    {
     "name": "stdout",
     "output_type": "stream",
     "text": [
      "[1] \"Analyzing: T_cells_G1C_vs_GFP\"\n"
     ]
    },
    {
     "name": "stderr",
     "output_type": "stream",
     "text": [
      "Running FGSEA\n",
      "\n",
      "Number of total enriched terms: 6961\n",
      "\n",
      "Number of significant terms: 467\n",
      "\n",
      "Double check that it's the same number of terms: 288\n",
      "\n",
      "Number of significant terms: 187\n",
      "\n"
     ]
    },
    {
     "name": "stdout",
     "output_type": "stream",
     "text": [
      "[1] \"Analyzing: T_cells_G1C_vs_RBD.dds.res_G1C_vs_GFP\"\n"
     ]
    },
    {
     "name": "stderr",
     "output_type": "stream",
     "text": [
      "Running FGSEA\n",
      "\n",
      "Number of total enriched terms: 7425\n",
      "\n",
      "Number of significant terms: 642\n",
      "\n",
      "Double check that it's the same number of terms: 392\n",
      "\n",
      "Number of significant terms: 251\n",
      "\n"
     ]
    },
    {
     "name": "stdout",
     "output_type": "stream",
     "text": [
      "[1] \"Analyzing: T_cells_RBD_vs_GFP.dds.res_G1C_vs_GFP\"\n"
     ]
    },
    {
     "name": "stderr",
     "output_type": "stream",
     "text": [
      "Running FGSEA\n",
      "\n",
      "Number of total enriched terms: 8721\n",
      "\n",
      "Number of significant terms: 976\n",
      "\n",
      "Double check that it's the same number of terms: 746\n",
      "\n",
      "Number of significant terms: 507\n",
      "\n"
     ]
    },
    {
     "name": "stdout",
     "output_type": "stream",
     "text": [
      "[1] \"Analyzing: B_cell_G1C_vs_GFP.dds.res_RBD_vs_GFP\"\n"
     ]
    },
    {
     "name": "stderr",
     "output_type": "stream",
     "text": [
      "Running FGSEA\n",
      "\n",
      "Number of total enriched terms: 9783\n",
      "\n",
      "Number of significant terms: 1734\n",
      "\n",
      "Double check that it's the same number of terms: 1026\n",
      "\n",
      "Number of significant terms: 627\n",
      "\n"
     ]
    },
    {
     "name": "stdout",
     "output_type": "stream",
     "text": [
      "[1] \"Analyzing: B_cell_G1C_vs_RBD.dds.res_RBD_vs_GFP\"\n"
     ]
    },
    {
     "name": "stderr",
     "output_type": "stream",
     "text": [
      "Running FGSEA\n",
      "\n",
      "Number of total enriched terms: 9577\n",
      "\n",
      "Number of significant terms: 1932\n",
      "\n",
      "Double check that it's the same number of terms: 1158\n",
      "\n",
      "Number of significant terms: 717\n",
      "\n"
     ]
    },
    {
     "name": "stdout",
     "output_type": "stream",
     "text": [
      "[1] \"Analyzing: B_cell_RBD_vs_GFP\"\n"
     ]
    },
    {
     "name": "stderr",
     "output_type": "stream",
     "text": [
      "Running FGSEA\n",
      "\n",
      "Number of total enriched terms: 9689\n",
      "\n",
      "Number of significant terms: 734\n",
      "\n",
      "Double check that it's the same number of terms: 483\n",
      "\n",
      "Number of significant terms: 309\n",
      "\n"
     ]
    },
    {
     "name": "stdout",
     "output_type": "stream",
     "text": [
      "[1] \"Analyzing: Dendritic_cells_G1C_vs_GFP.dds.res_RBD_vs_GFP\"\n"
     ]
    },
    {
     "name": "stderr",
     "output_type": "stream",
     "text": [
      "Running FGSEA\n",
      "\n",
      "Number of total enriched terms: 9736\n",
      "\n",
      "Number of significant terms: 1862\n",
      "\n",
      "Double check that it's the same number of terms: 1203\n",
      "\n",
      "Number of significant terms: 743\n",
      "\n"
     ]
    },
    {
     "name": "stdout",
     "output_type": "stream",
     "text": [
      "[1] \"Analyzing: Dendritic_cells_G1C_vs_RBD.dds.res_RBD_vs_GFP\"\n"
     ]
    },
    {
     "name": "stderr",
     "output_type": "stream",
     "text": [
      "Running FGSEA\n",
      "\n",
      "Number of total enriched terms: 9585\n",
      "\n",
      "Number of significant terms: 1236\n",
      "\n",
      "Double check that it's the same number of terms: 897\n",
      "\n",
      "Number of significant terms: 481\n",
      "\n"
     ]
    },
    {
     "name": "stdout",
     "output_type": "stream",
     "text": [
      "[1] \"Analyzing: Dendritic_cells_RBD_vs_GFP\"\n"
     ]
    },
    {
     "name": "stderr",
     "output_type": "stream",
     "text": [
      "Running FGSEA\n",
      "\n",
      "Number of total enriched terms: 9487\n",
      "\n",
      "Number of significant terms: 1102\n",
      "\n",
      "Double check that it's the same number of terms: 719\n",
      "\n",
      "Number of significant terms: 365\n",
      "\n"
     ]
    },
    {
     "name": "stdout",
     "output_type": "stream",
     "text": [
      "[1] \"Analyzing: Eo_Baso_prog._G1C_vs_GFP.dds.res_RBD_vs_GFP\"\n"
     ]
    },
    {
     "name": "stderr",
     "output_type": "stream",
     "text": [
      "Running FGSEA\n",
      "\n",
      "Number of total enriched terms: 9464\n",
      "\n",
      "Number of significant terms: 178\n",
      "\n",
      "Double check that it's the same number of terms: 98\n",
      "\n",
      "Number of significant terms: 66\n",
      "\n"
     ]
    },
    {
     "name": "stdout",
     "output_type": "stream",
     "text": [
      "[1] \"Analyzing: Eo_Baso_prog._G1C_vs_RBD.dds.res_RBD_vs_GFP\"\n"
     ]
    },
    {
     "name": "stderr",
     "output_type": "stream",
     "text": [
      "Running FGSEA\n",
      "\n",
      "Number of total enriched terms: 9455\n",
      "\n",
      "Number of significant terms: 177\n",
      "\n",
      "Double check that it's the same number of terms: 104\n",
      "\n",
      "Number of significant terms: 59\n",
      "\n"
     ]
    },
    {
     "name": "stdout",
     "output_type": "stream",
     "text": [
      "[1] \"Analyzing: Eo_Baso_prog._RBD_vs_GFP\"\n"
     ]
    },
    {
     "name": "stderr",
     "output_type": "stream",
     "text": [
      "Running FGSEA\n",
      "\n",
      "Number of total enriched terms: 9192\n",
      "\n",
      "Number of significant terms: 55\n",
      "\n",
      "Double check that it's the same number of terms: 22\n",
      "\n",
      "Number of significant terms: 5\n",
      "\n"
     ]
    },
    {
     "name": "stdout",
     "output_type": "stream",
     "text": [
      "[1] \"Analyzing: Ery_Mk_prog._G1C_vs_GFP.dds.res_RBD_vs_GFP\"\n"
     ]
    },
    {
     "name": "stderr",
     "output_type": "stream",
     "text": [
      "Running FGSEA\n",
      "\n",
      "Number of total enriched terms: 3747\n",
      "\n",
      "Number of significant terms: 82\n",
      "\n",
      "Double check that it's the same number of terms: 44\n",
      "\n",
      "Number of significant terms: 28\n",
      "\n"
     ]
    },
    {
     "name": "stdout",
     "output_type": "stream",
     "text": [
      "[1] \"Analyzing: Ery_Mk_prog._G1C_vs_RBD.dds.res_RBD_vs_GFP\"\n"
     ]
    },
    {
     "name": "stderr",
     "output_type": "stream",
     "text": [
      "Running FGSEA\n",
      "\n",
      "Number of total enriched terms: 2258\n",
      "\n",
      "Number of significant terms: 67\n",
      "\n",
      "Double check that it's the same number of terms: 11\n",
      "\n",
      "Number of significant terms: 9\n",
      "\n"
     ]
    },
    {
     "name": "stdout",
     "output_type": "stream",
     "text": [
      "[1] \"Analyzing: Ery_Mk_prog._RBD_vs_GFP\"\n"
     ]
    },
    {
     "name": "stderr",
     "output_type": "stream",
     "text": [
      "Running FGSEA\n",
      "\n",
      "Number of total enriched terms: 6531\n",
      "\n",
      "Number of significant terms: 322\n",
      "\n",
      "Double check that it's the same number of terms: 191\n",
      "\n",
      "Number of significant terms: 51\n",
      "\n",
      "Number of total enriched terms: 7606\n",
      "\n",
      "Number of significant terms: 925\n",
      "\n",
      "Double check that it's the same number of terms: 592\n",
      "\n",
      "Number of significant terms: 247\n",
      "\n"
     ]
    },
    {
     "name": "stdout",
     "output_type": "stream",
     "text": [
      "[1] \"Analyzing: Gran_Mono_prog._G1C_vs_GFP.dds.res_RBD_vs_GFP\"\n"
     ]
    },
    {
     "name": "stderr",
     "output_type": "stream",
     "text": [
      "Running FGSEA\n",
      "\n",
      "Number of total enriched terms: 9368\n",
      "\n",
      "Number of significant terms: 691\n",
      "\n",
      "Double check that it's the same number of terms: 379\n",
      "\n",
      "Number of significant terms: 174\n",
      "\n"
     ]
    },
    {
     "name": "stdout",
     "output_type": "stream",
     "text": [
      "[1] \"Analyzing: Gran_Mono_prog._G1C_vs_RBD.dds.res_RBD_vs_GFP\"\n"
     ]
    },
    {
     "name": "stderr",
     "output_type": "stream",
     "text": [
      "Running FGSEA\n",
      "\n",
      "Number of total enriched terms: 6101\n",
      "\n",
      "Number of significant terms: 792\n",
      "\n",
      "Double check that it's the same number of terms: 436\n",
      "\n",
      "Number of significant terms: 197\n",
      "\n"
     ]
    },
    {
     "name": "stdout",
     "output_type": "stream",
     "text": [
      "[1] \"Analyzing: Gran_Mono_prog._RBD_vs_GFP\"\n"
     ]
    },
    {
     "name": "stderr",
     "output_type": "stream",
     "text": [
      "Running FGSEA\n",
      "\n",
      "Number of total enriched terms: 8776\n",
      "\n",
      "Number of significant terms: 243\n",
      "\n",
      "Double check that it's the same number of terms: 173\n",
      "\n",
      "Number of significant terms: 128\n",
      "\n"
     ]
    },
    {
     "name": "stdout",
     "output_type": "stream",
     "text": [
      "[1] \"Analyzing: large_pre-B._G1C_vs_GFP.dds.res_RBD_vs_GFP\"\n"
     ]
    },
    {
     "name": "stderr",
     "output_type": "stream",
     "text": [
      "Running FGSEA\n",
      "\n",
      "Number of total enriched terms: 9415\n",
      "\n",
      "Number of significant terms: 631\n",
      "\n",
      "Double check that it's the same number of terms: 431\n",
      "\n",
      "Number of significant terms: 225\n",
      "\n"
     ]
    },
    {
     "name": "stdout",
     "output_type": "stream",
     "text": [
      "[1] \"Analyzing: large_pre-B._G1C_vs_RBD.dds.res_RBD_vs_GFP\"\n"
     ]
    },
    {
     "name": "stderr",
     "output_type": "stream",
     "text": [
      "Running FGSEA\n",
      "\n",
      "Number of total enriched terms: 7445\n",
      "\n",
      "Number of significant terms: 675\n",
      "\n",
      "Double check that it's the same number of terms: 506\n",
      "\n",
      "Number of significant terms: 289\n",
      "\n"
     ]
    },
    {
     "name": "stdout",
     "output_type": "stream",
     "text": [
      "[1] \"Analyzing: large_pre-B._RBD_vs_GFP\"\n"
     ]
    },
    {
     "name": "stderr",
     "output_type": "stream",
     "text": [
      "Running FGSEA\n",
      "\n",
      "Number of total enriched terms: 4216\n",
      "\n",
      "Number of significant terms: 711\n",
      "\n",
      "Double check that it's the same number of terms: 490\n",
      "\n",
      "Number of significant terms: 314\n",
      "\n"
     ]
    },
    {
     "name": "stdout",
     "output_type": "stream",
     "text": [
      "[1] \"Analyzing: LMPPs_G1C_vs_GFP.dds.res_RBD_vs_GFP\"\n"
     ]
    },
    {
     "name": "stderr",
     "output_type": "stream",
     "text": [
      "Running FGSEA\n",
      "\n",
      "Number of total enriched terms: 9778\n",
      "\n",
      "Number of significant terms: 297\n",
      "\n",
      "Double check that it's the same number of terms: 162\n",
      "\n",
      "Number of significant terms: 116\n",
      "\n"
     ]
    },
    {
     "name": "stdout",
     "output_type": "stream",
     "text": [
      "[1] \"Analyzing: LMPPs_G1C_vs_RBD.dds.res_RBD_vs_GFP\"\n"
     ]
    },
    {
     "name": "stderr",
     "output_type": "stream",
     "text": [
      "Running FGSEA\n",
      "\n",
      "Number of total enriched terms: 9758\n",
      "\n",
      "Number of significant terms: 1607\n",
      "\n",
      "Double check that it's the same number of terms: 1066\n",
      "\n",
      "Number of significant terms: 672\n",
      "\n"
     ]
    },
    {
     "name": "stdout",
     "output_type": "stream",
     "text": [
      "[1] \"Analyzing: LMPPs_RBD_vs_GFP\"\n"
     ]
    },
    {
     "name": "stderr",
     "output_type": "stream",
     "text": [
      "Running FGSEA\n",
      "\n",
      "Number of total enriched terms: 9567\n",
      "\n",
      "Number of significant terms: 1260\n",
      "\n",
      "Double check that it's the same number of terms: 886\n",
      "\n",
      "Number of significant terms: 548\n",
      "\n"
     ]
    },
    {
     "name": "stdout",
     "output_type": "stream",
     "text": [
      "[1] \"Analyzing: Mk_prog._G1C_vs_GFP.dds.res_RBD_vs_GFP\"\n"
     ]
    },
    {
     "name": "stderr",
     "output_type": "stream",
     "text": [
      "Running FGSEA\n",
      "\n",
      "Number of total enriched terms: 7009\n",
      "\n",
      "Number of significant terms: 342\n",
      "\n",
      "Double check that it's the same number of terms: 236\n",
      "\n",
      "Number of significant terms: 134\n",
      "\n"
     ]
    },
    {
     "name": "stdout",
     "output_type": "stream",
     "text": [
      "[1] \"Analyzing: Mk_prog._G1C_vs_RBD.dds.res_RBD_vs_GFP\"\n"
     ]
    },
    {
     "name": "stderr",
     "output_type": "stream",
     "text": [
      "Running FGSEA\n",
      "\n",
      "Number of total enriched terms: 4276\n",
      "\n",
      "Number of significant terms: 157\n",
      "\n",
      "Double check that it's the same number of terms: 86\n",
      "\n",
      "Number of significant terms: 47\n",
      "\n"
     ]
    },
    {
     "name": "stdout",
     "output_type": "stream",
     "text": [
      "[1] \"Analyzing: Mk_prog._RBD_vs_GFP\"\n"
     ]
    },
    {
     "name": "stderr",
     "output_type": "stream",
     "text": [
      "Running FGSEA\n",
      "\n",
      "Number of total enriched terms: 5817\n",
      "\n",
      "Number of significant terms: 76\n",
      "\n",
      "Double check that it's the same number of terms: 44\n",
      "\n",
      "Number of significant terms: 20\n",
      "\n"
     ]
    },
    {
     "name": "stdout",
     "output_type": "stream",
     "text": [
      "[1] \"Analyzing: Mono_prog._G1C_vs_GFP.dds.res_RBD_vs_GFP\"\n"
     ]
    },
    {
     "name": "stderr",
     "output_type": "stream",
     "text": [
      "Running FGSEA\n",
      "\n",
      "Number of total enriched terms: 6513\n",
      "\n",
      "Number of significant terms: 540\n",
      "\n",
      "Double check that it's the same number of terms: 282\n",
      "\n",
      "Number of significant terms: 157\n",
      "\n"
     ]
    },
    {
     "name": "stdout",
     "output_type": "stream",
     "text": [
      "[1] \"Analyzing: Mono_prog._G1C_vs_RBD.dds.res_RBD_vs_GFP\"\n"
     ]
    },
    {
     "name": "stderr",
     "output_type": "stream",
     "text": [
      "Running FGSEA\n",
      "\n",
      "Number of total enriched terms: 6415\n",
      "\n",
      "Number of significant terms: 247\n",
      "\n",
      "Double check that it's the same number of terms: 139\n",
      "\n",
      "Number of significant terms: 87\n",
      "\n"
     ]
    },
    {
     "name": "stdout",
     "output_type": "stream",
     "text": [
      "[1] \"Analyzing: Mono_prog._RBD_vs_GFP\"\n"
     ]
    },
    {
     "name": "stderr",
     "output_type": "stream",
     "text": [
      "Running FGSEA\n",
      "\n",
      "Number of total enriched terms: 8694\n",
      "\n",
      "Number of significant terms: 254\n",
      "\n",
      "Double check that it's the same number of terms: 155\n",
      "\n",
      "Number of significant terms: 60\n",
      "\n"
     ]
    },
    {
     "name": "stdout",
     "output_type": "stream",
     "text": [
      "[1] \"Analyzing: Monocytes_G1C_vs_GFP.dds.res_RBD_vs_GFP\"\n"
     ]
    },
    {
     "name": "stderr",
     "output_type": "stream",
     "text": [
      "Running FGSEA\n",
      "\n",
      "Number of total enriched terms: 9968\n",
      "\n",
      "Number of significant terms: 1695\n",
      "\n",
      "Double check that it's the same number of terms: 1185\n",
      "\n",
      "Number of significant terms: 752\n",
      "\n"
     ]
    },
    {
     "name": "stdout",
     "output_type": "stream",
     "text": [
      "[1] \"Analyzing: Monocytes_G1C_vs_RBD.dds.res_RBD_vs_GFP\"\n"
     ]
    },
    {
     "name": "stderr",
     "output_type": "stream",
     "text": [
      "Running FGSEA\n",
      "\n",
      "Number of total enriched terms: 9999\n",
      "\n",
      "Number of significant terms: 1423\n",
      "\n",
      "Double check that it's the same number of terms: 994\n",
      "\n",
      "Number of significant terms: 572\n",
      "\n"
     ]
    },
    {
     "name": "stdout",
     "output_type": "stream",
     "text": [
      "[1] \"Analyzing: Monocytes_RBD_vs_GFP\"\n"
     ]
    },
    {
     "name": "stderr",
     "output_type": "stream",
     "text": [
      "Running FGSEA\n",
      "\n",
      "Number of total enriched terms: 9909\n",
      "\n",
      "Number of significant terms: 1541\n",
      "\n",
      "Double check that it's the same number of terms: 911\n",
      "\n",
      "Number of significant terms: 502\n",
      "\n"
     ]
    },
    {
     "name": "stdout",
     "output_type": "stream",
     "text": [
      "[1] \"Analyzing: Neutro_prog._G1C_vs_GFP.dds.res_RBD_vs_GFP\"\n"
     ]
    },
    {
     "name": "stderr",
     "output_type": "stream",
     "text": [
      "Running FGSEA\n",
      "\n",
      "Number of total enriched terms: 1995\n",
      "\n",
      "Number of significant terms: 132\n",
      "\n",
      "Double check that it's the same number of terms: 65\n",
      "\n",
      "Number of significant terms: 34\n",
      "\n"
     ]
    },
    {
     "name": "stdout",
     "output_type": "stream",
     "text": [
      "[1] \"Analyzing: Neutro_prog._G1C_vs_RBD.dds.res_RBD_vs_GFP\"\n"
     ]
    },
    {
     "name": "stderr",
     "output_type": "stream",
     "text": [
      "Running FGSEA\n",
      "\n",
      "Number of total enriched terms: 9314\n",
      "\n",
      "Number of significant terms: 641\n",
      "\n",
      "Double check that it's the same number of terms: 359\n",
      "\n",
      "Number of significant terms: 208\n",
      "\n"
     ]
    },
    {
     "name": "stdout",
     "output_type": "stream",
     "text": [
      "[1] \"Analyzing: Neutro_prog._RBD_vs_GFP\"\n"
     ]
    },
    {
     "name": "stderr",
     "output_type": "stream",
     "text": [
      "Running FGSEA\n",
      "\n",
      "Number of total enriched terms: 8544\n",
      "\n",
      "Number of significant terms: 256\n",
      "\n",
      "Double check that it's the same number of terms: 191\n",
      "\n",
      "Number of significant terms: 122\n",
      "\n"
     ]
    },
    {
     "name": "stdout",
     "output_type": "stream",
     "text": [
      "[1] \"Analyzing: Neutrophils_G1C_vs_GFP.dds.res_RBD_vs_GFP\"\n"
     ]
    },
    {
     "name": "stderr",
     "output_type": "stream",
     "text": [
      "Running FGSEA\n",
      "\n",
      "Number of total enriched terms: 9719\n",
      "\n",
      "Number of significant terms: 3237\n",
      "\n",
      "Double check that it's the same number of terms: 2524\n",
      "\n",
      "Number of significant terms: 1614\n",
      "\n"
     ]
    },
    {
     "name": "stdout",
     "output_type": "stream",
     "text": [
      "[1] \"Analyzing: Neutrophils_G1C_vs_RBD.dds.res_RBD_vs_GFP\"\n"
     ]
    },
    {
     "name": "stderr",
     "output_type": "stream",
     "text": [
      "Running FGSEA\n",
      "\n",
      "Number of total enriched terms: 9911\n",
      "\n",
      "Number of significant terms: 3458\n",
      "\n",
      "Double check that it's the same number of terms: 2517\n",
      "\n",
      "Number of significant terms: 1584\n",
      "\n"
     ]
    },
    {
     "name": "stdout",
     "output_type": "stream",
     "text": [
      "[1] \"Analyzing: Neutrophils_RBD_vs_GFP\"\n"
     ]
    },
    {
     "name": "stderr",
     "output_type": "stream",
     "text": [
      "Running FGSEA\n",
      "\n",
      "Number of total enriched terms: 10392\n",
      "\n",
      "Number of significant terms: 1084\n",
      "\n",
      "Double check that it's the same number of terms: 555\n",
      "\n",
      "Number of significant terms: 320\n",
      "\n"
     ]
    },
    {
     "name": "stdout",
     "output_type": "stream",
     "text": [
      "[1] \"Analyzing: NK_cells_G1C_vs_GFP.dds.res_RBD_vs_GFP\"\n"
     ]
    },
    {
     "name": "stderr",
     "output_type": "stream",
     "text": [
      "Running FGSEA\n",
      "\n",
      "Number of total enriched terms: 9715\n",
      "\n",
      "Number of significant terms: 922\n",
      "\n",
      "Double check that it's the same number of terms: 557\n",
      "\n",
      "Number of significant terms: 346\n",
      "\n"
     ]
    },
    {
     "name": "stdout",
     "output_type": "stream",
     "text": [
      "[1] \"Analyzing: NK_cells_G1C_vs_RBD.dds.res_RBD_vs_GFP\"\n"
     ]
    },
    {
     "name": "stderr",
     "output_type": "stream",
     "text": [
      "Running FGSEA\n",
      "\n",
      "Number of total enriched terms: 9724\n",
      "\n",
      "Number of significant terms: 654\n",
      "\n",
      "Double check that it's the same number of terms: 384\n",
      "\n",
      "Number of significant terms: 217\n",
      "\n"
     ]
    },
    {
     "name": "stdout",
     "output_type": "stream",
     "text": [
      "[1] \"Analyzing: NK_cells_RBD_vs_GFP\"\n"
     ]
    },
    {
     "name": "stderr",
     "output_type": "stream",
     "text": [
      "Running FGSEA\n",
      "\n",
      "Number of total enriched terms: 9749\n",
      "\n",
      "Number of significant terms: 189\n",
      "\n",
      "Double check that it's the same number of terms: 110\n",
      "\n",
      "Number of significant terms: 59\n",
      "\n"
     ]
    },
    {
     "name": "stdout",
     "output_type": "stream",
     "text": [
      "[1] \"Analyzing: pro-B_G1C_vs_GFP.dds.res_RBD_vs_GFP\"\n"
     ]
    },
    {
     "name": "stderr",
     "output_type": "stream",
     "text": [
      "Running FGSEA\n",
      "\n",
      "Number of total enriched terms: 8046\n",
      "\n",
      "Number of significant terms: 1080\n",
      "\n",
      "Double check that it's the same number of terms: 764\n",
      "\n",
      "Number of significant terms: 386\n",
      "\n"
     ]
    },
    {
     "name": "stdout",
     "output_type": "stream",
     "text": [
      "[1] \"Analyzing: pro-B_G1C_vs_RBD.dds.res_RBD_vs_GFP\"\n"
     ]
    },
    {
     "name": "stderr",
     "output_type": "stream",
     "text": [
      "Running FGSEA\n",
      "\n",
      "Number of total enriched terms: 9338\n",
      "\n",
      "Number of significant terms: 1391\n",
      "\n",
      "Double check that it's the same number of terms: 1003\n",
      "\n",
      "Number of significant terms: 487\n",
      "\n"
     ]
    },
    {
     "name": "stdout",
     "output_type": "stream",
     "text": [
      "[1] \"Analyzing: pro-B_RBD_vs_GFP\"\n"
     ]
    },
    {
     "name": "stderr",
     "output_type": "stream",
     "text": [
      "Running FGSEA\n",
      "\n",
      "Number of total enriched terms: 5191\n",
      "\n",
      "Number of significant terms: 94\n",
      "\n",
      "Double check that it's the same number of terms: 48\n",
      "\n",
      "Number of significant terms: 17\n",
      "\n"
     ]
    },
    {
     "name": "stdout",
     "output_type": "stream",
     "text": [
      "[1] \"Analyzing: small_pre-B._G1C_vs_GFP.dds.res_RBD_vs_GFP\"\n"
     ]
    },
    {
     "name": "stderr",
     "output_type": "stream",
     "text": [
      "Running FGSEA\n",
      "\n",
      "Number of total enriched terms: 9076\n",
      "\n",
      "Number of significant terms: 1988\n",
      "\n",
      "Double check that it's the same number of terms: 1193\n",
      "\n",
      "Number of significant terms: 760\n",
      "\n"
     ]
    },
    {
     "name": "stdout",
     "output_type": "stream",
     "text": [
      "[1] \"Analyzing: small_pre-B._G1C_vs_RBD.dds.res_RBD_vs_GFP\"\n"
     ]
    },
    {
     "name": "stderr",
     "output_type": "stream",
     "text": [
      "Running FGSEA\n",
      "\n",
      "Number of total enriched terms: 8684\n",
      "\n",
      "Number of significant terms: 1195\n",
      "\n",
      "Double check that it's the same number of terms: 795\n",
      "\n",
      "Number of significant terms: 527\n",
      "\n"
     ]
    },
    {
     "name": "stdout",
     "output_type": "stream",
     "text": [
      "[1] \"Analyzing: small_pre-B._RBD_vs_GFP\"\n"
     ]
    },
    {
     "name": "stderr",
     "output_type": "stream",
     "text": [
      "Running FGSEA\n",
      "\n",
      "Number of total enriched terms: 8809\n",
      "\n",
      "Number of significant terms: 878\n",
      "\n",
      "Double check that it's the same number of terms: 665\n",
      "\n",
      "Number of significant terms: 403\n",
      "\n"
     ]
    },
    {
     "name": "stdout",
     "output_type": "stream",
     "text": [
      "[1] \"Analyzing: T_cells_G1C_vs_GFP.dds.res_RBD_vs_GFP\"\n"
     ]
    },
    {
     "name": "stderr",
     "output_type": "stream",
     "text": [
      "Running FGSEA\n",
      "\n",
      "Number of total enriched terms: 6961\n",
      "\n",
      "Number of significant terms: 473\n",
      "\n",
      "Double check that it's the same number of terms: 296\n",
      "\n",
      "Number of significant terms: 189\n",
      "\n"
     ]
    },
    {
     "name": "stdout",
     "output_type": "stream",
     "text": [
      "[1] \"Analyzing: T_cells_G1C_vs_RBD.dds.res_RBD_vs_GFP\"\n"
     ]
    },
    {
     "name": "stderr",
     "output_type": "stream",
     "text": [
      "Running FGSEA\n",
      "\n",
      "Number of total enriched terms: 7425\n",
      "\n",
      "Number of significant terms: 715\n",
      "\n",
      "Double check that it's the same number of terms: 439\n",
      "\n",
      "Number of significant terms: 277\n",
      "\n"
     ]
    },
    {
     "name": "stdout",
     "output_type": "stream",
     "text": [
      "[1] \"Analyzing: T_cells_RBD_vs_GFP\"\n"
     ]
    },
    {
     "name": "stderr",
     "output_type": "stream",
     "text": [
      "Running FGSEA\n",
      "\n",
      "Number of total enriched terms: 8721\n",
      "\n",
      "Number of significant terms: 969\n",
      "\n",
      "Double check that it's the same number of terms: 738\n",
      "\n",
      "Number of significant terms: 504\n",
      "\n"
     ]
    },
    {
     "name": "stdout",
     "output_type": "stream",
     "text": [
      "[1] \"Analyzing: B_cell_G1C_vs_GFP.dds.res_G1C_vs_RBD\"\n"
     ]
    },
    {
     "name": "stderr",
     "output_type": "stream",
     "text": [
      "Running FGSEA\n",
      "\n",
      "Number of total enriched terms: 9783\n",
      "\n",
      "Number of significant terms: 1552\n",
      "\n",
      "Double check that it's the same number of terms: 906\n",
      "\n",
      "Number of significant terms: 556\n",
      "\n"
     ]
    },
    {
     "name": "stdout",
     "output_type": "stream",
     "text": [
      "[1] \"Analyzing: B_cell_G1C_vs_RBD\"\n"
     ]
    },
    {
     "name": "stderr",
     "output_type": "stream",
     "text": [
      "Running FGSEA\n",
      "\n",
      "Number of total enriched terms: 9577\n",
      "\n",
      "Number of significant terms: 1860\n",
      "\n",
      "Double check that it's the same number of terms: 1111\n",
      "\n",
      "Number of significant terms: 682\n",
      "\n"
     ]
    }
   ],
   "source": [
    "set.seed(999)\n",
    "\n",
    "for (c.i in seq_along(contrasts)){\n",
    "    contrast.use = contrasts[c.i]\n",
    "        for (i in seq_along(files)){\n",
    "            # load table\n",
    "            file.use = files[i]\n",
    "            cell.use = str_split_fixed(file.use, paste0(\"_\", contrast.use), n = 2)[,1]\n",
    "            De.analysis = paste0(cell.use, \"_\", contrast.use)\n",
    "            print(paste0(\"Analyzing: \", De.analysis))\n",
    "            res = read.table(paste0(dir,file.use), sep = '\\t')\n",
    "\n",
    "            # Formatting for FGSEA\n",
    "            res$rank = res$stat\n",
    "            res = data.frame(\"SYMBOL\" = rownames(res),\n",
    "                             \"stat\" = res$rank)\n",
    "            res = res[!grepl(pattern = \"NA\", x = res$SYMBOL),]\n",
    "            ranks <- deframe(res)\n",
    "            ranks = sort(ranks, decreasing=TRUE)\n",
    "\n",
    "            tryCatch({\n",
    "            message(\"Running FGSEA\")\n",
    "            fgseaRes <- fgseaMultilevel(pathways=GMT,\n",
    "                                        stats=ranks,\n",
    "                                        minSize  = 10, \n",
    "                                        maxSize  = 500)\n",
    "            message(\"Number of total enriched terms: \", nrow(fgseaRes))\n",
    "            fgseaRes.tresh = fgseaRes[fgseaRes$padj < tresh,]\n",
    "            message(\"Number of significant terms: \", nrow(fgseaRes.tresh))\n",
    "            # Add categories\n",
    "            fgseaRes.tresh = merge(fgseaRes.tresh, gene.set.db, by = \"pathway\")\n",
    "            message(\"Double check that it's the same number of terms: \", nrow(fgseaRes.tresh))\n",
    "            # Subset for GO families of interest\n",
    "            fgseaRes.tresh.use = fgseaRes.tresh[fgseaRes.tresh$set.family %in% set.family.Keep, ]\n",
    "            message(\"Number of significant terms: \", nrow(fgseaRes.tresh.use))\n",
    "            # Collapse terms \n",
    "            collapsedPathways <- collapsePathways(fgseaRes.tresh.use[order(pval)][padj < tresh], \n",
    "                                                  GMT, ranks)\n",
    "            mainPathways <- fgseaRes.tresh.use[pathway %in% collapsedPathways$mainPathways][\n",
    "                                     order(-NES), pathway]\n",
    "            fgseaResMain <- fgseaRes.tresh.use[match(mainPathways, pathway)]\n",
    "            # Save them\n",
    "            file = paste(outdir, \"GSEA.BP_\", De.analysis, \".res\", sep = \"\")\n",
    "            fwrite(fgseaRes.tresh.use, file = file, sep = \"\\t\")\n",
    "            # print plot\n",
    "            plot = ggplot(fgseaResMain, aes(x = reorder(term, NES), y = NES)) +\n",
    "              geom_col(aes(fill= NES>0)) +\n",
    "              theme_bw()+\n",
    "              labs(x=\"\", y=\"Normalized Enrichment Score\",\n",
    "                   title= paste(De.analysis,\n",
    "                                \" \\n Gene Ontologies\")) + \n",
    "                theme(axis.text=element_text(size=10), axis.title=element_text(size=16, face=\"bold\"),\n",
    "                axis.text.x=element_text(), plot.title=element_text(size=16, face=\"bold\", hjust=0.5)) +\n",
    "              coord_flip() +\n",
    "            facet_nested(rows = vars(set.family, set), drop = TRUE, scales = \"free\", space = \"free\")\n",
    "            ggsave(filename = paste(outdir, \"GSEA.BP_\", De.analysis, \".pdf\", sep = \"\"),\n",
    "                                    height = 16, width = 20,\n",
    "                                    plot = plot, device = \"pdf\")\n",
    "                }, error = function(e) {\n",
    "            message(\"Error or no results found for \", De.analysis, \": \", e$message)\n",
    "        })\n",
    "    }\n",
    "}"
   ]
  },
  {
   "cell_type": "code",
   "execution_count": null,
   "id": "c0211689",
   "metadata": {},
   "outputs": [],
   "source": [
    "# setup\n",
    "tresh = 0.1\n",
    "set.family.Keep = c(\"CC\")"
   ]
  },
  {
   "cell_type": "code",
   "execution_count": null,
   "id": "cbbafe96",
   "metadata": {},
   "outputs": [],
   "source": [
    "set.seed(999)\n",
    "\n",
    "for (c.i in seq_along(contrasts)){\n",
    "    contrast.use = contrasts[c.i]\n",
    "        for (i in seq_along(files)){\n",
    "            # load table\n",
    "            file.use = files[i]\n",
    "            cell.use = str_split_fixed(file.use, paste0(\"_\", contrast.use), n = 2)[,1]\n",
    "            De.analysis = paste0(cell.use, \"_\", contrast.use)\n",
    "            print(paste0(\"Analyzing: \", De.analysis))\n",
    "            res = read.table(paste0(dir,file.use), sep = '\\t')\n",
    "\n",
    "            # Formatting for FGSEA\n",
    "            res$rank = res$stat\n",
    "            res = data.frame(\"SYMBOL\" = rownames(res),\n",
    "                             \"stat\" = res$rank)\n",
    "            res = res[!grepl(pattern = \"NA\", x = res$SYMBOL),]\n",
    "            ranks <- deframe(res)\n",
    "            ranks = sort(ranks, decreasing=TRUE)\n",
    "\n",
    "            tryCatch({\n",
    "            message(\"Running FGSEA\")\n",
    "            fgseaRes <- fgseaMultilevel(pathways=GMT,\n",
    "                                        stats=ranks,\n",
    "                                        minSize  = 10, \n",
    "                                        maxSize  = 500)\n",
    "            message(\"Number of total enriched terms: \", nrow(fgseaRes))\n",
    "            fgseaRes.tresh = fgseaRes[fgseaRes$padj < tresh,]\n",
    "            message(\"Number of significant terms: \", nrow(fgseaRes.tresh))\n",
    "            # Add categories\n",
    "            fgseaRes.tresh = merge(fgseaRes.tresh, gene.set.db, by = \"pathway\")\n",
    "            message(\"Double check that it's the same number of terms: \", nrow(fgseaRes.tresh))\n",
    "            # Subset for GO families of interest\n",
    "            fgseaRes.tresh.use = fgseaRes.tresh[fgseaRes.tresh$set.family %in% set.family.Keep, ]\n",
    "            message(\"Number of significant terms: \", nrow(fgseaRes.tresh.use))\n",
    "            # Collapse terms \n",
    "            collapsedPathways <- collapsePathways(fgseaRes.tresh.use[order(pval)][padj < tresh], \n",
    "                                                  GMT, ranks)\n",
    "            mainPathways <- fgseaRes.tresh.use[pathway %in% collapsedPathways$mainPathways][\n",
    "                                     order(-NES), pathway]\n",
    "            fgseaResMain <- fgseaRes.tresh.use[match(mainPathways, pathway)]\n",
    "            # Save them\n",
    "            file = paste(outdir, \"GSEA.CC_\", De.analysis, \".res\", sep = \"\")\n",
    "            fwrite(fgseaRes.tresh.use, file = file, sep = \"\\t\")\n",
    "            # print plot\n",
    "            plot = ggplot(fgseaResMain, aes(x = reorder(term, NES), y = NES)) +\n",
    "              geom_col(aes(fill= NES>0)) +\n",
    "              theme_bw()+\n",
    "              labs(x=\"\", y=\"Normalized Enrichment Score\",\n",
    "                   title= paste(De.analysis,\n",
    "                                \" \\n Gene Ontologies\")) + \n",
    "                theme(axis.text=element_text(size=10), axis.title=element_text(size=16, face=\"bold\"),\n",
    "                axis.text.x=element_text(), plot.title=element_text(size=16, face=\"bold\", hjust=0.5)) +\n",
    "              coord_flip() +\n",
    "            facet_nested(rows = vars(set.family, set), drop = TRUE, scales = \"free\", space = \"free\")\n",
    "            ggsave(filename = paste(outdir, \"GSEA.CC_\", De.analysis, \".pdf\", sep = \"\"),\n",
    "                                    height = 16, width = 20,\n",
    "                                    plot = plot, device = \"pdf\")\n",
    "                }, error = function(e) {\n",
    "            message(\"Error or no results found for \", De.analysis, \": \", e$message)\n",
    "        })\n",
    "    }\n",
    "}"
   ]
  }
 ],
 "metadata": {
  "kernelspec": {
   "display_name": "R",
   "language": "R",
   "name": "ir"
  },
  "language_info": {
   "codemirror_mode": "r",
   "file_extension": ".r",
   "mimetype": "text/x-r-source",
   "name": "R",
   "pygments_lexer": "r",
   "version": "4.3.2"
  },
  "toc": {
   "base_numbering": 1,
   "nav_menu": {},
   "number_sections": true,
   "sideBar": true,
   "skip_h1_title": false,
   "title_cell": "Table of Contents",
   "title_sidebar": "Contents",
   "toc_cell": false,
   "toc_position": {
    "height": "calc(100% - 180px)",
    "left": "10px",
    "top": "150px",
    "width": "173.1875px"
   },
   "toc_section_display": true,
   "toc_window_display": true
  }
 },
 "nbformat": 4,
 "nbformat_minor": 5
}
