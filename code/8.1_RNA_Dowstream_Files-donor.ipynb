{
 "cells": [
  {
   "cell_type": "markdown",
   "id": "e03da596",
   "metadata": {},
   "source": [
    "# Settings"
   ]
  },
  {
   "cell_type": "code",
   "execution_count": 1,
   "id": "88eb9a0a",
   "metadata": {
    "scrolled": true
   },
   "outputs": [
    {
     "data": {
      "text/html": [
       "TRUE"
      ],
      "text/latex": [
       "TRUE"
      ],
      "text/markdown": [
       "TRUE"
      ],
      "text/plain": [
       "[1] TRUE"
      ]
     },
     "metadata": {},
     "output_type": "display_data"
    },
    {
     "data": {
      "text/plain": [
       "Module(anndata)"
      ]
     },
     "metadata": {},
     "output_type": "display_data"
    },
    {
     "data": {
      "text/html": [
       "TRUE"
      ],
      "text/latex": [
       "TRUE"
      ],
      "text/markdown": [
       "TRUE"
      ],
      "text/plain": [
       "[1] TRUE"
      ]
     },
     "metadata": {},
     "output_type": "display_data"
    },
    {
     "data": {
      "text/plain": [
       "Module(leidenalg)"
      ]
     },
     "metadata": {},
     "output_type": "display_data"
    }
   ],
   "source": [
    "# Load Reticulate function\n",
    "Sys.setenv(RETICULATE_PYTHON=\"/home/luca/anaconda3/envs/reticulate/bin/python\")\n",
    "library(reticulate)\n",
    "reticulate::use_python(\"/home/luca/anaconda3/envs/reticulate/bin/python\")\n",
    "reticulate::use_condaenv(\"/home/luca/anaconda3/envs/reticulate\")\n",
    "reticulate::py_module_available(module='anndata') #needs to be TRUE\n",
    "reticulate::import('anndata') #good to make sure this doesn't error\n",
    "reticulate::py_module_available(module='leidenalg') #needs to be TRUE\n",
    "reticulate::import('leidenalg') #good to make sure this doesn't error"
   ]
  },
  {
   "cell_type": "code",
   "execution_count": 2,
   "id": "f6026c79",
   "metadata": {},
   "outputs": [],
   "source": [
    "## Patch for annotations in R4.1\n",
    "# BiocManager::install(\"Bioconductor/GenomeInfoDb\",lib = \"/home/luca/R/x86_64-pc-linux-gnu-library/4.1\",force = TRUE)\n",
    "# library(GenomeInfoDb,lib.loc=\"/home/luca/R/x86_64-pc-linux-gnu-library/4.1\")"
   ]
  },
  {
   "cell_type": "code",
   "execution_count": 3,
   "id": "1585e97f",
   "metadata": {},
   "outputs": [],
   "source": [
    "# Load packages\n",
    "pacman::p_load(dplyr, stringr, data.table, tidyr, data.table, Matrix, future, \n",
    "               hdf5r, Seurat, Signac,harmony, knitr, SoupX, \n",
    "               logr, parallel, \n",
    "               ggplot2, ggpubr, ggrepel, ggbreak, gridExtra, patchwork, grid, ggh4x)"
   ]
  },
  {
   "cell_type": "code",
   "execution_count": 5,
   "id": "947750c2",
   "metadata": {},
   "outputs": [],
   "source": [
    "# Set options\n",
    "options(stringsAsFactors = FALSE)\n",
    "warnLevel <- getOption('warn')\n",
    "options(warn = -1)\n",
    "opts_chunk$set(tidy=TRUE)\n",
    "\n",
    "# set Future\n",
    "plan(\"multicore\", workers = 4)\n",
    "# set RAM treshold\n",
    "## 1000 = 1gb\n",
    "RAM.tresh = 10000 * 1024^2\n",
    "options(future.globals.maxSize = RAM.tresh)"
   ]
  },
  {
   "cell_type": "code",
   "execution_count": 7,
   "id": "728b3618",
   "metadata": {},
   "outputs": [],
   "source": [
    "# Set directories\n",
    "assets.dir = \"/nfs/lab/projects/COVID_mouse/assets/\"\n",
    "reference.dir = \"/nfs/lab/projects/COVID_mouse/assets/BoneMarrowReference.rds\"\n",
    "snRNAseq.dir = \"/nfs/lab/projects/COVID_mouse/seurat/5_clean.map/snRNAseq_mrg.clean.scTyped.rds\"\n",
    "\n",
    "reference.map.dir = \"/nfs/lab/projects/COVID_mouse/5_clean.map/\"\n",
    "counts.dir = paste0(reference.map.dir, \"Downstream_Files/RNA/perdonor/COUNTS/\")"
   ]
  },
  {
   "cell_type": "code",
   "execution_count": 8,
   "id": "9abc5956",
   "metadata": {},
   "outputs": [],
   "source": [
    "# Load markers list\n",
    "cell.markers = read.table(paste(assets.dir, \"Cell.markers.txt\", sep = \"\"), sep = \"\\t\", header = TRUE)\n",
    "# Make it long, remove useless column and void markers\n",
    "cell.markers <- cell.markers %>% gather(Key, marker, c(3:ncol(cell.markers)))\n",
    "cell.markers = cell.markers[,-3]\n",
    "cell.markers = cell.markers[cell.markers$marker != \"\", ]\n",
    "compartment.ls = unique(cell.markers$Compartment)\n",
    "celltype.ls = unique(cell.markers$Celltype)\n",
    "# Factorize columns\n",
    "cell.markers$Compartment = factor(cell.markers$Compartment, \n",
    "                        levels = compartment.ls)\n",
    "cell.markers$CellType = factor(cell.markers$Celltype,\n",
    "                        levels = celltype.ls)"
   ]
  },
  {
   "cell_type": "code",
   "execution_count": 10,
   "id": "979d19d9",
   "metadata": {},
   "outputs": [
    {
     "data": {
      "text/html": [
       "'/nfs/lab/projects/COVID_mouse/5_clean.map/log/RNA_DownstreamFiles.log'"
      ],
      "text/latex": [
       "'/nfs/lab/projects/COVID\\_mouse/5\\_clean.map/log/RNA\\_DownstreamFiles.log'"
      ],
      "text/markdown": [
       "'/nfs/lab/projects/COVID_mouse/5_clean.map/log/RNA_DownstreamFiles.log'"
      ],
      "text/plain": [
       "[1] \"/nfs/lab/projects/COVID_mouse/5_clean.map/log/RNA_DownstreamFiles.log\""
      ]
     },
     "metadata": {},
     "output_type": "display_data"
    }
   ],
   "source": [
    "log_open(file_name = paste0(reference.map.dir, \"RNA_DownstreamFiles.log\"))"
   ]
  },
  {
   "cell_type": "markdown",
   "id": "5bf0520c",
   "metadata": {},
   "source": [
    "# Load assay"
   ]
  },
  {
   "cell_type": "code",
   "execution_count": 12,
   "id": "95e623c3",
   "metadata": {},
   "outputs": [
    {
     "name": "stdout",
     "output_type": "stream",
     "text": [
      "[1] \" Loading data\"\n"
     ]
    }
   ],
   "source": [
    "log_print(\" Loading data\")\n",
    "adata = readRDS(paste(reference.map.dir, \"snRNAseq_mrg.clean.refMapped.rds\", sep = \"\"))"
   ]
  },
  {
   "cell_type": "markdown",
   "id": "88bf16cd",
   "metadata": {},
   "source": [
    "# Cell count matrix  - RNA"
   ]
  },
  {
   "cell_type": "code",
   "execution_count": 19,
   "id": "3e081f57",
   "metadata": {},
   "outputs": [
    {
     "data": {
      "text/html": [
       "<style>\n",
       ".list-inline {list-style: none; margin:0; padding: 0}\n",
       ".list-inline>li {display: inline-block}\n",
       ".list-inline>li:not(:last-child)::after {content: \"\\00b7\"; padding: 0 .5ex}\n",
       "</style>\n",
       "<ol class=list-inline><li>'1_GFP1'</li><li>'10_G1C1'</li><li>'11_G1C2'</li><li>'12_G1C3'</li><li>'2_GFP2'</li><li>'3_GFP3'</li><li>'4_RBD1'</li><li>'5_RBD2'</li><li>'6_RBD3'</li></ol>\n"
      ],
      "text/latex": [
       "\\begin{enumerate*}\n",
       "\\item '1\\_GFP1'\n",
       "\\item '10\\_G1C1'\n",
       "\\item '11\\_G1C2'\n",
       "\\item '12\\_G1C3'\n",
       "\\item '2\\_GFP2'\n",
       "\\item '3\\_GFP3'\n",
       "\\item '4\\_RBD1'\n",
       "\\item '5\\_RBD2'\n",
       "\\item '6\\_RBD3'\n",
       "\\end{enumerate*}\n"
      ],
      "text/markdown": [
       "1. '1_GFP1'\n",
       "2. '10_G1C1'\n",
       "3. '11_G1C2'\n",
       "4. '12_G1C3'\n",
       "5. '2_GFP2'\n",
       "6. '3_GFP3'\n",
       "7. '4_RBD1'\n",
       "8. '5_RBD2'\n",
       "9. '6_RBD3'\n",
       "\n",
       "\n"
      ],
      "text/plain": [
       "[1] \"1_GFP1\"  \"10_G1C1\" \"11_G1C2\" \"12_G1C3\" \"2_GFP2\"  \"3_GFP3\"  \"4_RBD1\" \n",
       "[8] \"5_RBD2\"  \"6_RBD3\" "
      ]
     },
     "metadata": {},
     "output_type": "display_data"
    }
   ],
   "source": [
    "# adding a column for formatting reasons\n",
    "adata$donor = adata$library\n",
    "adata$celltypes = gsub(\"[ /]\", \"_\", adata$predicted.celltypes)\n",
    "\n",
    "\n",
    "samples = as.character(unique(adata$donor))\n",
    "samples"
   ]
  },
  {
   "cell_type": "code",
   "execution_count": 20,
   "id": "75c0fdef",
   "metadata": {},
   "outputs": [
    {
     "data": {
      "text/html": [
       "<style>\n",
       ".dl-inline {width: auto; margin:0; padding: 0}\n",
       ".dl-inline>dt, .dl-inline>dd {float: none; width: auto; display: inline-block}\n",
       ".dl-inline>dt::after {content: \":\\0020\"; padding-right: .5ex}\n",
       ".dl-inline>dt:not(:first-of-type) {padding-left: .5ex}\n",
       "</style><dl class=dl-inline><dt>1_GFP1_AAACCCAAGCGACATG-1</dt><dd>Neutrophils</dd><dt>1_GFP1_AAACCCAAGCTCCACG-1</dt><dd>Dendritic_cells</dd><dt>1_GFP1_AAACCCAAGGGCAATC-1</dt><dd>Neutrophils</dd><dt>1_GFP1_AAACCCAAGTTGCCTA-1</dt><dd>Neutrophils</dd><dt>1_GFP1_AAACCCACACGTGTGC-1</dt><dd>Neutrophils</dd><dt>1_GFP1_AAACCCAGTCCAAAGG-1</dt><dd>Monocytes</dd></dl>\n",
       "\n",
       "<details>\n",
       "\t<summary style=display:list-item;cursor:pointer>\n",
       "\t\t<strong>Levels</strong>:\n",
       "\t</summary>\n",
       "\t<style>\n",
       "\t.list-inline {list-style: none; margin:0; padding: 0}\n",
       "\t.list-inline>li {display: inline-block}\n",
       "\t.list-inline>li:not(:last-child)::after {content: \"\\00b7\"; padding: 0 .5ex}\n",
       "\t</style>\n",
       "\t<ol class=list-inline><li>'Neutrophils'</li><li>'Dendritic_cells'</li><li>'Monocytes'</li><li>'pro-B'</li><li>'small_pre-B.'</li><li>'NK_cells'</li><li>'B_cell'</li><li>'LMPPs'</li><li>'Eo_Baso_prog.'</li><li>'large_pre-B.'</li><li>'Mono_prog.'</li><li>'T_cells'</li><li>'Gran_Mono_prog.'</li><li>'Ery_Mk_prog.'</li><li>'Neutro_prog.'</li><li>'Erythroblasts'</li><li>'Mk_prog.'</li></ol>\n",
       "</details>"
      ],
      "text/latex": [
       "\\begin{description*}\n",
       "\\item[1\\textbackslash{}\\_GFP1\\textbackslash{}\\_AAACCCAAGCGACATG-1] Neutrophils\n",
       "\\item[1\\textbackslash{}\\_GFP1\\textbackslash{}\\_AAACCCAAGCTCCACG-1] Dendritic\\_cells\n",
       "\\item[1\\textbackslash{}\\_GFP1\\textbackslash{}\\_AAACCCAAGGGCAATC-1] Neutrophils\n",
       "\\item[1\\textbackslash{}\\_GFP1\\textbackslash{}\\_AAACCCAAGTTGCCTA-1] Neutrophils\n",
       "\\item[1\\textbackslash{}\\_GFP1\\textbackslash{}\\_AAACCCACACGTGTGC-1] Neutrophils\n",
       "\\item[1\\textbackslash{}\\_GFP1\\textbackslash{}\\_AAACCCAGTCCAAAGG-1] Monocytes\n",
       "\\end{description*}\n",
       "\n",
       "\\emph{Levels}: \\begin{enumerate*}\n",
       "\\item 'Neutrophils'\n",
       "\\item 'Dendritic\\_cells'\n",
       "\\item 'Monocytes'\n",
       "\\item 'pro-B'\n",
       "\\item 'small\\_pre-B.'\n",
       "\\item 'NK\\_cells'\n",
       "\\item 'B\\_cell'\n",
       "\\item 'LMPPs'\n",
       "\\item 'Eo\\_Baso\\_prog.'\n",
       "\\item 'large\\_pre-B.'\n",
       "\\item 'Mono\\_prog.'\n",
       "\\item 'T\\_cells'\n",
       "\\item 'Gran\\_Mono\\_prog.'\n",
       "\\item 'Ery\\_Mk\\_prog.'\n",
       "\\item 'Neutro\\_prog.'\n",
       "\\item 'Erythroblasts'\n",
       "\\item 'Mk\\_prog.'\n",
       "\\end{enumerate*}\n"
      ],
      "text/markdown": [
       "1_GFP1_AAACCCAAGCGACATG-1\n",
       ":   Neutrophils1_GFP1_AAACCCAAGCTCCACG-1\n",
       ":   Dendritic_cells1_GFP1_AAACCCAAGGGCAATC-1\n",
       ":   Neutrophils1_GFP1_AAACCCAAGTTGCCTA-1\n",
       ":   Neutrophils1_GFP1_AAACCCACACGTGTGC-1\n",
       ":   Neutrophils1_GFP1_AAACCCAGTCCAAAGG-1\n",
       ":   Monocytes\n",
       "\n",
       "\n",
       "**Levels**: 1. 'Neutrophils'\n",
       "2. 'Dendritic_cells'\n",
       "3. 'Monocytes'\n",
       "4. 'pro-B'\n",
       "5. 'small_pre-B.'\n",
       "6. 'NK_cells'\n",
       "7. 'B_cell'\n",
       "8. 'LMPPs'\n",
       "9. 'Eo_Baso_prog.'\n",
       "10. 'large_pre-B.'\n",
       "11. 'Mono_prog.'\n",
       "12. 'T_cells'\n",
       "13. 'Gran_Mono_prog.'\n",
       "14. 'Ery_Mk_prog.'\n",
       "15. 'Neutro_prog.'\n",
       "16. 'Erythroblasts'\n",
       "17. 'Mk_prog.'\n",
       "\n",
       "\n"
      ],
      "text/plain": [
       "1_GFP1_AAACCCAAGCGACATG-1 1_GFP1_AAACCCAAGCTCCACG-1 1_GFP1_AAACCCAAGGGCAATC-1 \n",
       "              Neutrophils           Dendritic_cells               Neutrophils \n",
       "1_GFP1_AAACCCAAGTTGCCTA-1 1_GFP1_AAACCCACACGTGTGC-1 1_GFP1_AAACCCAGTCCAAAGG-1 \n",
       "              Neutrophils               Neutrophils                 Monocytes \n",
       "17 Levels: Neutrophils Dendritic_cells Monocytes pro-B ... Mk_prog."
      ]
     },
     "metadata": {},
     "output_type": "display_data"
    },
    {
     "name": "stdout",
     "output_type": "stream",
     "text": [
      " [1] \"Neutrophils\"     \"Dendritic_cells\" \"Monocytes\"       \"pro-B\"          \n",
      " [5] \"small_pre-B.\"    \"NK_cells\"        \"B_cell\"          \"LMPPs\"          \n",
      " [9] \"Eo_Baso_prog.\"   \"large_pre-B.\"    \"Mono_prog.\"      \"T_cells\"        \n",
      "[13] \"Gran_Mono_prog.\" \"Ery_Mk_prog.\"    \"Neutro_prog.\"    \"Erythroblasts\"  \n",
      "[17] \"Mk_prog.\"       \n"
     ]
    },
    {
     "data": {
      "text/html": [
       "<style>\n",
       ".list-inline {list-style: none; margin:0; padding: 0}\n",
       ".list-inline>li {display: inline-block}\n",
       ".list-inline>li:not(:last-child)::after {content: \"\\00b7\"; padding: 0 .5ex}\n",
       "</style>\n",
       "<ol class=list-inline><li>32285</li><li>115388</li></ol>\n"
      ],
      "text/latex": [
       "\\begin{enumerate*}\n",
       "\\item 32285\n",
       "\\item 115388\n",
       "\\end{enumerate*}\n"
      ],
      "text/markdown": [
       "1. 32285\n",
       "2. 115388\n",
       "\n",
       "\n"
      ],
      "text/plain": [
       "[1]  32285 115388"
      ]
     },
     "metadata": {},
     "output_type": "display_data"
    },
    {
     "name": "stderr",
     "output_type": "stream",
     "text": [
      "  [[ suppressing 34 column names '1_GFP1_AAACCCAAGCGACATG-1', '1_GFP1_AAACCCAAGCTCCACG-1', '1_GFP1_AAACCCAAGGGCAATC-1' ... ]]\n",
      "\n"
     ]
    },
    {
     "data": {
      "text/plain": [
       "6 x 115388 sparse Matrix of class \"dgCMatrix\"\n",
       "                                                                           \n",
       "Xkr4    . . . . . . . . . . . . . . . . . . . . . . . . . . . . . . . . . .\n",
       "Gm1992  . . . . . . . . . . . . . . . . . . . . . . . . . . . . . . . . . .\n",
       "Gm19938 . . . . . . . . . . . . . . . . . . . . . . . . . . . . . . . . . .\n",
       "Gm37381 . . . . . . . . . . . . . . . . . . . . . . . . . . . . . . . . . .\n",
       "Rp1     . . . . . . . . . . . . . . . . . . . . . . . . . . . . . . . . . .\n",
       "Sox17   . . . . . . . . . . . . . . . . . . . . . . . . . . . . . . . . . .\n",
       "              \n",
       "Xkr4    ......\n",
       "Gm1992  ......\n",
       "Gm19938 ......\n",
       "Gm37381 ......\n",
       "Rp1     ......\n",
       "Sox17   ......\n",
       "\n",
       " .....suppressing 115354 columns in show(); maybe adjust options(max.print=, width=)\n",
       " .............................."
      ]
     },
     "metadata": {},
     "output_type": "display_data"
    }
   ],
   "source": [
    "######## SET TO WHATEVER YOUR ASSIGNMENTS ARE STORED UNDER ########\n",
    "Idents(object = adata) <- \"celltypes\"\n",
    "head(Idents(adata))\n",
    "#### OUTPUT DIRECTORY #####\n",
    "outdir = counts.dir\n",
    "\n",
    "#pull out list of all cell types, removing ignore\n",
    "unique_cell_types <- unique(adata$celltypes)\n",
    "#unique_cell_types <- unique_cell_types[-c(11)]\n",
    "print(unique_cell_types)\n",
    "\n",
    "\n",
    "sample_bcs <- list()\n",
    "for (sample in samples){\n",
    "    sample_bcs[[sample]] <- row.names(adata[[]][adata[[]]$donor == sample,])\n",
    "}\n",
    "\n",
    "##############\n",
    "#### SET TO WHATEVER ASSAY YOU WANT TO USE ######\n",
    "DefaultAssay(adata) <- 'RNA'\n",
    "gex.counts <- GetAssayData(adata, slot='counts')\n",
    "dim(gex.counts)\n",
    "head(gex.counts)\n",
    "adata_matrices <- adata"
   ]
  },
  {
   "cell_type": "code",
   "execution_count": 22,
   "id": "b9448eb2",
   "metadata": {},
   "outputs": [],
   "source": [
    "#looping through cell types by making ^ into a function\n",
    "get_per_sample_gex_SUMS <- function(cell.type, filename){\n",
    "    print(paste(cell.type,Sys.time()))\n",
    "\n",
    "    #pull out rows of gex.counts where BC Ident matches cell.type\n",
    "    bcs <- names(Idents(adata_matrices)[Idents(adata_matrices) == cell.type])\n",
    "    counts <- gex.counts[,colnames(gex.counts) %in% bcs]\n",
    "    print(dim(counts))\n",
    "\n",
    "    #initialize the matrix of sample gex\n",
    "    counts.df <- as.data.frame(rep(0,length(row.names(gex.counts))))\n",
    "    row.names(counts.df) <- row.names(gex.counts)\n",
    "    colnames(counts.df) <- c('temp')\n",
    "\n",
    "    #go through samples and calculate sum of gex values\n",
    "    for (sample in samples){\n",
    "        sample_cols <- colnames(counts) %in% sample_bcs[[sample]]\n",
    "        counts.cut <- counts[,sample_cols]\n",
    "        \n",
    "        #if only one bc, this becomes a vector which is an issue\n",
    "        if (typeof(counts.cut) == 'double'){\n",
    "            mean.counts <- counts.cut\n",
    "        #if there are NO bcs, this will return NA (just return 0 for everything)\n",
    "        } else if(length(colnames(counts.cut)) == 0){\n",
    "            mean.counts <- rep(0,length(row.names(counts)))\n",
    "        } else {\n",
    "            mean.counts <- rowSums(counts.cut)\n",
    "        }\n",
    "        counts.df <- cbind(counts.df,as.data.frame(mean.counts))\n",
    "     }\n",
    "    fin.counts.df <- counts.df[,-c(1)]\n",
    "    colnames(fin.counts.df) <- samples\n",
    "    head(fin.counts.df)\n",
    "\n",
    "    #export df\n",
    "    write.table(fin.counts.df, filename, sep='\\t',quote=FALSE)\n",
    "}"
   ]
  },
  {
   "cell_type": "code",
   "execution_count": 23,
   "id": "efadc7f1",
   "metadata": {},
   "outputs": [
    {
     "name": "stdout",
     "output_type": "stream",
     "text": [
      "[1] \"Neutrophils 2024-02-08 14:39:58.286389\"\n",
      "[1] 32285 57783\n",
      "[1] \"Dendritic_cells 2024-02-08 14:40:02.362863\"\n",
      "[1] 32285  8943\n",
      "[1] \"Monocytes 2024-02-08 14:40:04.332531\"\n",
      "[1] 32285 21987\n",
      "[1] \"pro-B 2024-02-08 14:40:07.543163\"\n",
      "[1] 32285  1974\n",
      "[1] \"small_pre-B. 2024-02-08 14:40:08.470427\"\n",
      "[1] 32285 11136\n",
      "[1] \"NK_cells 2024-02-08 14:40:09.993713\"\n",
      "[1] 32285  4511\n",
      "[1] \"B_cell 2024-02-08 14:40:11.097223\"\n",
      "[1] 32285  5948\n",
      "[1] \"LMPPs 2024-02-08 14:40:12.245268\"\n",
      "[1] 32285   848\n",
      "[1] \"Eo_Baso_prog. 2024-02-08 14:40:13.15708\"\n",
      "[1] 32285   347\n",
      "[1] \"large_pre-B. 2024-02-08 14:40:13.91938\"\n",
      "[1] 32285   696\n",
      "[1] \"Mono_prog. 2024-02-08 14:40:14.774152\"\n",
      "[1] 32285   266\n",
      "[1] \"T_cells 2024-02-08 14:40:15.592236\"\n",
      "[1] 32285   196\n",
      "[1] \"Gran_Mono_prog. 2024-02-08 14:40:16.319284\"\n",
      "[1] 32285   265\n",
      "[1] \"Ery_Mk_prog. 2024-02-08 14:40:17.154137\"\n",
      "[1] 32285    65\n",
      "[1] \"Neutro_prog. 2024-02-08 14:40:17.864556\"\n",
      "[1] 32285   350\n",
      "[1] \"Erythroblasts 2024-02-08 14:40:19.181078\"\n",
      "[1] 32285    52\n",
      "[1] \"Mk_prog. 2024-02-08 14:40:19.875028\"\n",
      "[1] 32285    21\n"
     ]
    }
   ],
   "source": [
    "##### NAME YOUR FILES #####\n",
    "for (cell.type in unique_cell_types){\n",
    "    filename <- paste(counts.dir, cell.type, '_perdonor.gex_SoupX.RNA.counts', sep = \"\")\n",
    "    get_per_sample_gex_SUMS(cell.type, filename)\n",
    "}"
   ]
  },
  {
   "cell_type": "code",
   "execution_count": 24,
   "id": "c10c577e",
   "metadata": {},
   "outputs": [],
   "source": [
    "#looping through cell types by making ^ into a function\n",
    "get_gex_SUMS <- function(cell.type, filename){\n",
    "    print(paste(cell.type,Sys.time()))\n",
    "\n",
    "    #pull out rows of gex.counts where BC Ident matches cell.type\n",
    "    bcs <- names(Idents(adata_matrices)[Idents(adata_matrices) == cell.type])\n",
    "    counts <- gex.counts[,colnames(gex.counts) %in% bcs]\n",
    "    print(dim(counts))\n",
    "\n",
    "    #grab and sum counts\n",
    "    counts.df <- as.data.frame(rep(0,length(row.names(gex.counts))))\n",
    "    row.names(counts.df) <- row.names(gex.counts)\n",
    "    colnames(counts.df) <- c('counts')\n",
    "    counts.df$counts = rowSums(counts)\n",
    "    write.table(counts.df, filename, sep='\\t',quote=FALSE)\n",
    "}"
   ]
  },
  {
   "cell_type": "code",
   "execution_count": 25,
   "id": "7282a26a",
   "metadata": {},
   "outputs": [
    {
     "name": "stdout",
     "output_type": "stream",
     "text": [
      "[1] \"Neutrophils 2024-02-08 14:40:20.679531\"\n",
      "[1] 32285 57783\n",
      "[1] \"Dendritic_cells 2024-02-08 14:40:22.670203\"\n",
      "[1] 32285  8943\n",
      "[1] \"Monocytes 2024-02-08 14:40:23.819421\"\n",
      "[1] 32285 21987\n",
      "[1] \"pro-B 2024-02-08 14:40:25.41253\"\n",
      "[1] 32285  1974\n",
      "[1] \"small_pre-B. 2024-02-08 14:40:26.207417\"\n",
      "[1] 32285 11136\n",
      "[1] \"NK_cells 2024-02-08 14:40:27.320248\"\n",
      "[1] 32285  4511\n",
      "[1] \"B_cell 2024-02-08 14:40:28.285751\"\n",
      "[1] 32285  5948\n",
      "[1] \"LMPPs 2024-02-08 14:40:29.361836\"\n",
      "[1] 32285   848\n",
      "[1] \"Eo_Baso_prog. 2024-02-08 14:40:30.316023\"\n",
      "[1] 32285   347\n",
      "[1] \"large_pre-B. 2024-02-08 14:40:31.195131\"\n",
      "[1] 32285   696\n",
      "[1] \"Mono_prog. 2024-02-08 14:40:32.011821\"\n",
      "[1] 32285   266\n",
      "[1] \"T_cells 2024-02-08 14:40:32.975955\"\n",
      "[1] 32285   196\n",
      "[1] \"Gran_Mono_prog. 2024-02-08 14:40:33.833709\"\n",
      "[1] 32285   265\n",
      "[1] \"Ery_Mk_prog. 2024-02-08 14:40:34.719872\"\n",
      "[1] 32285    65\n",
      "[1] \"Neutro_prog. 2024-02-08 14:40:35.624763\"\n",
      "[1] 32285   350\n",
      "[1] \"Erythroblasts 2024-02-08 14:40:36.535376\"\n",
      "[1] 32285    52\n",
      "[1] \"Mk_prog. 2024-02-08 14:40:37.365852\"\n",
      "[1] 32285    21\n"
     ]
    }
   ],
   "source": [
    "##### NAME YOUR FILES #####\n",
    "for (cell.type in unique_cell_types){\n",
    "    filename <- paste(counts.dir, cell.type, '_gex_SoupX.RNA.counts', sep = \"\")\n",
    "    get_gex_SUMS(cell.type, filename)\n",
    "}"
   ]
  },
  {
   "cell_type": "markdown",
   "id": "511926bf",
   "metadata": {},
   "source": [
    "# Update metadata"
   ]
  },
  {
   "cell_type": "code",
   "execution_count": 26,
   "id": "b31ddd63",
   "metadata": {},
   "outputs": [
    {
     "data": {
      "text/html": [
       "17"
      ],
      "text/latex": [
       "17"
      ],
      "text/markdown": [
       "17"
      ],
      "text/plain": [
       "[1] 17"
      ]
     },
     "metadata": {},
     "output_type": "display_data"
    },
    {
     "data": {
      "text/html": [
       "<table class=\"dataframe\">\n",
       "<caption>A data.frame: 2 × 15</caption>\n",
       "<thead>\n",
       "\t<tr><th></th><th scope=col>Neutrophils</th><th scope=col>Dendritic_cells</th><th scope=col>Monocytes</th><th scope=col>pro-B</th><th scope=col>small_pre-B.</th><th scope=col>NK_cells</th><th scope=col>B_cell</th><th scope=col>LMPPs</th><th scope=col>Eo_Baso_prog.</th><th scope=col>large_pre-B.</th><th scope=col>Mono_prog.</th><th scope=col>T_cells</th><th scope=col>Gran_Mono_prog.</th><th scope=col>Ery_Mk_prog.</th><th scope=col>donor</th></tr>\n",
       "\t<tr><th></th><th scope=col>&lt;int&gt;</th><th scope=col>&lt;int&gt;</th><th scope=col>&lt;int&gt;</th><th scope=col>&lt;int&gt;</th><th scope=col>&lt;int&gt;</th><th scope=col>&lt;int&gt;</th><th scope=col>&lt;int&gt;</th><th scope=col>&lt;int&gt;</th><th scope=col>&lt;int&gt;</th><th scope=col>&lt;int&gt;</th><th scope=col>&lt;int&gt;</th><th scope=col>&lt;int&gt;</th><th scope=col>&lt;int&gt;</th><th scope=col>&lt;int&gt;</th><th scope=col>&lt;chr&gt;</th></tr>\n",
       "</thead>\n",
       "<tbody>\n",
       "\t<tr><th scope=row>1</th><td>7800</td><td>688</td><td>1276</td><td> 93</td><td> 182</td><td>236</td><td>265</td><td> 44</td><td>18</td><td> 22</td><td> 6</td><td>14</td><td> 7</td><td> 2</td><td>1_GFP1 </td></tr>\n",
       "\t<tr><th scope=row>2</th><td>6451</td><td>474</td><td>3269</td><td>228</td><td>1355</td><td>583</td><td>713</td><td>220</td><td>96</td><td>127</td><td>77</td><td>27</td><td>68</td><td>28</td><td>10_G1C1</td></tr>\n",
       "</tbody>\n",
       "</table>\n"
      ],
      "text/latex": [
       "A data.frame: 2 × 15\n",
       "\\begin{tabular}{r|lllllllllllllll}\n",
       "  & Neutrophils & Dendritic\\_cells & Monocytes & pro-B & small\\_pre-B. & NK\\_cells & B\\_cell & LMPPs & Eo\\_Baso\\_prog. & large\\_pre-B. & Mono\\_prog. & T\\_cells & Gran\\_Mono\\_prog. & Ery\\_Mk\\_prog. & donor\\\\\n",
       "  & <int> & <int> & <int> & <int> & <int> & <int> & <int> & <int> & <int> & <int> & <int> & <int> & <int> & <int> & <chr>\\\\\n",
       "\\hline\n",
       "\t1 & 7800 & 688 & 1276 &  93 &  182 & 236 & 265 &  44 & 18 &  22 &  6 & 14 &  7 &  2 & 1\\_GFP1 \\\\\n",
       "\t2 & 6451 & 474 & 3269 & 228 & 1355 & 583 & 713 & 220 & 96 & 127 & 77 & 27 & 68 & 28 & 10\\_G1C1\\\\\n",
       "\\end{tabular}\n"
      ],
      "text/markdown": [
       "\n",
       "A data.frame: 2 × 15\n",
       "\n",
       "| <!--/--> | Neutrophils &lt;int&gt; | Dendritic_cells &lt;int&gt; | Monocytes &lt;int&gt; | pro-B &lt;int&gt; | small_pre-B. &lt;int&gt; | NK_cells &lt;int&gt; | B_cell &lt;int&gt; | LMPPs &lt;int&gt; | Eo_Baso_prog. &lt;int&gt; | large_pre-B. &lt;int&gt; | Mono_prog. &lt;int&gt; | T_cells &lt;int&gt; | Gran_Mono_prog. &lt;int&gt; | Ery_Mk_prog. &lt;int&gt; | donor &lt;chr&gt; |\n",
       "|---|---|---|---|---|---|---|---|---|---|---|---|---|---|---|---|\n",
       "| 1 | 7800 | 688 | 1276 |  93 |  182 | 236 | 265 |  44 | 18 |  22 |  6 | 14 |  7 |  2 | 1_GFP1  |\n",
       "| 2 | 6451 | 474 | 3269 | 228 | 1355 | 583 | 713 | 220 | 96 | 127 | 77 | 27 | 68 | 28 | 10_G1C1 |\n",
       "\n"
      ],
      "text/plain": [
       "  Neutrophils Dendritic_cells Monocytes pro-B small_pre-B. NK_cells B_cell\n",
       "1 7800        688             1276       93    182         236      265   \n",
       "2 6451        474             3269      228   1355         583      713   \n",
       "  LMPPs Eo_Baso_prog. large_pre-B. Mono_prog. T_cells Gran_Mono_prog.\n",
       "1  44   18             22           6         14       7             \n",
       "2 220   96            127          77         27      68             \n",
       "  Ery_Mk_prog. donor  \n",
       "1  2           1_GFP1 \n",
       "2 28           10_G1C1"
      ]
     },
     "metadata": {},
     "output_type": "display_data"
    }
   ],
   "source": [
    "#This block of code will add how many cells are in each cell-type for each sample. Can be used for filtering\n",
    "unique_cell_types <- unique(adata@meta.data$celltypes)\n",
    "length(unique_cell_types)\n",
    "\n",
    "results <- data.frame(matrix(ncol = 15, nrow = 1))\n",
    "results2 <- NULL\n",
    "results3 <- NULL\n",
    "for (x in samples){\n",
    "    test <- adata@meta.data[which(adata@meta.data$donor == x),]\n",
    "    for (y in unique_cell_types)\n",
    "        results[, y] <- nrow(test[which(test$celltypes == y),])\n",
    "        results2 <- results[,c(16:29)]\n",
    "        results2$donor <- x\n",
    "        results3 <- rbind(results3, results2)\n",
    "}\n",
    "head(results3, n = 2)"
   ]
  },
  {
   "cell_type": "code",
   "execution_count": 30,
   "id": "ae78cb8c",
   "metadata": {},
   "outputs": [
    {
     "ename": "ERROR",
     "evalue": "Error in write.table(x = results3, file = paste(assets.dir, \"metadata_celltypes.txt\", : unused argument (header = TRUE)\n",
     "output_type": "error",
     "traceback": [
      "Error in write.table(x = results3, file = paste(assets.dir, \"metadata_celltypes.txt\", : unused argument (header = TRUE)\nTraceback:\n"
     ]
    }
   ],
   "source": [
    "write.table(x = results3,\n",
    "            file = paste(assets.dir, \"metadata_celltypes.txt\", sep = \"\"), sep = \"\\t\", header = TRUE)\n"
   ]
  },
  {
   "cell_type": "code",
   "execution_count": 42,
   "id": "febe5340",
   "metadata": {},
   "outputs": [
    {
     "data": {
      "text/html": [
       "<style>\n",
       ".list-inline {list-style: none; margin:0; padding: 0}\n",
       ".list-inline>li {display: inline-block}\n",
       ".list-inline>li:not(:last-child)::after {content: \"\\00b7\"; padding: 0 .5ex}\n",
       "</style>\n",
       "<ol class=list-inline><li>'donor'</li><li>'Heart_chamber'</li><li>'condition'</li><li>'HF_status'</li><li>'Diabetes_status'</li><li>'Age'</li><li>'Sex'</li><li>'Height'</li><li>'Weight'</li><li>'BMI'</li><li>'CM'</li><li>'Fibroblast'</li><li>'Endothelial'</li><li>'Macrophage'</li><li>'T-NK'</li><li>'Pericyte'</li><li>'SM'</li><li>'Adipocyte'</li><li>'Neuronal'</li><li>'Mast'</li><li>'Lymph-Endo'</li><li>'B'</li><li>'Epicardial'</li><li>'Endocardial'</li></ol>\n"
      ],
      "text/latex": [
       "\\begin{enumerate*}\n",
       "\\item 'donor'\n",
       "\\item 'Heart\\_chamber'\n",
       "\\item 'condition'\n",
       "\\item 'HF\\_status'\n",
       "\\item 'Diabetes\\_status'\n",
       "\\item 'Age'\n",
       "\\item 'Sex'\n",
       "\\item 'Height'\n",
       "\\item 'Weight'\n",
       "\\item 'BMI'\n",
       "\\item 'CM'\n",
       "\\item 'Fibroblast'\n",
       "\\item 'Endothelial'\n",
       "\\item 'Macrophage'\n",
       "\\item 'T-NK'\n",
       "\\item 'Pericyte'\n",
       "\\item 'SM'\n",
       "\\item 'Adipocyte'\n",
       "\\item 'Neuronal'\n",
       "\\item 'Mast'\n",
       "\\item 'Lymph-Endo'\n",
       "\\item 'B'\n",
       "\\item 'Epicardial'\n",
       "\\item 'Endocardial'\n",
       "\\end{enumerate*}\n"
      ],
      "text/markdown": [
       "1. 'donor'\n",
       "2. 'Heart_chamber'\n",
       "3. 'condition'\n",
       "4. 'HF_status'\n",
       "5. 'Diabetes_status'\n",
       "6. 'Age'\n",
       "7. 'Sex'\n",
       "8. 'Height'\n",
       "9. 'Weight'\n",
       "10. 'BMI'\n",
       "11. 'CM'\n",
       "12. 'Fibroblast'\n",
       "13. 'Endothelial'\n",
       "14. 'Macrophage'\n",
       "15. 'T-NK'\n",
       "16. 'Pericyte'\n",
       "17. 'SM'\n",
       "18. 'Adipocyte'\n",
       "19. 'Neuronal'\n",
       "20. 'Mast'\n",
       "21. 'Lymph-Endo'\n",
       "22. 'B'\n",
       "23. 'Epicardial'\n",
       "24. 'Endocardial'\n",
       "\n",
       "\n"
      ],
      "text/plain": [
       " [1] \"donor\"           \"Heart_chamber\"   \"condition\"       \"HF_status\"      \n",
       " [5] \"Diabetes_status\" \"Age\"             \"Sex\"             \"Height\"         \n",
       " [9] \"Weight\"          \"BMI\"             \"CM\"              \"Fibroblast\"     \n",
       "[13] \"Endothelial\"     \"Macrophage\"      \"T-NK\"            \"Pericyte\"       \n",
       "[17] \"SM\"              \"Adipocyte\"       \"Neuronal\"        \"Mast\"           \n",
       "[21] \"Lymph-Endo\"      \"B\"               \"Epicardial\"      \"Endocardial\"    "
      ]
     },
     "metadata": {},
     "output_type": "display_data"
    }
   ],
   "source": [
    "meta2 <- merge(meta, results3, by.y='donor')\n",
    "colnames(meta2)"
   ]
  },
  {
   "cell_type": "code",
   "execution_count": 43,
   "id": "0396f0b0",
   "metadata": {},
   "outputs": [],
   "source": [
    "#For continuous covariates, best to scale for model fitting\n",
    "meta2$Height.scaled <- scale(meta2$Height)\n",
    "meta2$Weight.scaled <- scale(meta2$Weight)\n",
    "meta2$BMI.scaled <- scale(meta2$BMI)\n",
    "meta2$Age.scaled <- scale(meta2$Age)"
   ]
  },
  {
   "cell_type": "code",
   "execution_count": 44,
   "id": "bb668944",
   "metadata": {},
   "outputs": [],
   "source": [
    "filename = paste(assets.dir, \"multiome_metadata_V2_cellnumbers.txt\", sep = \"\")\n",
    "write.table(meta2, filename, sep='\\t', quote=FALSE, col.names = TRUE)"
   ]
  },
  {
   "cell_type": "code",
   "execution_count": null,
   "id": "b3d92c94",
   "metadata": {},
   "outputs": [],
   "source": []
  }
 ],
 "metadata": {
  "kernelspec": {
   "display_name": "R",
   "language": "R",
   "name": "ir"
  },
  "language_info": {
   "codemirror_mode": "r",
   "file_extension": ".r",
   "mimetype": "text/x-r-source",
   "name": "R",
   "pygments_lexer": "r",
   "version": "4.3.2"
  },
  "toc": {
   "base_numbering": 1,
   "nav_menu": {},
   "number_sections": true,
   "sideBar": true,
   "skip_h1_title": false,
   "title_cell": "Table of Contents",
   "title_sidebar": "Contents",
   "toc_cell": false,
   "toc_position": {
    "height": "calc(100% - 180px)",
    "left": "10px",
    "top": "150px",
    "width": "196.390625px"
   },
   "toc_section_display": true,
   "toc_window_display": true
  }
 },
 "nbformat": 4,
 "nbformat_minor": 5
}
