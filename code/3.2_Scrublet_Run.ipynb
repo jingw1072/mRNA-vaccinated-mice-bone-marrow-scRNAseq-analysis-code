{
 "cells": [
  {
   "cell_type": "markdown",
   "id": "9ee08b0e",
   "metadata": {},
   "source": [
    "# Settings"
   ]
  },
  {
   "cell_type": "markdown",
   "id": "51e01990",
   "metadata": {},
   "source": [
    "Installed scrublet by running `pip install scrublet --user` in the terminal (not sudo)."
   ]
  },
  {
   "cell_type": "code",
   "execution_count": 1,
   "id": "17b4f206",
   "metadata": {},
   "outputs": [],
   "source": [
    "import pandas\n",
    "import os\n",
    "import sys\n",
    "import gc\n",
    "import subprocess\n",
    "import concurrent.futures\n",
    "from multiprocessing import Pool\n",
    "from datetime import date\n",
    "import scrublet as scr\n",
    "import scipy.io\n",
    "import matplotlib.pyplot as plt\n",
    "import numpy as np"
   ]
  },
  {
   "cell_type": "code",
   "execution_count": 2,
   "id": "c10fa9de",
   "metadata": {},
   "outputs": [],
   "source": [
    "# Visual variables\n",
    "plt.rcParams['font.family'] = 'sans-serif'\n",
    "plt.rcParams['font.sans-serif'] = 'Arial'\n",
    "plt.rc('font', size=14)\n",
    "plt.rcParams['pdf.fonttype'] = 42"
   ]
  },
  {
   "cell_type": "code",
   "execution_count": 3,
   "id": "49d0d0c2",
   "metadata": {},
   "outputs": [],
   "source": [
    "gc.enable()"
   ]
  },
  {
   "cell_type": "code",
   "execution_count": 4,
   "id": "1d211006",
   "metadata": {},
   "outputs": [],
   "source": [
    "# Setup variables\n",
    "base_dir = \"/nfs/lab/projects/COVID_mouse/\"\n",
    "cellranger_dir = base_dir + \"cell.ranger/\"\n",
    "step1_dir = base_dir + \"seurat/1_pre.processing/\"\n",
    "step3_dir = base_dir + \"seurat/3_scrublet/\"\n"
   ]
  },
  {
   "cell_type": "code",
   "execution_count": 5,
   "id": "6100b501",
   "metadata": {},
   "outputs": [
    {
     "name": "stdout",
     "output_type": "stream",
     "text": [
      "['5_RBD2', '10_G1C1', '4_RBD1', '8_G1B2', '12_G1C3', '7_G1B1', '3_GFP3', '2_GFP2', '11_G1C2', '9_G1B3', '1_GFP1', '6_RBD3']\n",
      "['5_RBD2', '10_G1C1', '4_RBD1', '8_G1B2', '12_G1C3', '7_G1B1', '3_GFP3', '2_GFP2', '11_G1C2', '9_G1B3', '1_GFP1', '6_RBD3']\n"
     ]
    }
   ],
   "source": [
    "# Grab samples\n",
    "os.chdir(cellranger_dir)\n",
    "sample_ls = os.listdir()\n",
    "sample_ID_ls = [s.replace(\"_1_2\", \"\") for s in sample_ls]\n",
    "sample_ID_ls = [s.replace(\"_JB_\", \"_\") for s in sample_ID_ls]\n",
    "sample_ID_ls = [s.replace(\"_MM_\", \"_\") for s in sample_ID_ls]\n",
    "sample_ID_ls = [s.replace(\"_QY_\", \"_\") for s in sample_ID_ls]\n",
    "print(sample_ls)\n",
    "print(sample_ID_ls)"
   ]
  },
  {
   "cell_type": "code",
   "execution_count": 6,
   "id": "ec87599c",
   "metadata": {},
   "outputs": [],
   "source": [
    "def run_scrublet(i):\n",
    "    gc.collect()\n",
    "    # Set sample variable\n",
    "    sample = sample_ls[i]\n",
    "    sample_ID = sample_ID_ls[i]\n",
    "    print(\"Workin on: \" + sample_ID)\n",
    "    # Load data\n",
    "    counts_matrix = scipy.io.mmread(step3_dir + sample_ID + '_matrix.mtx').T.tocsc()\n",
    "    genes = np.array(scr.load_genes(step3_dir + sample_ID + '_genes.tsv', delimiter='\\t', column=0))\n",
    "\n",
    "    scrub = scr.Scrublet(counts_matrix, expected_doublet_rate=0.06)\n",
    "    doublet_scores, predicted_doublets = scrub.scrub_doublets(min_counts=2, \n",
    "                                                                  min_cells=3, \n",
    "                                                                  min_gene_variability_pctl=85, \n",
    "                                                                  n_prin_comps=30)\n",
    "\n",
    "    # Get automatic threshold\n",
    "    auto_threshold = scrub.threshold_\n",
    "\n",
    "    # Save the automatic threshold to file\n",
    "    with open(step3_dir + sample_ID + '_auto_threshold.txt', 'w') as f:\n",
    "        f.write(str(auto_threshold))\n",
    "\n",
    "    # Pull out predicted doublets from Scrublet\n",
    "    predicted_doublets = scrub.call_doublets() \n",
    "\n",
    "    # Write out results to a new file\n",
    "    barcodes_fp = step3_dir + sample_ID + '_barcodes.tsv'\n",
    "    with open(barcodes_fp, 'r') as f:\n",
    "        with open(step3_dir + sample_ID + '_scrublet_predicted_doublets.txt', 'w') as o:\n",
    "            counter=0\n",
    "            for line in f:\n",
    "                o.write('\\t'.join((line.strip(), str(predicted_doublets[counter]), str(doublet_scores[counter]), '\\n')))\n",
    "                counter+=1\n",
    "\n",
    "    # Delete object and continue loop\n",
    "    del scrub"
   ]
  },
  {
   "cell_type": "code",
   "execution_count": 7,
   "id": "06c9824d",
   "metadata": {},
   "outputs": [
    {
     "name": "stdout",
     "output_type": "stream",
     "text": [
      "Workin on: 5_RBD2\n",
      "Preprocessing...\n",
      "Simulating doublets...\n",
      "Embedding transcriptomes using PCA...\n",
      "Calculating doublet scores...\n",
      "Automatically set threshold at doublet score = 0.24\n",
      "Detected doublet rate = 3.5%\n",
      "Estimated detectable doublet fraction = 56.4%\n",
      "Overall doublet rate:\n",
      "\tExpected   = 6.0%\n",
      "\tEstimated  = 6.2%\n",
      "Elapsed time: 26.0 seconds\n",
      "Automatically set threshold at doublet score = 0.24\n",
      "Detected doublet rate = 3.5%\n",
      "Estimated detectable doublet fraction = 56.4%\n",
      "Overall doublet rate:\n",
      "\tExpected   = 6.0%\n",
      "\tEstimated  = 6.2%\n",
      "Workin on: 10_G1C1\n",
      "Preprocessing...\n",
      "Simulating doublets...\n",
      "Embedding transcriptomes using PCA...\n",
      "Calculating doublet scores...\n",
      "Automatically set threshold at doublet score = 0.28\n",
      "Detected doublet rate = 2.0%\n",
      "Estimated detectable doublet fraction = 48.8%\n",
      "Overall doublet rate:\n",
      "\tExpected   = 6.0%\n",
      "\tEstimated  = 4.1%\n",
      "Elapsed time: 23.8 seconds\n",
      "Automatically set threshold at doublet score = 0.28\n",
      "Detected doublet rate = 2.0%\n",
      "Estimated detectable doublet fraction = 48.8%\n",
      "Overall doublet rate:\n",
      "\tExpected   = 6.0%\n",
      "\tEstimated  = 4.1%\n",
      "Workin on: 4_RBD1\n",
      "Preprocessing...\n",
      "Simulating doublets...\n",
      "Embedding transcriptomes using PCA...\n",
      "Calculating doublet scores...\n",
      "Automatically set threshold at doublet score = 0.27\n",
      "Detected doublet rate = 3.1%\n",
      "Estimated detectable doublet fraction = 53.2%\n",
      "Overall doublet rate:\n",
      "\tExpected   = 6.0%\n",
      "\tEstimated  = 5.8%\n",
      "Elapsed time: 20.6 seconds\n",
      "Automatically set threshold at doublet score = 0.27\n",
      "Detected doublet rate = 3.1%\n",
      "Estimated detectable doublet fraction = 53.2%\n",
      "Overall doublet rate:\n",
      "\tExpected   = 6.0%\n",
      "\tEstimated  = 5.8%\n",
      "Workin on: 8_G1B2\n",
      "Preprocessing...\n",
      "Simulating doublets...\n",
      "Embedding transcriptomes using PCA...\n",
      "Calculating doublet scores...\n",
      "Automatically set threshold at doublet score = 0.27\n",
      "Detected doublet rate = 2.5%\n",
      "Estimated detectable doublet fraction = 45.9%\n",
      "Overall doublet rate:\n",
      "\tExpected   = 6.0%\n",
      "\tEstimated  = 5.5%\n",
      "Elapsed time: 22.4 seconds\n",
      "Automatically set threshold at doublet score = 0.27\n",
      "Detected doublet rate = 2.5%\n",
      "Estimated detectable doublet fraction = 45.9%\n",
      "Overall doublet rate:\n",
      "\tExpected   = 6.0%\n",
      "\tEstimated  = 5.5%\n",
      "Workin on: 12_G1C3\n",
      "Preprocessing...\n",
      "Simulating doublets...\n",
      "Embedding transcriptomes using PCA...\n",
      "Calculating doublet scores...\n",
      "Automatically set threshold at doublet score = 0.24\n",
      "Detected doublet rate = 3.2%\n",
      "Estimated detectable doublet fraction = 52.9%\n",
      "Overall doublet rate:\n",
      "\tExpected   = 6.0%\n",
      "\tEstimated  = 6.1%\n",
      "Elapsed time: 23.3 seconds\n",
      "Automatically set threshold at doublet score = 0.24\n",
      "Detected doublet rate = 3.2%\n",
      "Estimated detectable doublet fraction = 52.9%\n",
      "Overall doublet rate:\n",
      "\tExpected   = 6.0%\n",
      "\tEstimated  = 6.1%\n",
      "Workin on: 7_G1B1\n",
      "Preprocessing...\n",
      "Simulating doublets...\n",
      "Embedding transcriptomes using PCA...\n",
      "Calculating doublet scores...\n",
      "Automatically set threshold at doublet score = 0.25\n",
      "Detected doublet rate = 3.0%\n",
      "Estimated detectable doublet fraction = 50.5%\n",
      "Overall doublet rate:\n",
      "\tExpected   = 6.0%\n",
      "\tEstimated  = 5.9%\n",
      "Elapsed time: 28.4 seconds\n",
      "Automatically set threshold at doublet score = 0.25\n",
      "Detected doublet rate = 3.0%\n",
      "Estimated detectable doublet fraction = 50.5%\n",
      "Overall doublet rate:\n",
      "\tExpected   = 6.0%\n",
      "\tEstimated  = 5.9%\n",
      "Workin on: 3_GFP3\n",
      "Preprocessing...\n",
      "Simulating doublets...\n",
      "Embedding transcriptomes using PCA...\n",
      "Calculating doublet scores...\n",
      "Automatically set threshold at doublet score = 0.58\n",
      "Detected doublet rate = 0.2%\n",
      "Estimated detectable doublet fraction = 20.5%\n",
      "Overall doublet rate:\n",
      "\tExpected   = 6.0%\n",
      "\tEstimated  = 1.1%\n",
      "Elapsed time: 45.2 seconds\n",
      "Automatically set threshold at doublet score = 0.58\n",
      "Detected doublet rate = 0.2%\n",
      "Estimated detectable doublet fraction = 20.5%\n",
      "Overall doublet rate:\n",
      "\tExpected   = 6.0%\n",
      "\tEstimated  = 1.1%\n",
      "Workin on: 2_GFP2\n",
      "Preprocessing...\n",
      "Simulating doublets...\n",
      "Embedding transcriptomes using PCA...\n",
      "Calculating doublet scores...\n",
      "Automatically set threshold at doublet score = 0.27\n",
      "Detected doublet rate = 2.8%\n",
      "Estimated detectable doublet fraction = 48.2%\n",
      "Overall doublet rate:\n",
      "\tExpected   = 6.0%\n",
      "\tEstimated  = 5.7%\n",
      "Elapsed time: 20.6 seconds\n",
      "Automatically set threshold at doublet score = 0.27\n",
      "Detected doublet rate = 2.8%\n",
      "Estimated detectable doublet fraction = 48.2%\n",
      "Overall doublet rate:\n",
      "\tExpected   = 6.0%\n",
      "\tEstimated  = 5.7%\n",
      "Workin on: 11_G1C2\n",
      "Preprocessing...\n",
      "Simulating doublets...\n",
      "Embedding transcriptomes using PCA...\n",
      "Calculating doublet scores...\n",
      "Automatically set threshold at doublet score = 0.27\n",
      "Detected doublet rate = 2.9%\n",
      "Estimated detectable doublet fraction = 47.5%\n",
      "Overall doublet rate:\n",
      "\tExpected   = 6.0%\n",
      "\tEstimated  = 6.0%\n",
      "Elapsed time: 24.9 seconds\n",
      "Automatically set threshold at doublet score = 0.27\n",
      "Detected doublet rate = 2.9%\n",
      "Estimated detectable doublet fraction = 47.5%\n",
      "Overall doublet rate:\n",
      "\tExpected   = 6.0%\n",
      "\tEstimated  = 6.0%\n",
      "Workin on: 9_G1B3\n",
      "Preprocessing...\n",
      "Simulating doublets...\n",
      "Embedding transcriptomes using PCA...\n",
      "Calculating doublet scores...\n",
      "Automatically set threshold at doublet score = 0.27\n",
      "Detected doublet rate = 2.3%\n",
      "Estimated detectable doublet fraction = 49.8%\n",
      "Overall doublet rate:\n",
      "\tExpected   = 6.0%\n",
      "\tEstimated  = 4.7%\n",
      "Elapsed time: 19.3 seconds\n",
      "Automatically set threshold at doublet score = 0.27\n",
      "Detected doublet rate = 2.3%\n",
      "Estimated detectable doublet fraction = 49.8%\n",
      "Overall doublet rate:\n",
      "\tExpected   = 6.0%\n",
      "\tEstimated  = 4.7%\n",
      "Workin on: 1_GFP1\n",
      "Preprocessing...\n",
      "Simulating doublets...\n",
      "Embedding transcriptomes using PCA...\n",
      "Calculating doublet scores...\n",
      "Automatically set threshold at doublet score = 0.26\n",
      "Detected doublet rate = 3.4%\n",
      "Estimated detectable doublet fraction = 42.7%\n",
      "Overall doublet rate:\n",
      "\tExpected   = 6.0%\n",
      "\tEstimated  = 8.1%\n",
      "Elapsed time: 17.1 seconds\n",
      "Automatically set threshold at doublet score = 0.26\n",
      "Detected doublet rate = 3.4%\n",
      "Estimated detectable doublet fraction = 42.7%\n",
      "Overall doublet rate:\n",
      "\tExpected   = 6.0%\n",
      "\tEstimated  = 8.1%\n",
      "Workin on: 6_RBD3\n",
      "Preprocessing...\n",
      "Simulating doublets...\n",
      "Embedding transcriptomes using PCA...\n",
      "Calculating doublet scores...\n",
      "Automatically set threshold at doublet score = 0.31\n",
      "Detected doublet rate = 1.9%\n",
      "Estimated detectable doublet fraction = 45.1%\n",
      "Overall doublet rate:\n",
      "\tExpected   = 6.0%\n",
      "\tEstimated  = 4.1%\n",
      "Elapsed time: 12.7 seconds\n",
      "Automatically set threshold at doublet score = 0.31\n",
      "Detected doublet rate = 1.9%\n",
      "Estimated detectable doublet fraction = 45.1%\n",
      "Overall doublet rate:\n",
      "\tExpected   = 6.0%\n",
      "\tEstimated  = 4.1%\n"
     ]
    }
   ],
   "source": [
    "num_cores = 1 # set the number of cores to use here\n",
    "\n",
    "with Pool(processes=num_cores) as pool:\n",
    "    pool.map(run_scrublet, range(len(sample_ls)))"
   ]
  },
  {
   "cell_type": "markdown",
   "id": "96f55859",
   "metadata": {},
   "source": [
    "# Adjust thresholding when needed"
   ]
  },
  {
   "cell_type": "code",
   "execution_count": 10,
   "id": "f58ef056",
   "metadata": {},
   "outputs": [
    {
     "data": {
      "text/plain": [
       "['5_RBD2',\n",
       " '10_G1C1',\n",
       " '4_RBD1',\n",
       " '8_G1B2',\n",
       " '12_G1C3',\n",
       " '7_G1B1',\n",
       " '3_GFP3',\n",
       " '2_GFP2',\n",
       " '11_G1C2',\n",
       " '9_G1B3',\n",
       " '1_GFP1',\n",
       " '6_RBD3']"
      ]
     },
     "execution_count": 10,
     "metadata": {},
     "output_type": "execute_result"
    }
   ],
   "source": [
    "sample_ls"
   ]
  },
  {
   "cell_type": "code",
   "execution_count": 11,
   "id": "388acddc",
   "metadata": {},
   "outputs": [],
   "source": [
    "# Samples I don't like: 3_GFP3 6_RBD3 "
   ]
  },
  {
   "cell_type": "code",
   "execution_count": 24,
   "id": "b3a545a5",
   "metadata": {},
   "outputs": [
    {
     "name": "stdout",
     "output_type": "stream",
     "text": [
      "Workin on: 6_RBD3\n",
      "Preprocessing...\n",
      "Simulating doublets...\n",
      "Embedding transcriptomes using PCA...\n",
      "Calculating doublet scores...\n",
      "Automatically set threshold at doublet score = 0.31\n",
      "Detected doublet rate = 1.9%\n",
      "Estimated detectable doublet fraction = 45.1%\n",
      "Overall doublet rate:\n",
      "\tExpected   = 6.0%\n",
      "\tEstimated  = 4.1%\n",
      "Elapsed time: 14.2 seconds\n"
     ]
    },
    {
     "data": {
      "image/png": "[encoded data removed]",
      "text/plain": [
       "<Figure size 576x216 with 2 Axes>"
      ]
     },
     "metadata": {
      "needs_background": "light"
     },
     "output_type": "display_data"
    },
    {
     "data": {
      "image/png": "[encoded data removed]",
      "text/plain": [
       "<Figure size 576x288 with 3 Axes>"
      ]
     },
     "metadata": {
      "needs_background": "light"
     },
     "output_type": "display_data"
    },
    {
     "data": {
      "image/png": "[encoded data removed]",
      "text/plain": [
       "<Figure size 576x216 with 2 Axes>"
      ]
     },
     "metadata": {
      "needs_background": "light"
     },
     "output_type": "display_data"
    }
   ],
   "source": [
    "gc.collect()\n",
    "# Set sample variable\n",
    "sample_ID = \"6_RBD3\"\n",
    "print(\"Workin on: \" + sample_ID)\n",
    "# Load data\n",
    "counts_matrix = scipy.io.mmread(step3_dir + sample_ID + '_matrix.mtx').T.tocsc()\n",
    "genes = np.array(scr.load_genes(step3_dir + sample_ID + '_genes.tsv', delimiter='\\t', column=0))\n",
    "\n",
    "scrub = scr.Scrublet(counts_matrix, expected_doublet_rate=0.06)\n",
    "doublet_scores, predicted_doublets = scrub.scrub_doublets(min_counts=2, \n",
    "                                                                min_cells=3, \n",
    "                                                                min_gene_variability_pctl=85, \n",
    "                                                             n_prin_comps=30)\n",
    "scrub.plot_histogram() \n",
    "scrub.set_embedding('UMAP', scr.get_umap(scrub.manifold_obs_, 10, min_dist=0.3))\n",
    "scrub.plot_embedding('UMAP', order_points=True);\n",
    "\n",
    "# Plot doublets distribution\n",
    "scrub.plot_histogram()\n",
    "plt.savefig(step3_dir + sample_ID + '_scrub.plot.png')"
   ]
  },
  {
   "cell_type": "code",
   "execution_count": null,
   "id": "7c4428d4",
   "metadata": {},
   "outputs": [
    {
     "name": "stdout",
     "output_type": "stream",
     "text": [
      "Fine-tuning: 6_RBD3\n",
      "Detected doublet rate = 2.1%\n",
      "Estimated detectable doublet fraction = 49.5%\n",
      "Overall doublet rate:\n",
      "\tExpected   = 6.0%\n",
      "\tEstimated  = 4.3%\n"
     ]
    }
   ],
   "source": [
    "print(\"Fine-tuning: \" + sample_ID)\n",
    "thresh = 0.25\n",
    "# Set manual treshold here, trying to split the 2 populations\n",
    "# Pull out predicted doublets from Scrublet\n",
    "predicted_doublets = scrub.call_doublets(threshold=thresh) \n",
    "scrub.plot_histogram()\n",
    "\n",
    "# Get automatic threshold\n",
    "auto_threshold = scrub.threshold_\n",
    "\n",
    "# Plot doublets distribution\n",
    "scrub.plot_histogram()\n",
    "plt.savefig(step3_dir + sample_ID + '_scrub.plot.png')\n",
    "\n",
    "# Check where doublets fall\n",
    "scrub.set_embedding('UMAP', scr.get_umap(scrub.manifold_obs_, 10, min_dist=0.3))\n",
    "scrub.plot_embedding('UMAP', order_points=True);\n",
    "\n",
    "# overwrite the automatic threshold to file\n",
    "with open(step3_dir + sample_ID + '_auto_threshold.txt', 'w') as f:\n",
    "    f.write(str(auto_threshold))\n",
    "    \n",
    "# Write out results to a new file\n",
    "barcodes_fp = step3_dir + sample_ID + '_barcodes.tsv'\n",
    "with open(barcodes_fp, 'r') as f:\n",
    "    with open(step3_dir + sample_ID + '_scrublet_predicted_doublets.txt', 'w') as o:\n",
    "        counter=0\n",
    "        for line in f:\n",
    "            o.write('\\t'.join((line.strip(), str(predicted_doublets[counter]), str(doublet_scores[counter]), '\\n')))\n",
    "            counter+=1\n",
    "# Detected doublet rate reports how many doublets"
   ]
  },
  {
   "cell_type": "code",
   "execution_count": null,
   "id": "dc182056",
   "metadata": {},
   "outputs": [],
   "source": []
  }
 ],
 "metadata": {
  "kernelspec": {
   "display_name": "Python 3 (ipykernel)",
   "language": "python",
   "name": "python3"
  },
  "language_info": {
   "codemirror_mode": {
    "name": "ipython",
    "version": 3
   },
   "file_extension": ".py",
   "mimetype": "text/x-python",
   "name": "python",
   "nbconvert_exporter": "python",
   "pygments_lexer": "ipython3",
   "version": "3.12.0"
  },
  "toc": {
   "base_numbering": 1,
   "nav_menu": {},
   "number_sections": true,
   "sideBar": true,
   "skip_h1_title": false,
   "title_cell": "Table of Contents",
   "title_sidebar": "Contents",
   "toc_cell": false,
   "toc_position": {},
   "toc_section_display": true,
   "toc_window_display": false
  }
 },
 "nbformat": 4,
 "nbformat_minor": 5
}
