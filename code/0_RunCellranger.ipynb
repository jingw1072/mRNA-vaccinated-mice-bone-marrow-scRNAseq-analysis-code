{
 "cells": [
  {
   "cell_type": "code",
   "execution_count": 10,
   "id": "9dd9b7f2",
   "metadata": {},
   "outputs": [],
   "source": [
    "# Load packages\n",
    "pacman::p_load(dplyr, stringr, data.table, tidyr, data.table, Matrix,\n",
    "               hdf5r, Seurat, Signac,harmony, knitr, SoupX,\n",
    "               logr, parallel, future,\n",
    "               ggplot2, ggpubr, ggrepel, ggbreak, gridExtra, grid, ggh4x)"
   ]
  },
  {
   "cell_type": "code",
   "execution_count": 11,
   "id": "121b6478",
   "metadata": {},
   "outputs": [],
   "source": [
    "## Download references\n",
    "# https://support.10xgenomics.com/single-cell-gene-expression/software/downloads/"
   ]
  },
  {
   "cell_type": "code",
   "execution_count": 16,
   "id": "6d2334dd",
   "metadata": {},
   "outputs": [],
   "source": [
    "fastq.dir = \"/nfs/lab/projects/COVID_mouse/raw_data/230616_A01535_0344_BH7LF2DSX7_2/\"\n",
    "cellranger.dir = \"/nfs/lab/projects/COVID_mouse/cell.ranger\""
   ]
  },
  {
   "cell_type": "code",
   "execution_count": 13,
   "id": "a2fbd396",
   "metadata": {},
   "outputs": [],
   "source": [
    "sample = c(\"10_G1C-1\", \"11_G1C-2\", \"12_G1C-3\",\n",
    "           \"1_GFP1\", \"2_GFP2\", \"3_GFP3\",\n",
    "           \"4_RBD1\", \"5_RBD2\", \"6_RBD3\",\n",
    "           \"7_G1B-1\", \"8_G1B-2\", \"9_G1B-3\")"
   ]
  },
  {
   "cell_type": "code",
   "execution_count": 15,
   "id": "9930bd76",
   "metadata": {},
   "outputs": [
    {
     "name": "stdout",
     "output_type": "stream",
     "text": [
      "10_G1C-1 11_G1C-2 12_G1C-3 1_GFP1 2_GFP2 3_GFP3 4_RBD1 5_RBD2 6_RBD3 7_G1B-1 8_G1B-2 9_G1B-3"
     ]
    },
    {
     "data": {
      "text/html": [
       "'/nfs/lab/projects/COVID_mouse/raw_data/230616_A01535_0344_BH7LF2DSX7_2/FASTQ'"
      ],
      "text/latex": [
       "'/nfs/lab/projects/COVID\\_mouse/raw\\_data/230616\\_A01535\\_0344\\_BH7LF2DSX7\\_2/FASTQ'"
      ],
      "text/markdown": [
       "'/nfs/lab/projects/COVID_mouse/raw_data/230616_A01535_0344_BH7LF2DSX7_2/FASTQ'"
      ],
      "text/plain": [
       "[1] \"/nfs/lab/projects/COVID_mouse/raw_data/230616_A01535_0344_BH7LF2DSX7_2/FASTQ\""
      ]
     },
     "metadata": {},
     "output_type": "display_data"
    }
   ],
   "source": [
    "# Replace the sample list\n",
    "cat(sample)\n",
    "# Replace the directory\n",
    "fastq.dir"
   ]
  },
  {
   "cell_type": "code",
   "execution_count": null,
   "id": "603725ee",
   "metadata": {},
   "outputs": [],
   "source": [
    "# Move to cellranger dir and past this on screen:"
   ]
  },
  {
   "cell_type": "raw",
   "id": "cf8b336e",
   "metadata": {},
   "source": [
    "for SAMPLE in 10_G1C-1 11_G1C-2 12_G1C-3 1_GFP1 2_GFP2 3_GFP3 4_RBD1 5_RBD2 6_RBD3 7_G1B-1 8_G1B-2 9_G1B-3; \n",
    "do /nfs/lab/elisha/scripts/cellranger-6.0.1/cellranger count --id ${SAMPLE} --fastqs /nfs/lab/projects/COVID_mouse/raw_data/230616_A01535_0344_BH7LF2DSX7_2/  --sample ${SAMPLE} --transcriptome /nfs/lab/Luca/Assets/references/Cellranger/mm10/refdata-gex-mm10-2020-A/  --localcores 24 --localmem 150 --disable-ui;\n",
    "done"
   ]
  },
  {
   "cell_type": "code",
   "execution_count": 9,
   "id": "6e25f996",
   "metadata": {},
   "outputs": [],
   "source": [
    "# I manually changed the names of the folders to not have the \"-1\" thing.\n",
    "# Here new names"
   ]
  },
  {
   "cell_type": "code",
   "execution_count": null,
   "id": "7c0a1eea",
   "metadata": {},
   "outputs": [],
   "source": [
    "sample = c(\"10_G1C1\", \"11_G1C2\", \"12_G1C3\",\n",
    "           \"1_GFP1\", \"2_GFP2\", \"3_GFP3\",\n",
    "           \"4_RBD1\", \"5_RBD2\", \"6_RBD3\",\n",
    "           \"7_G1B1\", \"8_G1B2\", \"9_G1B3\")"
   ]
  }
 ],
 "metadata": {
  "kernelspec": {
   "display_name": "R",
   "language": "R",
   "name": "ir"
  },
  "language_info": {
   "codemirror_mode": "r",
   "file_extension": ".r",
   "mimetype": "text/x-r-source",
   "name": "R",
   "pygments_lexer": "r",
   "version": "4.3.2"
  },
  "toc": {
   "base_numbering": 1,
   "nav_menu": {},
   "number_sections": true,
   "sideBar": true,
   "skip_h1_title": false,
   "title_cell": "Table of Contents",
   "title_sidebar": "Contents",
   "toc_cell": false,
   "toc_position": {},
   "toc_section_display": true,
   "toc_window_display": false
  }
 },
 "nbformat": 4,
 "nbformat_minor": 5
}
