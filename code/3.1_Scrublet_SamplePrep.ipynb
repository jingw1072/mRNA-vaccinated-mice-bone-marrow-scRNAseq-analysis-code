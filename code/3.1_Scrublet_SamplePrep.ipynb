{
 "cells": [
  {
   "cell_type": "markdown",
   "id": "3aed3e1e",
   "metadata": {},
   "source": [
    "# Settings"
   ]
  },
  {
   "cell_type": "code",
   "execution_count": 1,
   "id": "bec61104",
   "metadata": {},
   "outputs": [
    {
     "data": {
      "text/html": [
       "TRUE"
      ],
      "text/latex": [
       "TRUE"
      ],
      "text/markdown": [
       "TRUE"
      ],
      "text/plain": [
       "[1] TRUE"
      ]
     },
     "metadata": {},
     "output_type": "display_data"
    },
    {
     "data": {
      "text/plain": [
       "Module(anndata)"
      ]
     },
     "metadata": {},
     "output_type": "display_data"
    },
    {
     "data": {
      "text/html": [
       "TRUE"
      ],
      "text/latex": [
       "TRUE"
      ],
      "text/markdown": [
       "TRUE"
      ],
      "text/plain": [
       "[1] TRUE"
      ]
     },
     "metadata": {},
     "output_type": "display_data"
    },
    {
     "data": {
      "text/plain": [
       "Module(leidenalg)"
      ]
     },
     "metadata": {},
     "output_type": "display_data"
    }
   ],
   "source": [
    "# Load Reticulate function\n",
    "Sys.setenv(RETICULATE_PYTHON=\"/home/luca/anaconda3/envs/reticulate/bin/python\")\n",
    "library(reticulate)\n",
    "reticulate::use_python(\"/home/luca/anaconda3/envs/reticulate/bin/python\")\n",
    "reticulate::use_condaenv(\"/home/luca/anaconda3/envs/reticulate\")\n",
    "reticulate::py_module_available(module='anndata') #needs to be TRUE\n",
    "reticulate::import('anndata') #good to make sure this doesn't error\n",
    "reticulate::py_module_available(module='leidenalg') #needs to be TRUE\n",
    "reticulate::import('leidenalg') #good to make sure this doesn't error"
   ]
  },
  {
   "cell_type": "code",
   "execution_count": 2,
   "id": "e121152f",
   "metadata": {},
   "outputs": [],
   "source": [
    "## Patch for annotations in R4.1\n",
    "# BiocManager::install(\"Bioconductor/GenomeInfoDb\",lib = \"/home/luca/R/x86_64-pc-linux-gnu-library/4.1\",force = TRUE)\n",
    "# library(GenomeInfoDb,lib.loc=\"/home/luca/R/x86_64-pc-linux-gnu-library/4.1\")"
   ]
  },
  {
   "cell_type": "code",
   "execution_count": 3,
   "id": "2c1d86c4",
   "metadata": {},
   "outputs": [],
   "source": [
    "# Load packages\n",
    "pacman::p_load(dplyr, stringr, data.table, tidyr, data.table, Matrix,\n",
    "               hdf5r, Seurat, Signac,harmony, knitr, SoupX,\n",
    "               logr, parallel, \n",
    "               ggplot2, ggpubr, ggrepel, ggbreak, gridExtra)"
   ]
  },
  {
   "cell_type": "code",
   "execution_count": 4,
   "id": "57f146f0",
   "metadata": {},
   "outputs": [],
   "source": [
    "# Set directories\n",
    "fastq.dir = \"/nfs/lab/projects/COVID_mouse/raw_data/230616_A01535_0344_BH7LF2DSX7_2/\"\n",
    "base.dir = \"/nfs/lab/projects/COVID_mouse/\"\n",
    "assets.dir = \"/nfs/lab/projects/COVID_mouse/assets/\"\n",
    "cell.ranger.dir = paste(base.dir, \"cell.ranger/\", sep = \"\")\n",
    "seurat.dir = paste(base.dir, \"seurat/\", sep = \"\")\n",
    "step1.dir = paste(seurat.dir, \"1_pre.processing/\", sep = \"\")\n",
    "step2.dir = paste(seurat.dir, \"2_SoupX/\", sep = \"\")\n",
    "step3.dir = paste(seurat.dir, \"3_scrublet/\", sep = \"\")"
   ]
  },
  {
   "cell_type": "code",
   "execution_count": 5,
   "id": "ca85bdf7",
   "metadata": {},
   "outputs": [],
   "source": [
    "# start log\n",
    "options(\"logr.on\" = TRUE, \"logr.notes\" = TRUE)\n",
    "options(\"logr.autolog\" = TRUE)\n",
    "options(\"logr.compact\" = TRUE)\n",
    "options(\"logr.traceback\" = TRUE)\n",
    "log.file = paste(base.dir, Sys.Date(),\".03_Scrublet_SamplePrep.log\", sep=\"\")"
   ]
  },
  {
   "cell_type": "code",
   "execution_count": 6,
   "id": "277a7022",
   "metadata": {},
   "outputs": [
    {
     "data": {
      "text/html": [
       "'/nfs/lab/projects/COVID_mouse/log/2023-08-21.03_Scrublet_SamplePrep.log'"
      ],
      "text/latex": [
       "'/nfs/lab/projects/COVID\\_mouse/log/2023-08-21.03\\_Scrublet\\_SamplePrep.log'"
      ],
      "text/markdown": [
       "'/nfs/lab/projects/COVID_mouse/log/2023-08-21.03_Scrublet_SamplePrep.log'"
      ],
      "text/plain": [
       "[1] \"/nfs/lab/projects/COVID_mouse/log/2023-08-21.03_Scrublet_SamplePrep.log\""
      ]
     },
     "metadata": {},
     "output_type": "display_data"
    }
   ],
   "source": [
    "log_open(log.file)"
   ]
  },
  {
   "cell_type": "markdown",
   "id": "30c15aca",
   "metadata": {},
   "source": [
    "# Prepare files for scrublet"
   ]
  },
  {
   "cell_type": "code",
   "execution_count": 8,
   "id": "9b41248e",
   "metadata": {},
   "outputs": [
    {
     "data": {
      "text/html": [
       "<style>\n",
       ".list-inline {list-style: none; margin:0; padding: 0}\n",
       ".list-inline>li {display: inline-block}\n",
       ".list-inline>li:not(:last-child)::after {content: \"\\00b7\"; padding: 0 .5ex}\n",
       "</style>\n",
       "<ol class=list-inline><li>'1_GFP1'</li><li>'10_G1C1'</li><li>'11_G1C2'</li><li>'12_G1C3'</li><li>'2_GFP2'</li><li>'3_GFP3'</li><li>'4_RBD1'</li><li>'5_RBD2'</li><li>'6_RBD3'</li><li>'7_G1B1'</li><li>'8_G1B2'</li><li>'9_G1B3'</li></ol>\n"
      ],
      "text/latex": [
       "\\begin{enumerate*}\n",
       "\\item '1\\_GFP1'\n",
       "\\item '10\\_G1C1'\n",
       "\\item '11\\_G1C2'\n",
       "\\item '12\\_G1C3'\n",
       "\\item '2\\_GFP2'\n",
       "\\item '3\\_GFP3'\n",
       "\\item '4\\_RBD1'\n",
       "\\item '5\\_RBD2'\n",
       "\\item '6\\_RBD3'\n",
       "\\item '7\\_G1B1'\n",
       "\\item '8\\_G1B2'\n",
       "\\item '9\\_G1B3'\n",
       "\\end{enumerate*}\n"
      ],
      "text/markdown": [
       "1. '1_GFP1'\n",
       "2. '10_G1C1'\n",
       "3. '11_G1C2'\n",
       "4. '12_G1C3'\n",
       "5. '2_GFP2'\n",
       "6. '3_GFP3'\n",
       "7. '4_RBD1'\n",
       "8. '5_RBD2'\n",
       "9. '6_RBD3'\n",
       "10. '7_G1B1'\n",
       "11. '8_G1B2'\n",
       "12. '9_G1B3'\n",
       "\n",
       "\n"
      ],
      "text/plain": [
       " [1] \"1_GFP1\"  \"10_G1C1\" \"11_G1C2\" \"12_G1C3\" \"2_GFP2\"  \"3_GFP3\"  \"4_RBD1\" \n",
       " [8] \"5_RBD2\"  \"6_RBD3\"  \"7_G1B1\"  \"8_G1B2\"  \"9_G1B3\" "
      ]
     },
     "metadata": {},
     "output_type": "display_data"
    }
   ],
   "source": [
    "# Load sample list\n",
    "setwd(cell.ranger.dir)\n",
    "sample.ls = dir()\n",
    "sample.ls"
   ]
  },
  {
   "cell_type": "code",
   "execution_count": 9,
   "id": "e04c10bc",
   "metadata": {},
   "outputs": [
    {
     "name": "stdout",
     "output_type": "stream",
     "text": [
      "[1] \"Processing sample:  1_GFP1\"\n",
      "[1] \"Processing sample:  10_G1C1\"\n",
      "[1] \"Processing sample:  11_G1C2\"\n",
      "[1] \"Processing sample:  12_G1C3\"\n",
      "[1] \"Processing sample:  2_GFP2\"\n",
      "[1] \"Processing sample:  3_GFP3\"\n",
      "[1] \"Processing sample:  4_RBD1\"\n",
      "[1] \"Processing sample:  5_RBD2\"\n",
      "[1] \"Processing sample:  6_RBD3\"\n",
      "[1] \"Processing sample:  7_G1B1\"\n",
      "[1] \"Processing sample:  8_G1B2\"\n",
      "[1] \"Processing sample:  9_G1B3\"\n"
     ]
    }
   ],
   "source": [
    "for (i in seq_along(sample.ls)){\n",
    "    gc(reset = TRUE)\n",
    "    # Set sample variable\n",
    "    sample = sample.ls[i]\n",
    "    sample.ID = sample.ls[i]\n",
    "    log_print(paste(\"Processing sample: \", sample))\n",
    "    # Load data\n",
    "    adata <- readRDS(file = paste(step2.dir, sample.ID, \"_SoupX_filt.rds\", sep = \"\"))\n",
    "    \n",
    "    #pull out RNA counts to a separate object and writeMM\n",
    "    DefaultAssay(adata) <- 'RNA'\n",
    "    rna.counts <- GetAssayData(adata,slot='counts')       \n",
    "    file <- paste(step3.dir, sample.ID, \"_matrix.mtx\", sep = \"\")\n",
    "    writeMM(rna.counts, file)\n",
    "    \n",
    "    #also export the gene list    \n",
    "    file <- paste(step3.dir, sample.ID, \"_genes.tsv\", sep = \"\")\n",
    "    write(row.names(rna.counts),file,sep='\\n')\n",
    "    \n",
    "    # (and barcodes just in case) \n",
    "    file <- paste(step3.dir, sample.ID, \"_barcodes.tsv\", sep = \"\")              \n",
    "    write(colnames(rna.counts),file,sep='\\n')                     \n",
    "}"
   ]
  },
  {
   "cell_type": "code",
   "execution_count": null,
   "id": "104cfeee",
   "metadata": {},
   "outputs": [],
   "source": []
  }
 ],
 "metadata": {
  "kernelspec": {
   "display_name": "R",
   "language": "R",
   "name": "ir"
  },
  "language_info": {
   "codemirror_mode": "r",
   "file_extension": ".r",
   "mimetype": "text/x-r-source",
   "name": "R",
   "pygments_lexer": "r",
   "version": "4.3.2"
  },
  "toc": {
   "base_numbering": 1,
   "nav_menu": {},
   "number_sections": true,
   "sideBar": true,
   "skip_h1_title": false,
   "title_cell": "Table of Contents",
   "title_sidebar": "Contents",
   "toc_cell": false,
   "toc_position": {},
   "toc_section_display": true,
   "toc_window_display": false
  }
 },
 "nbformat": 4,
 "nbformat_minor": 5
}
